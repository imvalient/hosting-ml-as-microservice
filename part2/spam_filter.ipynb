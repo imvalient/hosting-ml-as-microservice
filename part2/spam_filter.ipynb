{
 "cells": [
  {
   "cell_type": "markdown",
   "metadata": {},
   "source": [
    "# Step 1: Define the data and classes"
   ]
  },
  {
   "cell_type": "code",
   "execution_count": 3,
   "metadata": {},
   "outputs": [],
   "source": [
    "import os\n",
    "import codecs\n",
    "\n",
    "def read_in(folder):\n",
    "    files = os.listdir(folder)\n",
    "    a_list = []\n",
    "    for a_file in files:\n",
    "        if not a_file.startswith(\".\"):\n",
    "            f = codecs.open(folder + a_file, \"r\", encoding = \"ISO-8859-1\", errors=\"ignore\")\n",
    "            a_list.append(f.read())\n",
    "            f.close()\n",
    "    return a_list"
   ]
  },
  {
   "cell_type": "markdown",
   "metadata": {},
   "source": [
    "## Verify the data is correct"
   ]
  },
  {
   "cell_type": "code",
   "execution_count": 4,
   "metadata": {
    "scrolled": false
   },
   "outputs": [
    {
     "name": "stdout",
     "output_type": "stream",
     "text": [
      "1500\n",
      "3672\n",
      "Subject: urgent message\r\n",
      "Mr francis oma\r\n",
      "Attn: director/ceo,\r\n",
      "A cry for family help.\r\n",
      "I am mr francis oma the first son of the late mr. Peter oma. My father had served mr b. H. Lions who was an irish citizen and a successful farmer in our remote village. My father served him for many years and inherited his farm after his death. My father became an executive member of the farmers association in the western mashonaland province of zimbabwe. He also became a successful businessman, because of the recent uprising in my country and the war veterans and farmers clashing, my father decided that it would be safer if my younger brother and I move to south africa to escape the violence.\r\n",
      "We left zimbabwe with two boxes containing the sum of us $11. 5 m (eleven million, five hundred thousand united states dollars only) and valuables (diamonds) worth us $5 m. My father has instructed us to deposit it with a private security company on our arrival.\r\n",
      "He also instructed me not to reveal the contents of the box to anyone for security reasons and all the documents pertaining to this deposition.\r\n",
      "Barely two months after we moved to johannesburg, we got information that my father' s farm had been invaded and that my parent and most of his workers had been killed. My father' s property and farmland have now been taken over by the war veterans.\r\n",
      "I believe that this has been the work of people who did not like my father because of white owned farms. We could not even attend the funerals of my parents as we also now fear for our dear lives. Our reason for contacting you is to seek for your assistance in providing an overseas bank account where we can transfer this fund. Have in mind that this is a risk free business as we have conclude a modality for the transfer. Your participation gives you 20% of the total sum, 7% for all expense in curred during this business while 73% is for my younger brother and i. The diamond will be discussed at our arrival.\r\n",
      "We do not know much about diamonds or how to invest this money so we will also need your assistance in this regard. We have agreed to give you a share of the money if you are willing to assit us, should this proposal meet your utmost consideration, please do not hesitate to contact my brother or me on the above email address.\r\n",
      "The confidentiality of this proposal cannot be overemphasized as we believe that you will oblige with us the needed security and attention it demands. Please treat this proposal with the utmost regard, and the confidentiality of these business should not be over - emphasised.\r\n",
      "Please response on this email address; francisoma@ zwallet. Com\r\n",
      "Waiting for your favourable response.\r\n",
      "Thanks and god bless,\r\n",
      "(from mr francis oma).\r\n",
      "- - - - - - - - - - - - - - - -\r\n",
      "Powered by telstra. Com\r\n",
      "\n",
      "Subject: hpl nom for april 3, 2001\r\n",
      "(see attached file: hplno 403. Xls)\r\n",
      "- hplno 403. Xls\n"
     ]
    }
   ],
   "source": [
    "spam_list = read_in(\"enron1/spam/\")\n",
    "ham_list = read_in(\"enron1/ham/\")\n",
    "\n",
    "print(len(spam_list))\n",
    "print(len(ham_list))\n",
    "print(spam_list[0])\n",
    "print(ham_list[0])"
   ]
  },
  {
   "cell_type": "markdown",
   "metadata": {},
   "source": [
    "## Combine data into a single structure"
   ]
  },
  {
   "cell_type": "code",
   "execution_count": 5,
   "metadata": {},
   "outputs": [
    {
     "name": "stdout",
     "output_type": "stream",
     "text": [
      "Dataset size = 5172 emails\n"
     ]
    }
   ],
   "source": [
    "import random\n",
    "\n",
    "all_emails = [(email_content, \"spam\") for email_content in spam_list]\n",
    "all_emails += [(email_content, \"ham\") for email_content in ham_list]\n",
    "\n",
    "random.seed(42)\n",
    "random.shuffle(all_emails)\n",
    "\n",
    "print(\"Dataset size = \" + str(len(all_emails)) + \" emails\")"
   ]
  },
  {
   "cell_type": "markdown",
   "metadata": {},
   "source": [
    "# Step 2: Split the text into words"
   ]
  },
  {
   "cell_type": "code",
   "execution_count": 7,
   "metadata": {},
   "outputs": [
    {
     "name": "stdout",
     "output_type": "stream",
     "text": [
      "['What', \"'s\", 'the', 'best', 'way', 'to', 'split', 'a', 'sentence', 'into', 'words', '?']\n"
     ]
    }
   ],
   "source": [
    "import nltk\n",
    "from nltk import word_tokenize\n",
    "\n",
    "def tokenize(input):\n",
    "    word_list = []\n",
    "    for word in word_tokenize(input):\n",
    "        word_list.append(word)\n",
    "    return word_list\n",
    "\n",
    "input = \"What's the best way to split a sentence into words?\"\n",
    "print(tokenize(input))"
   ]
  },
  {
   "cell_type": "markdown",
   "metadata": {},
   "source": [
    "# Step 3: Extract and normalize the features"
   ]
  },
  {
   "cell_type": "code",
   "execution_count": 8,
   "metadata": {},
   "outputs": [
    {
     "name": "stdout",
     "output_type": "stream",
     "text": [
      "{'participate': True, 'in': True, 'out': True, 'new': True, 'lottery': True, 'now': True, '!': True}\n",
      "5172\n",
      "57\n",
      "131\n"
     ]
    }
   ],
   "source": [
    "def get_features(text):\n",
    "    features = {}\n",
    "    word_list = [word for word in word_tokenize(text.lower())]\n",
    "    for word in word_list:\n",
    "        features[word] = True\n",
    "    return features\n",
    "\n",
    "all_features = [(get_features(email), label) for (email, label) in all_emails]\n",
    "\n",
    "print(get_features(\"Participate In Out New Lottery NOW!\"))\n",
    "print(len(all_features))\n",
    "print(len(all_features[0][0]))\n",
    "print(len(all_features[99][0]))"
   ]
  },
  {
   "cell_type": "markdown",
   "metadata": {},
   "source": [
    "## Code to train a Naïve Bayer classifier"
   ]
  },
  {
   "cell_type": "code",
   "execution_count": 16,
   "metadata": {},
   "outputs": [
    {
     "name": "stdout",
     "output_type": "stream",
     "text": [
      "Training set size = 4137 emails\n",
      "Test set size = 1035 emails\n"
     ]
    }
   ],
   "source": [
    "from nltk import NaiveBayesClassifier, classify\n",
    "\n",
    "def train(features, proportion):\n",
    "    train_size = int(len(features) * proportion)\n",
    "    train_set, test_set = features[:train_size], features[train_size:]\n",
    "    print(\"Training set size = \" + str(len(train_set)) + \" emails\")\n",
    "    print(\"Test set size = \" + str(len(test_set)) + \" emails\")\n",
    "    classifier = NaiveBayesClassifier.train(train_set)\n",
    "    return train_set, test_set, classifier\n",
    "\n",
    "train_set, test_set, classifier = train(all_features, 0.8)"
   ]
  },
  {
   "cell_type": "markdown",
   "metadata": {},
   "source": [
    "# Step 5: Evaluate your classifier"
   ]
  },
  {
   "cell_type": "code",
   "execution_count": 17,
   "metadata": {
    "scrolled": true
   },
   "outputs": [
    {
     "name": "stdout",
     "output_type": "stream",
     "text": [
      "Accuracy on the training set = 0.9627749576988156\n",
      "Accuracy of the test set = 0.9468599033816425\n",
      "Most Informative Features\n",
      "            prescription = True             spam : ham    =    129.3 : 1.0\n",
      "                     nom = True              ham : spam   =    126.6 : 1.0\n",
      "                    pain = True             spam : ham    =     97.2 : 1.0\n",
      "                   cheap = True             spam : ham    =     89.1 : 1.0\n",
      "                    2005 = True             spam : ham    =     87.5 : 1.0\n",
      "                     sex = True             spam : ham    =     85.9 : 1.0\n",
      "                    spam = True             spam : ham    =     85.9 : 1.0\n",
      "                   super = True             spam : ham    =     82.7 : 1.0\n",
      "                     ect = True              ham : spam   =     76.0 : 1.0\n",
      "                  weight = True             spam : ham    =     71.5 : 1.0\n",
      "              nomination = True              ham : spam   =     71.2 : 1.0\n",
      "                  differ = True             spam : ham    =     68.3 : 1.0\n",
      "                featured = True             spam : ham    =     65.1 : 1.0\n",
      "                     ibm = True             spam : ham    =     65.1 : 1.0\n",
      "             medications = True             spam : ham    =     63.4 : 1.0\n",
      "                   risks = True             spam : ham    =     61.8 : 1.0\n",
      "                   adobe = True             spam : ham    =     60.2 : 1.0\n",
      "             subscribers = True             spam : ham    =     60.2 : 1.0\n",
      "                   epson = True             spam : ham    =     57.0 : 1.0\n",
      "                    2001 = True              ham : spam   =     55.8 : 1.0\n",
      "                congress = True             spam : ham    =     55.4 : 1.0\n",
      "             legislation = True             spam : ham    =     55.4 : 1.0\n",
      "                    sony = True             spam : ham    =     53.8 : 1.0\n",
      "                   cisco = True             spam : ham    =     53.8 : 1.0\n",
      "                     pro = True             spam : ham    =     52.2 : 1.0\n",
      "                 dealers = True             spam : ham    =     52.2 : 1.0\n",
      "                  sexual = True             spam : ham    =     50.6 : 1.0\n",
      "                      cc = True              ham : spam   =     49.8 : 1.0\n",
      "                  unique = True             spam : ham    =     49.0 : 1.0\n",
      "                conflict = True             spam : ham    =     49.0 : 1.0\n",
      "                inherent = True             spam : ham    =     49.0 : 1.0\n",
      "                   vance = True              ham : spam   =     47.5 : 1.0\n",
      "                     tap = True              ham : spam   =     46.6 : 1.0\n",
      "                deciding = True             spam : ham    =     45.8 : 1.0\n",
      "                   penis = True             spam : ham    =     45.8 : 1.0\n",
      "                  health = True             spam : ham    =     45.8 : 1.0\n",
      "                powerful = True             spam : ham    =     44.2 : 1.0\n",
      "                 doctors = True             spam : ham    =     44.2 : 1.0\n",
      "                      ex = True             spam : ham    =     42.9 : 1.0\n",
      "                   julie = True              ham : spam   =     41.9 : 1.0\n",
      "                 advises = True             spam : ham    =     41.0 : 1.0\n",
      "               investing = True             spam : ham    =     41.0 : 1.0\n",
      "                    lisa = True              ham : spam   =     39.7 : 1.0\n",
      "                      wi = True             spam : ham    =     39.4 : 1.0\n",
      "                     mix = True             spam : ham    =     39.4 : 1.0\n",
      "                     tom = True              ham : spam   =     38.3 : 1.0\n",
      "                     ali = True             spam : ham    =     38.1 : 1.0\n",
      "                   steve = True              ham : spam   =     37.8 : 1.0\n",
      "                      se = True             spam : ham    =     37.7 : 1.0\n",
      "                  proven = True             spam : ham    =     37.7 : 1.0\n"
     ]
    }
   ],
   "source": [
    "def evaluate(train_set, test_set, classifier):\n",
    "    print(\"Accuracy on the training set = \" + str(classify.accuracy(classifier, train_set)))\n",
    "    print(\"Accuracy of the test set = \" + str(classify.accuracy(classifier, test_set)))\n",
    "    classifier.show_most_informative_features(50)\n",
    "\n",
    "evaluate(train_set, test_set, classifier)"
   ]
  },
  {
   "cell_type": "markdown",
   "metadata": {},
   "source": [
    "## Code to check the contexts of specific words"
   ]
  },
  {
   "cell_type": "code",
   "execution_count": 18,
   "metadata": {
    "scrolled": true
   },
   "outputs": [
    {
     "name": "stdout",
     "output_type": "stream",
     "text": [
      "STOCKS in HAM:\n",
      "Displaying 1 of 1 matches:\n",
      "ad my portfolio is diversified into stocks that have lost even more money than\n",
      "Displaying 1 of 1 matches:\n",
      "ur member directory . * follow your stocks and news headlines , exchange files\n",
      "Displaying 1 of 1 matches:\n",
      "ur member directory . * follow your stocks and news headlines , exchange files\n",
      "Displaying 1 of 1 matches:\n",
      "ur member directory . * follow your stocks and news headlines , exchange files\n",
      "\n",
      "\n",
      "STOCKS in SPAM:\n",
      "Displaying 1 of 1 matches:\n",
      "ecializing in undervalued small cap stocks for immediate breakout erhc and exx\n",
      "Displaying 3 of 3 matches:\n",
      "torage inc. play of the week tracks stocks on downward trends , foresees botto\n",
      "his email pertaining to investing , stocks , securities must be understood as \n",
      "ntative before deciding to trade in stocks featured within this email . none o\n",
      "Displaying 3 of 3 matches:\n",
      "might occur . as with many microcap stocks , today ' s company has additiona |\n",
      "his email pertaining to investing , stocks , securities must be understood as \n",
      "ntative before deciding to trade in stocks featured within this email . none o\n",
      "Displaying 1 of 1 matches:\n",
      "cautions that small and micro - cap stocks are high - risk investments and tha\n",
      "Displaying 3 of 3 matches:\n",
      " statements . as with many microcap stocks , todays company has additional ris\n",
      "blication pertaining to investing , stocks , securities must be understood as \n",
      "ntative before deciding to trade in stocks featured within this publication . \n",
      "Displaying 5 of 5 matches:\n",
      "ck monday some of these littie voip stocks have been really moving lately . an\n",
      "t can happen with these sma | | cap stocks when they take off . and it happens\n",
      " statements . as with many microcap stocks , today ' s company has additiona |\n",
      "is report pertaining to investing , stocks , securities must be understood as \n",
      "ntative before deciding to trade in stocks featured within this report . none \n",
      "Displaying 1 of 1 matches:\n",
      " one trade monday ! go wysk . penny stocks are considered highiy specuiative a\n",
      "Displaying 2 of 2 matches:\n",
      "his email pertaining to investing , stocks , securities must be understood as \n",
      "ntative before deciding to trade in stocks featured within this email . none o\n",
      "Displaying 3 of 3 matches:\n",
      "report reveals this smallcap rocket stocks newsletter first we would like to s\n",
      "his email pertaining to investing , stocks , securities must be understood as \n",
      "ntative before deciding to trade in stocks featured within this email . none o\n",
      "Displaying 1 of 1 matches:\n",
      "ne trade thursday ! go fcdh . penny stocks are considered highiy specuiative a\n",
      "Displaying 1 of 1 matches:\n",
      "subject : fwd : screw doctors . stocks available . vlagr @ . x _ a _ nax .\n",
      "Displaying 4 of 4 matches:\n",
      "nt opportunity drummond , small cap stocks alert newsletter must read - alert \n",
      "his email pertaining to investing , stocks , securities must be understood as \n",
      "ntative before deciding to trade in stocks featured within this email . none o\n",
      " lose money from investing in penny stocks . - - - - - - - - - - - - - - - - -\n",
      "Displaying 5 of 5 matches:\n",
      "hursday ! some of these littie voip stocks have been realiy moving lateiy . an\n",
      "t can happen with these sma | | cap stocks when they take off . and it happens\n",
      " statements . as with many microcap stocks , today ' s company has additiona |\n",
      "is report pertaining to investing , stocks , securities must be understood as \n",
      "ntative before deciding to trade in stocks featured within this report . none \n",
      "Displaying 1 of 1 matches:\n",
      "in apple investments , inc profiled stocks . in order to be in full compliance\n",
      "Displaying 2 of 2 matches:\n",
      " the last 12 months , many of these stocks made tripie and even quadruple retu\n",
      "one trade tuesday ! go mogi . penny stocks are considered highly speculative a\n",
      "Displaying 4 of 4 matches:\n",
      "his email pertaining to investing , stocks , securities must be understood as \n",
      "ntative before deciding to trade in stocks featured within this email . none o\n",
      "eep in mind that when trading small stocks like the company above there is a c\n",
      "t professional before investing any stocks or mutual funds .\n",
      "Displaying 1 of 1 matches:\n",
      " one trade monday ! go wysk . penny stocks are considered highiy speculative a\n",
      "Displaying 2 of 2 matches:\n",
      "ims and do your own due diligence . stocks to play ( s 2 p ) profiles are not \n",
      "s obtained . investing in micro cap stocks is extremely risky and , investors \n",
      "Displaying 4 of 4 matches:\n",
      "hree days . play of the week tracks stocks on downward trends , foresees botto\n",
      "mark is our uncanny ability to spot stocks that have bottomed - out and antici\n",
      "ound and upward trend . most of the stocks we track rebound and peak within ju\n",
      "om third party . investing in penny stocks is high risk and you should seek pr\n",
      "Displaying 2 of 2 matches:\n",
      " % on regular price we have massive stocks of drugs for same day dispatch fast\n",
      "e do have the lowest price and huge stocks ready for same - day dispatch . two\n",
      "Displaying 1 of 1 matches:\n",
      "the | ast 12 months , many of these stocks made triple and even quadruple retu\n",
      "Displaying 3 of 3 matches:\n",
      "might occur . as with many microcap stocks , today ' s company has additional \n",
      "is emai | pertaining to investing , stocks , securities must be understood as \n",
      "ntative before deciding to trade in stocks featured within this emai | . none \n",
      "Displaying 2 of 2 matches:\n",
      "his email pertaining to investing , stocks , securities must be understood as \n",
      "ntative before deciding to trade in stocks featured within this email . none o\n",
      "Displaying 6 of 6 matches:\n",
      " if you knew about these low priced stocks : otcbb : zapz : closed march 31 st\n",
      " following points : * many of these stocks are undiscovered and uncovered ! wh\n",
      " ! ! * * many of these undiscovered stocks are like coiled springs , wound tig\n",
      "might occur . as with many microcap stocks , today ' s company has additional \n",
      "his email pertaining to investing , stocks , securities must be understood as \n",
      "ntative before deciding to trade in stocks featured within this email . none o\n",
      "Displaying 1 of 1 matches:\n",
      "cautions that small and micro - cap stocks are high - risk investments and tha\n",
      "Displaying 2 of 2 matches:\n",
      "ck monday some of these little voip stocks have been realiy moving lately . an\n",
      " one trade monday ! go ypil . penny stocks are considered highiy specuiative a\n",
      "Displaying 2 of 2 matches:\n",
      "subject : penny stocks are about timing nomad internationa\n",
      " one trade friday ! go ndin . penny stocks are considered highiy speculative a\n",
      "Displaying 4 of 4 matches:\n",
      "tion is key to stock success rocket stocks newsletter u r g e n t i n v e s t \n",
      "ht occur . as with many micro - cap stocks , today ' s company has additional \n",
      "his email pertaining to investing , stocks , securities must be understood as \n",
      "ntative before deciding to trade in stocks featured within this email . none o\n",
      "Displaying 2 of 2 matches:\n",
      "is emai | pertaining to investing , stocks , securities must be understood as \n",
      "ntative before deciding to trade in stocks featured within this email . none o\n",
      "Displaying 2 of 2 matches:\n",
      "his email pertaining to investing , stocks , securities must be understood as \n",
      "ntative before deciding to trade in stocks featured within this emai | . none \n",
      "Displaying 1 of 1 matches:\n",
      " the last 12 months , many of these stocks made tripie and even quadruple retu\n",
      "Displaying 4 of 4 matches:\n",
      "n this stock . some of these smal | stocks are absoiuteiy fiying , as many of \n",
      " statements . as with many microcap stocks , todays company has additional ris\n",
      "biication pertaining to investing , stocks , securities must be understood as \n",
      "ntative before deciding to trade in stocks featured within this publication . \n",
      "Displaying 4 of 4 matches:\n",
      "watch this one trade . these little stocks can surprise in a big way sometimes\n",
      "might occur . as with many microcap stocks , today ' s company has additional \n",
      "his email pertaining to investing , stocks , securities must be understood as \n",
      "ntative before deciding to trade in stocks featured within this email . none o\n",
      "Displaying 4 of 4 matches:\n",
      "k tuesday some of these littie voip stocks have been reaily moving lateiy . an\n",
      " statements . as with many microcap stocks , today ' s company has additional \n",
      "is report pertaining to investing , stocks , securities must be understood as \n",
      "ntative before deciding to trade in stocks featured within this report . none \n"
     ]
    },
    {
     "name": "stdout",
     "output_type": "stream",
     "text": [
      "Displaying 3 of 3 matches:\n",
      " statements . as with many microcap stocks , today ' s company has additiona |\n",
      "is report pertaining to investing , stocks , securities must be understood as \n",
      "ntative before deciding to trade in stocks featured within this report . none \n",
      "Displaying 2 of 2 matches:\n",
      " % on regular price we have massive stocks of drugs for same day dispatch fast\n",
      "e do have the lowest price and huge stocks ready for same - day dispatch . two\n",
      "Displaying 3 of 3 matches:\n",
      "n how many times have you seen good stocks but you couldn ' t get your hands o\n",
      "his email pertaining to investing , stocks , securities must be understood as \n",
      "ntative before deciding to trade in stocks featured within this email . none o\n",
      "Displaying 2 of 2 matches:\n",
      "ng their gains . select gold mining stocks are the hot flyers of the otc . his\n",
      "is letter cautions that micro - cap stocks are high - risk investments and tha\n",
      "Displaying 1 of 1 matches:\n",
      "or information puposes only . penny stocks are considered highly speculative a\n",
      "Displaying 2 of 2 matches:\n",
      "his email pertaining to investing , stocks , securities must be understood as \n",
      "ntative before deciding to trade in stocks featured within this email . none o\n",
      "Displaying 2 of 2 matches:\n",
      "rt identifying defense and security stocks ready to explode look at the moves \n",
      " actual exchanges where small - cap stocks are traded . silica stopband doorkn\n",
      "Displaying 4 of 4 matches:\n",
      "ck monday some of these little voip stocks have been rea | | y moving lately .\n",
      " statements . as with many microcap stocks , today ' s company has additiona |\n",
      "is report pertaining to investing , stocks , securities must be understood as \n",
      "ntative before deciding to trade in stocks featured within this report . none \n",
      "Displaying 2 of 2 matches:\n",
      " % on regular price we have massive stocks of drugs for same day dispatch fast\n",
      "e do have the lowest price and huge stocks ready for same - day dispatch . two\n",
      "Displaying 1 of 1 matches:\n",
      "s obtained . investing in micro cap stocks is extremely risky and , investors \n",
      "Displaying 3 of 3 matches:\n",
      " statements . as with many microcap stocks , todays company has additional ris\n",
      "blication pertaining to investing , stocks , securities must be understood as \n",
      "ntative before deciding to trade in stocks featured within this publication . \n",
      "Displaying 3 of 3 matches:\n",
      "might occur . as with many microcap stocks , today ' s company has additiona |\n",
      "is emai | pertaining to investing , stocks , securities must be understood as \n",
      "ntative before deciding to trade in stocks featured within this email . none o\n",
      "Displaying 1 of 1 matches:\n",
      "fessionally not multi - level - not stocks - not real estate no cost tele - se\n",
      "Displaying 1 of 1 matches:\n",
      " receive first notice on run - away stocks traders ' monthly alert january pic\n",
      "Displaying 1 of 1 matches:\n",
      " one trade monday ! go wysk . penny stocks are considered highiy specuiative a\n",
      "Displaying 2 of 2 matches:\n",
      "ck monday some of these little voip stocks have been really moving lately . an\n",
      " one trade monday ! go ypil . penny stocks are considered highiy specuiative a\n",
      "Displaying 4 of 4 matches:\n",
      "y agree , some , not all , of these stocks move in price because they are prom\n",
      "tands or that as with many microcap stocks , today ' s company has additional \n",
      "is report pertaining to investing , stocks , securities must be understood as \n",
      "ntative before deciding to trade in stocks featured within this report . none \n",
      "Displaying 5 of 5 matches:\n",
      "5 where were you when the following stocks exploded : scos : exploded from . 3\n",
      "d . 80 on friday . face it . little stocks can mean big gains for you . this r\n",
      "might occur . as with many microcap stocks , today ' s company has additional \n",
      "his email pertaining to investing , stocks , securities must be understood as \n",
      "ntative before deciding to trade in stocks featured within this report . none \n",
      "Displaying 3 of 3 matches:\n",
      "might occur . as with many microcap stocks , today ' s company has additiona |\n",
      "is emai | pertaining to investing , stocks , securities must be understood as \n",
      "ntative before deciding to trade in stocks featured within this email . none o\n",
      "Displaying 4 of 4 matches:\n",
      " the last 12 months , many of these stocks made triple and even quadruple retu\n",
      " statements . as with many microcap stocks , today ' s company has additiona |\n",
      "is report pertaining to investing , stocks , securities must be understood as \n",
      "ntative before deciding to trade in stocks featured within this report . none \n",
      "Displaying 2 of 2 matches:\n",
      "his email pertaining to investing , stocks , securities must be understood as \n",
      "ntative before deciding to trade in stocks featured within this email . none o\n",
      "Displaying 3 of 3 matches:\n",
      "his email pertaining to investing , stocks , securities must be understood as \n",
      "ntative before deciding to trade in stocks featured within this email . none o\n",
      " lose money from investing in penny stocks . if you wish to stop future mailin\n",
      "Displaying 1 of 1 matches:\n",
      "dge - ksige are you tired of buying stocks and not having them perform ? our s\n",
      "Displaying 4 of 4 matches:\n",
      "his email pertaining to investing , stocks , securities must be understood as \n",
      "ntative before deciding to trade in stocks featured within this email . none o\n",
      "eep in mind that when trading small stocks like the company above there is a c\n",
      "t professional before investing any stocks or mutual funds .\n",
      "Displaying 3 of 3 matches:\n",
      "ancements but may be one of the few stocks left in this industry group that is\n",
      "his email pertaining to investing , stocks , securities must be understood as \n",
      "ntative before deciding to trade in stocks featured within this email . none o\n",
      "Displaying 3 of 3 matches:\n",
      " plays . widespread gains in energy stocks are inflating the portfolios of agg\n",
      "st levels of the year , with energy stocks outperforming all other market sect\n",
      "utions that sma | | and micro - cap stocks are high - risk investments and tha\n",
      "Displaying 6 of 6 matches:\n",
      "hem : ( big money was made in these stocks by savvy investors who timed them r\n",
      "g filthy , stinking ri ' ch in tiny stocks no one has ever heard of until now \n",
      "ynamic things . some of these small stocks have absolutely exploded in price r\n",
      "'' occur . as with many micro - cap stocks , today ' s company has additional \n",
      " ema - il pertaining to investing , stocks or securities must be understood as\n",
      "ntative before deciding to trade in stocks featured within this ema - il . non\n",
      "Displaying 1 of 1 matches:\n",
      "scovering value in natural resource stocks elgin resources ( elr - tsx ) extra\n",
      "Displaying 1 of 1 matches:\n",
      " one trade monday ! go ndin . penny stocks are considered highly speculative a\n",
      "Displaying 1 of 1 matches:\n",
      "_ _ _ _ _ _ _ _ _ _ _ _ _ _ penny - stocks are considered highly speculative a\n",
      "Displaying 3 of 3 matches:\n",
      "5 how many times have you seen good stocks but you couldn ' t get your hands o\n",
      "his email pertaining to investing , stocks , securities must be understood as \n",
      "ntative before deciding to trade in stocks featured within this email . none o\n",
      "Displaying 3 of 3 matches:\n",
      "might occur . as with many microcap stocks , today ' s company has additiona |\n",
      "is emai | pertaining to investing , stocks , securities must be understood as \n",
      "ntative before deciding to trade in stocks featured within this emai | . none \n"
     ]
    }
   ],
   "source": [
    "from nltk.text import Text\n",
    "\n",
    "def concordance(data_list, search_word):\n",
    "    for email in data_list:\n",
    "        word_list = [word for word in word_tokenize(email.lower())]\n",
    "        text_list = Text(word_list)\n",
    "        if search_word in word_list:\n",
    "            text_list.concordance(search_word)\n",
    "\n",
    "print(\"STOCKS in HAM:\")\n",
    "concordance(ham_list, \"stocks\")\n",
    "print(\"\\n\\nSTOCKS in SPAM:\")\n",
    "concordance(spam_list, \"stocks\")"
   ]
  },
  {
   "cell_type": "markdown",
   "metadata": {},
   "source": [
    "# REDDIT Project"
   ]
  },
  {
   "cell_type": "code",
   "execution_count": 21,
   "metadata": {
    "scrolled": false
   },
   "outputs": [
    {
     "name": "stderr",
     "output_type": "stream",
     "text": [
      "[nltk_data] Downloading package punkt to /home/imanol/nltk_data...\n",
      "[nltk_data]   Package punkt is already up-to-date!\n",
      "[nltk_data] Downloading package stopwords to /home/imanol/nltk_data...\n",
      "[nltk_data]   Package stopwords is already up-to-date!\n"
     ]
    },
    {
     "data": {
      "text/plain": [
       "True"
      ]
     },
     "execution_count": 21,
     "metadata": {},
     "output_type": "execute_result"
    }
   ],
   "source": [
    "import nltk\n",
    "\n",
    "nltk.download('punkt')\n",
    "nltk.download('stopwords')"
   ]
  },
  {
   "cell_type": "markdown",
   "metadata": {},
   "source": [
    "## Setting up SQLite database and Reddit API client"
   ]
  },
  {
   "cell_type": "code",
   "execution_count": 49,
   "metadata": {
    "scrolled": true
   },
   "outputs": [
    {
     "name": "stdout",
     "output_type": "stream",
     "text": [
      "***** TOPIC:fevs7x ****COMPLETE: 1.0% ***\n",
      "***** TOPIC:feq8xe ****COMPLETE: 2.0% ***\n",
      "***** TOPIC:fereer ****COMPLETE: 3.0% ***\n",
      "***** TOPIC:fe2zlj ****COMPLETE: 4.0% ***\n",
      "***** TOPIC:fe3kx4 ****COMPLETE: 5.0% ***\n",
      "***** TOPIC:fdfcx1 ****COMPLETE: 6.0% ***\n",
      "***** TOPIC:fd851w ****COMPLETE: 8.0% ***\n",
      "***** TOPIC:fdacnm ****COMPLETE: 9.0% ***\n",
      "***** TOPIC:fcnm3a ****COMPLETE: 10.0% ***\n",
      "***** TOPIC:fcg4le ****COMPLETE: 11.0% ***\n",
      "***** TOPIC:fcixec ****COMPLETE: 12.0% ***\n",
      "***** TOPIC:fc401v ****COMPLETE: 13.0% ***\n",
      "***** TOPIC:fbo2bv ****COMPLETE: 15.0% ***\n",
      "***** TOPIC:fauraj ****COMPLETE: 16.0% ***\n",
      "***** TOPIC:fb88hc ****COMPLETE: 17.0% ***\n",
      "***** TOPIC:fafv6w ****COMPLETE: 18.0% ***\n",
      "***** TOPIC:fauuzt ****COMPLETE: 19.0% ***\n",
      "***** TOPIC:fanv6r ****COMPLETE: 20.0% ***\n",
      "***** TOPIC:fak4k0 ****COMPLETE: 21.0% ***\n",
      "***** TOPIC:fagiki ****COMPLETE: 22.0% ***\n",
      "***** TOPIC:f9qtz8 ****COMPLETE: 23.0% ***\n",
      "***** TOPIC:f9lx01 ****COMPLETE: 24.0% ***\n",
      "***** TOPIC:f8tmxa ****COMPLETE: 25.0% ***\n",
      "***** TOPIC:f8we53 ****COMPLETE: 26.0% ***\n",
      "***** TOPIC:f8xzb9 ****COMPLETE: 27.0% ***\n",
      "***** TOPIC:f89pvl ****COMPLETE: 30.0% ***\n",
      "***** TOPIC:f7siky ****COMPLETE: 31.0% ***\n",
      "***** TOPIC:f7cxvp ****COMPLETE: 32.0% ***\n",
      "***** TOPIC:f756be ****COMPLETE: 33.0% ***\n",
      "***** TOPIC:f6zvhq ****COMPLETE: 34.0% ***\n",
      "***** TOPIC:f6kwjg ****COMPLETE: 35.0% ***\n",
      "***** TOPIC:f5tdoa ****COMPLETE: 36.0% ***\n",
      "***** TOPIC:f5d3nk ****COMPLETE: 37.0% ***\n",
      "***** TOPIC:f615y4 ****COMPLETE: 38.0% ***\n",
      "***** TOPIC:f5ugh2 ****COMPLETE: 39.0% ***\n",
      "***** TOPIC:f5m2zy ****COMPLETE: 40.0% ***\n",
      "***** TOPIC:f4sji2 ****COMPLETE: 41.0% ***\n",
      "***** TOPIC:f480ym ****COMPLETE: 42.0% ***\n",
      "***** TOPIC:f43a07 ****COMPLETE: 43.0% ***\n",
      "***** TOPIC:f432yz ****COMPLETE: 44.0% ***\n",
      "***** TOPIC:f3u93i ****COMPLETE: 45.0% ***\n",
      "***** TOPIC:f3p6s0 ****COMPLETE: 46.0% ***\n",
      "***** TOPIC:f35k52 ****COMPLETE: 47.0% ***\n",
      "***** TOPIC:f35nac ****COMPLETE: 48.0% ***\n",
      "***** TOPIC:f33450 ****COMPLETE: 49.0% ***\n",
      "***** TOPIC:f2yx38 ****COMPLETE: 50.0% ***\n",
      "***** TOPIC:f2vkds ****COMPLETE: 51.0% ***\n",
      "***** TOPIC:f27dk4 ****COMPLETE: 52.0% ***\n",
      "***** TOPIC:f22pqp ****COMPLETE: 53.0% ***\n",
      "***** TOPIC:f1ar0w ****COMPLETE: 54.0% ***\n",
      "***** TOPIC:f01i5w ****COMPLETE: 59.0% ***\n",
      "***** TOPIC:ezkojj ****COMPLETE: 60.0% ***\n",
      "***** TOPIC:ez7mxi ****COMPLETE: 61.0% ***\n",
      "***** TOPIC:eyxlip ****COMPLETE: 62.0% ***\n",
      "***** TOPIC:eyfyzu ****COMPLETE: 63.0% ***\n",
      "***** TOPIC:eyaris ****COMPLETE: 64.0% ***\n",
      "***** TOPIC:exx80d ****COMPLETE: 65.0% ***\n",
      "***** TOPIC:exx4ub ****COMPLETE: 66.0% ***\n",
      "***** TOPIC:ewclwr ****COMPLETE: 67.0% ***\n",
      "***** TOPIC:ewikbk ****COMPLETE: 68.0% ***\n",
      "***** TOPIC:ewa0a8 ****COMPLETE: 69.0% ***\n",
      "***** TOPIC:evlf7i ****COMPLETE: 70.0% ***\n",
      "***** TOPIC:evkd7b ****COMPLETE: 71.0% ***\n",
      "***** TOPIC:ev6jzg ****COMPLETE: 72.0% ***\n",
      "***** TOPIC:eux4eo ****COMPLETE: 73.0% ***\n",
      "***** TOPIC:eup6h8 ****COMPLETE: 74.0% ***\n",
      "***** TOPIC:eulfq9 ****COMPLETE: 75.0% ***\n",
      "***** TOPIC:eujkoy ****COMPLETE: 76.0% ***\n",
      "***** TOPIC:etx31m ****COMPLETE: 77.0% ***\n",
      "***** TOPIC:ety5q1 ****COMPLETE: 78.0% ***\n",
      "***** TOPIC:et550x ****COMPLETE: 79.0% ***\n",
      "***** TOPIC:et1jcm ****COMPLETE: 80.0% ***\n",
      "***** TOPIC:esnode ****COMPLETE: 81.0% ***\n",
      "***** TOPIC:erxsc4 ****COMPLETE: 82.0% ***\n",
      "***** TOPIC:ervi90 ****COMPLETE: 83.0% ***\n",
      "***** TOPIC:erfcz9 ****COMPLETE: 84.0% ***\n",
      "***** TOPIC:eqmzcb ****COMPLETE: 85.0% ***\n",
      "***** TOPIC:epli4n ****COMPLETE: 86.0% ***\n",
      "***************************\n",
      "INSERTING DATA INTO SQLITE\n",
      "INSERTED TOPICS\n",
      "INSERTED COMMENTS\n",
      "***** TOPIC:ff11o1 ****COMPLETE: 1.0% ***\n",
      "***** TOPIC:fdvzjv ****COMPLETE: 2.0% ***\n",
      "***** TOPIC:fd8qpq ****COMPLETE: 3.0% ***\n",
      "***** TOPIC:fdknnf ****COMPLETE: 4.0% ***\n",
      "***** TOPIC:fd4dov ****COMPLETE: 5.0% ***\n",
      "***** TOPIC:fcx5sv ****COMPLETE: 6.0% ***\n",
      "***** TOPIC:fbi0m5 ****COMPLETE: 8.0% ***\n",
      "***** TOPIC:fb813l ****COMPLETE: 9.0% ***\n",
      "***** TOPIC:fach2z ****COMPLETE: 10.0% ***\n",
      "***** TOPIC:f9t4pu ****COMPLETE: 11.0% ***\n",
      "***** TOPIC:f9evk5 ****COMPLETE: 12.0% ***\n",
      "***** TOPIC:f92ahu ****COMPLETE: 13.0% ***\n",
      "***** TOPIC:f89lqq ****COMPLETE: 15.0% ***\n",
      "***** TOPIC:f7mbys ****COMPLETE: 16.0% ***\n",
      "***** TOPIC:f789is ****COMPLETE: 17.0% ***\n",
      "***** TOPIC:f719hm ****COMPLETE: 18.0% ***\n",
      "***** TOPIC:f6itcc ****COMPLETE: 19.0% ***\n",
      "***** TOPIC:f507w9 ****COMPLETE: 20.0% ***\n",
      "***** TOPIC:f5372u ****COMPLETE: 21.0% ***\n",
      "***** TOPIC:f4wupk ****COMPLETE: 22.0% ***\n",
      "***** TOPIC:f3x3da ****COMPLETE: 23.0% ***\n",
      "***** TOPIC:f45cri ****COMPLETE: 24.0% ***\n",
      "***** TOPIC:f2uly0 ****COMPLETE: 25.0% ***\n",
      "***** TOPIC:f34bev ****COMPLETE: 26.0% ***\n",
      "***** TOPIC:f29i38 ****COMPLETE: 27.0% ***\n",
      "***** TOPIC:f00hp3 ****COMPLETE: 30.0% ***\n",
      "***** TOPIC:ezxqv0 ****COMPLETE: 31.0% ***\n",
      "***** TOPIC:ezv5fg ****COMPLETE: 32.0% ***\n",
      "***** TOPIC:ez42w6 ****COMPLETE: 33.0% ***\n",
      "***** TOPIC:ey9pjx ****COMPLETE: 34.0% ***\n",
      "***** TOPIC:eynf8e ****COMPLETE: 35.0% ***\n",
      "***** TOPIC:exzrkg ****COMPLETE: 36.0% ***\n",
      "***** TOPIC:exigsz ****COMPLETE: 37.0% ***\n",
      "***** TOPIC:ewq8ic ****COMPLETE: 38.0% ***\n",
      "***** TOPIC:ewlpnx ****COMPLETE: 39.0% ***\n",
      "***** TOPIC:ew56he ****COMPLETE: 40.0% ***\n",
      "***** TOPIC:evs96i ****COMPLETE: 41.0% ***\n",
      "***** TOPIC:evjwm5 ****COMPLETE: 42.0% ***\n",
      "***** TOPIC:ev42nk ****COMPLETE: 43.0% ***\n",
      "***** TOPIC:etsris ****COMPLETE: 44.0% ***\n",
      "***** TOPIC:eu0dti ****COMPLETE: 45.0% ***\n",
      "***** TOPIC:etjd2y ****COMPLETE: 46.0% ***\n",
      "***** TOPIC:et0wdq ****COMPLETE: 47.0% ***\n",
      "***** TOPIC:et2hhy ****COMPLETE: 48.0% ***\n",
      "***** TOPIC:errlue ****COMPLETE: 49.0% ***\n",
      "***** TOPIC:es2uil ****COMPLETE: 50.0% ***\n",
      "***** TOPIC:erkeqo ****COMPLETE: 51.0% ***\n",
      "***************************\n",
      "INSERTING DATA INTO SQLITE\n",
      "INSERTED TOPICS\n",
      "INSERTED COMMENTS\n"
     ]
    }
   ],
   "source": [
    "import praw\n",
    "import sqlite3\n",
    "\n",
    "conn = sqlite3.connect('reddit.db')\n",
    "c = conn.cursor()\n",
    "\n",
    "c.execute('''DROP TABLE IF EXISTS topics''')\n",
    "c.execute('''DROP TABLE IF EXISTS comments''')\n",
    "c.execute('''CREATE TABLE topics (topicTitle text, topicText text, topicID text, topicCategory text)''')\n",
    "c.execute('''CREATE TABLE comments (commentText text, commentID text, topicTitle text, topicText text, topicID text, topicCategory text)''')\n",
    "\n",
    "user_agent = \"Introducing Data Science Book\"\n",
    "client_id = \"*\"\n",
    "client_secret=\"*\"\n",
    "r = praw.Reddit(user_agent=user_agent, client_id=client_id, client_secret=client_secret)\n",
    "\n",
    "subreddits = ['datascience', 'gameofthrones']\n",
    "\n",
    "limit = 1000\n",
    "\n",
    "def prawGetData(limit, subredditName):\n",
    "    topics = r.subreddit(subredditName).hot(limit=limit)\n",
    "    commentInsert=[]\n",
    "    topicInsert=[]\n",
    "    topicNBR=1\n",
    "    for topic in topics:\n",
    "        if (float(topicNBR)/limit)*100 in range(1, 100):\n",
    "            print('***** TOPIC:' + str(topic.id) + ' ****COMPLETE: ' + str((float(topicNBR)/limit)*100) + '% ***')\n",
    "        topicNBR += 1\n",
    "        try:\n",
    "            topicInsert.append((topic.title, topic.selftext, topic.id, subredditName))\n",
    "        except:\n",
    "            pass\n",
    "        try:\n",
    "            for comment in topic.comments:\n",
    "                commentInsert.append((comment.body, comment.id, topic.title, topic.selftext, topic.id, subredditName))\n",
    "        except:\n",
    "            pass\n",
    "    print('***************************')\n",
    "    print('INSERTING DATA INTO SQLITE')\n",
    "    c.executemany('INSERT INTO topics VALUES (?,?,?,?)', topicInsert)\n",
    "    print('INSERTED TOPICS')\n",
    "    c.executemany('INSERT INTO comments VALUES (?,?,?,?,?,?)', commentInsert)\n",
    "    print('INSERTED COMMENTS')\n",
    "    conn.commit()\n",
    "    \n",
    "\n",
    "for subject in subreddits:\n",
    "    prawGetData(limit=limit, subredditName=subject)"
   ]
  },
  {
   "cell_type": "markdown",
   "metadata": {},
   "source": [
    "## Step 3: Data preparation"
   ]
  },
  {
   "cell_type": "code",
   "execution_count": 50,
   "metadata": {},
   "outputs": [
    {
     "name": "stderr",
     "output_type": "stream",
     "text": [
      "[nltk_data] Downloading package punkt to /home/imanol/nltk_data...\n",
      "[nltk_data]   Package punkt is already up-to-date!\n",
      "[nltk_data] Downloading package stopwords to /home/imanol/nltk_data...\n",
      "[nltk_data]   Package stopwords is already up-to-date!\n"
     ]
    }
   ],
   "source": [
    "import sqlite3\n",
    "import nltk\n",
    "import matplotlib.pyplot as plt\n",
    "from collections import OrderedDict\n",
    "import random\n",
    "\n",
    "nltk.download('punkt')\n",
    "nltk.download('stopwords')\n",
    "\n",
    "conn = sqlite3.connect('reddit.db')\n",
    "c = conn.cursor()"
   ]
  },
  {
   "cell_type": "code",
   "execution_count": 51,
   "metadata": {},
   "outputs": [],
   "source": [
    "def wordFilter(excluded, wordrow):\n",
    "    filtered = [word for word in wordrow if word not in excluded]\n",
    "    return filtered\n",
    "\n",
    "stopwords = nltk.corpus.stopwords.words('english')\n",
    "\n",
    "def lowerCaseArray(wordrow):\n",
    "    lowercased = [word.lower() for word in wordrow]\n",
    "    return lowercased"
   ]
  },
  {
   "cell_type": "code",
   "execution_count": 53,
   "metadata": {},
   "outputs": [
    {
     "name": "stdout",
     "output_type": "stream",
     "text": [
      "['i', 'me', 'my', 'myself', 'we', 'our', 'ours', 'ourselves', 'you', \"you're\", \"you've\", \"you'll\", \"you'd\", 'your', 'yours', 'yourself', 'yourselves', 'he', 'him', 'his', 'himself', 'she', \"she's\", 'her', 'hers', 'herself', 'it', \"it's\", 'its', 'itself', 'they', 'them', 'their', 'theirs', 'themselves', 'what', 'which', 'who', 'whom', 'this', 'that', \"that'll\", 'these', 'those', 'am', 'is', 'are', 'was', 'were', 'be', 'been', 'being', 'have', 'has', 'had', 'having', 'do', 'does', 'did', 'doing', 'a', 'an', 'the', 'and', 'but', 'if', 'or', 'because', 'as', 'until', 'while', 'of', 'at', 'by', 'for', 'with', 'about', 'against', 'between', 'into', 'through', 'during', 'before', 'after', 'above', 'below', 'to', 'from', 'up', 'down', 'in', 'out', 'on', 'off', 'over', 'under', 'again', 'further', 'then', 'once', 'here', 'there', 'when', 'where', 'why', 'how', 'all', 'any', 'both', 'each', 'few', 'more', 'most', 'other', 'some', 'such', 'no', 'nor', 'not', 'only', 'own', 'same', 'so', 'than', 'too', 'very', 's', 't', 'can', 'will', 'just', 'don', \"don't\", 'should', \"should've\", 'now', 'd', 'll', 'm', 'o', 're', 've', 'y', 'ain', 'aren', \"aren't\", 'couldn', \"couldn't\", 'didn', \"didn't\", 'doesn', \"doesn't\", 'hadn', \"hadn't\", 'hasn', \"hasn't\", 'haven', \"haven't\", 'isn', \"isn't\", 'ma', 'mightn', \"mightn't\", 'mustn', \"mustn't\", 'needn', \"needn't\", 'shan', \"shan't\", 'shouldn', \"shouldn't\", 'wasn', \"wasn't\", 'weren', \"weren't\", 'won', \"won't\", 'wouldn', \"wouldn't\"]\n"
     ]
    }
   ],
   "source": [
    "print(stopwords)"
   ]
  },
  {
   "cell_type": "code",
   "execution_count": 54,
   "metadata": {},
   "outputs": [],
   "source": [
    "def data_processing(sql):\n",
    "    c.execute(sql)\n",
    "    data = {'wordMatrix': [], 'all_words': []}\n",
    "    row = c.fetchone()\n",
    "    while row is not None:\n",
    "        wordrow = nltk.tokenize.word_tokenize(row[0] + \" \" + row[1])\n",
    "        wordrow_lowercased = lowerCaseArray(wordrow)\n",
    "        wordrow_nostopwords = wordFilter(stopwords, wordrow_lowercased)\n",
    "        data['all_words'].extend(wordrow_nostopwords)\n",
    "        data['wordMatrix'].append(wordrow_nostopwords)\n",
    "        row = c.fetchone()\n",
    "    return data\n",
    "\n",
    "subreddits = ['datascience', 'gameofthrones']\n",
    "data = {}\n",
    "for subject in subreddits:\n",
    "    data[subject] = data_processing(sql='''SELECT topicTitle, topicText, topicCategory FROM topics WHERE topicCategory = ''' + \"'\" + subject + \"'\")"
   ]
  },
  {
   "cell_type": "code",
   "execution_count": 58,
   "metadata": {},
   "outputs": [
    {
     "name": "stdout",
     "output_type": "stream",
     "text": [
      "['feature', 'engineering', 'first', ',', 'hyper-parameter', 'tuning', 'first', ',', 'time', '?', 'currently', 'using', 'rf', 'models', ',', 'sure', 'set', 'max', 'depth', 'large', 'number', 'allows', 'features', 'analyzed', 'better', 'way', '?']\n"
     ]
    }
   ],
   "source": [
    "print(data['datascience']['wordMatrix'][10])"
   ]
  },
  {
   "cell_type": "markdown",
   "metadata": {},
   "source": [
    "# Step 4: Data exploration"
   ]
  },
  {
   "cell_type": "code",
   "execution_count": 60,
   "metadata": {},
   "outputs": [
    {
     "data": {
      "image/png": "[encoded data removed]",
      "text/plain": [
       "<Figure size 432x288 with 1 Axes>"
      ]
     },
     "metadata": {
      "needs_background": "light"
     },
     "output_type": "display_data"
    },
    {
     "data": {
      "image/png": "[encoded data removed]",
      "text/plain": [
       "<Figure size 432x288 with 1 Axes>"
      ]
     },
     "metadata": {
      "needs_background": "light"
     },
     "output_type": "display_data"
    }
   ],
   "source": [
    "wordfreqs_cat1 = nltk.FreqDist(data['datascience']['all_words'])\n",
    "plt.hist(wordfreqs_cat1.values(), bins = range(10))\n",
    "plt.show()\n",
    "\n",
    "wordfreqs_cat2 = nltk.FreqDist(data['gameofthrones']['all_words'])\n",
    "plt.hist(wordfreqs_cat2.values(), bins = range(20))\n",
    "plt.show()"
   ]
  },
  {
   "cell_type": "markdown",
   "metadata": {},
   "source": [
    "## Least frequent terms"
   ]
  },
  {
   "cell_type": "code",
   "execution_count": 61,
   "metadata": {},
   "outputs": [
    {
     "name": "stdout",
     "output_type": "stream",
     "text": [
      "['08', 'woefully', 'proud', 'data-prep', 'dbas', 'sped', 'temporary', '*when*', '//selectstarsql.com/', 'higher-order', 'science/ml', 'stricter', 'proving', 'causation', 'star-format', '//www.zipjob.com/blog/star-method-resume/', 'affiliated', 'placed', 'subvert', 'mimic', 'click-velocity', 'time-of-day', 'ip', 'caused', 'damage', 'savings', 'wrongly', 'exposition', 'unnecessary', 'intimately', 'flesh', 'sort-of', 'overload', 'jargon-density', 'eye-ball', 'reject', 'easy-to-understand', 'overworked', 'skim', 'one-liner', 'keyword-density', 'ml-specific', 'unlikely', 'distribute', 'inventory', 'geocoded', 'hot', 'pov', 'scraper', 'season', 'granted', 'paragraphs', 'tripadvisor', 'collecting', \"'scraping\", '1500', 'nonspecific', 'non-classifiable', 'unclassifiable', 'classifiable', 'dumping', 'nonclassifiable', \"'other'\", 'hyper-parameter', 'rf', 'formatting/calculating', 'rarely', 'troubleshooting', 'communicating', 'building/editing', 'imo', 'boils', 'rpi', 'upstate', 'science/consulting', 'modifying', 'skills/courses', 'airline/transportation', 'kid', 'rookie', 'manchester', 'honours', 'criminology', '85', 'competence', 'programmes', 'channel', 'foremost', 'broke', 'evolution', 'animation', 'populations', 'transfer-learning', 'pretrained', 'refresher', 'denver', 'avers', 'refresh', 'coukd', '\\\\-hadoop', 'hive', '\\\\-azure', '\\\\-sql', '\\\\-python', 'operational/setup', 'post-mortem', 'neuralnetwork', 'non-linearity', 'mappings', 'differentiable', 'backpropogation', 'propogating', 'backwards', 'gradients', 'gradientdescent', 'interacting', 'relu', 'continous', 'sigmoid/softmax', 'vanishinggradient', 'converge', 'wisely', 'leakyrelu', 'maxout', 'machinelearning', 'deeplearning', 'gb+', 'unreasonable', 'chunking', 'rewritten', 'stumped', 'excellence', 'transfers', 'revolve', '//cs.illinois.edu/academics/graduate/professional-master-computer-science/online-master-computer-science-data-science', 'lyft', 'intergration', 'charging', '100k/', 'invite', 'qualifying', 'chatwoot', '//github.com/chatwoot/chatwoot', 'pounds', '£5mln', 'upwards', '£12mln', 'co-funding', 'brilliant', 'appropirate', 'brings', '£200,000', 'altogether', 'skills/habits', 'brag', 'reread', 'acquainted', 'skipping', 'snowballing', 'math/stat/cs', 'gloss', 'numbered', 'footnote', 'tags^', 'wikipedia^', 'citation', 'substitute', 'pack', 'minus', 'encounters', 'wrangle', 'helper', 'amongst', 'repetitive', 'tacking', '//www.trifacta.com/', 'commercial', 'built-in', 'glue', 'investment', 'dreaming', 'friendly', 'steep', 'groups/meetups', 'science-oriented', 'meetups', '2.', 'baye', 'clustersd', 'k=2', 'k=3', '//preview.redd.it/94yytp17exk41.png', 'width=608', 's=5ed7d12ff6d171b44383a21d79f5a73e869d52a6', '44', 'shifting', '43', 'convolution', 'magnitudes', '//imgur.com/m6b7uep', 'zoomed-in', '//imgur.com/vrgsbjg', 'explodes', 'hyperparameters', 'behaving', 'optimizer', 'eminent', 'unet', 'seedlings', 'hook', 'seed', '//youtu.be/rslqwnp-dy8', 'programming/development', \"'traditional\", 'math/stats/basic', 'co-op', '//preview.redd.it/2f9b021f2yk41.png', 'width=981', 's=9fa7281ff6785e7158f39814d958957adafb91b8', 'reputable', 'nowhere', 'europe/canada', 'mcgill', 'cgpa', '3.85-3.9', 'waterloo', 'citizen/resident', 'c2', 'french', 'c1', 'doubt', 'jaw', 'dropping', 'france', 'belgium', 'edhec', 'moderate', 'uci', 'humidity', 'windspeed', 'casual', 'psychology', 'productionisation', 'requirements.txt/pipfile/environment.yml', 'runtime', 'repo2docker', '//github.com/jupyter/repo2docker', '//github.com/nteract/papermill', 'serving', 'versioned', 'scheme', 'excessively', 'arduous', 'resonates', 'likewise', 'consumed', 'approval', 'externally', 'timer', 'fast-paced', 'outbreak', 'incidence', 'country/location', '1897', 'appropriately', 'prototype', 'competing', 'winning', 'sales-rep', 'terminologies', 'county/region', 'assigned', 'area/customers', 'rep/sales-rep', 'visits', 'visited', '600', 'statistical/data-science', 'rolled-up', 'territory-month', '2-years', '***sales', 'change***', 'undergone', 'july', '107', '77', 'composite', 'mean-squared', 'formed', '**rep', 'sales**', '***two-tailed', 't-test', '95', 'month-level', 'pivot-point', 'clarification', 'johnson', 'wales', 'georgia', 'techs', 'vast', '28k', 'cs/data/programming', 'jwus', \"'real\", 'neeed', 'moree', 'sleeep', '//preview.redd.it/pc2xgbycark41.png', 's=84d5ad345db5130708697d41ae2acd568150973f', '//preview.redd.it/95iaxbycark41.png', 's=9399a07b278f0c0733e92211f8cf56947b989b4a', 'demography', 'ranting', 'phased', 'brain-teaser/guesstimate', 'brain-teaser', 'tennis', 'canes', 'us.', 'facts', 'citizens', 'cane', 'guys~', 'investigating', 'eluding', 'tv', 'periodic', 'scheduling', 'shitcoins', 'shitty', 'airdrops', 'elections', 'november', 'winner/loser', 'paired', 'cycle', 'vote2020.via.eth', '//etherscan.io/address/vote.via.eth', 'ether', 'noconfidence2020.via.eth', '//etherscan.io/address/noconfidence2020.via.eth', 'distrust', 'trump2020.via.eth', '//etherscan.io/address/trump2020.via.eth', 'biden2020.via.eth', '//etherscan.io/address/biden2020.via.eth', 'sanders2020.via.eth', '//etherscan.io/address/sanders2020.via.eth', 'warren2020.via.eth', '//etherscan.io/address/warren2020.via.eth', 'bloomberg2020', '//etherscan.io/address/bloomberg2020.via.eth', 'drops', 'treated', 'forfeiting/donating/losing', 'poll/vote', 'president', 'proof', 'effected', 'belief', 'participates', 'forfeiture', 'beer', 'pseudo-anonymous', 'ethereum', 'bitcoin', '//en.wikipedia.org/wiki/signalling_theory', 'multi', 'viewable', '//ens.domains', '//ens.domains/', '//myetherwallet.com', '//myetherwallet.com/', 'shittier', 'indifferent', 'controlled', '1shitcoin', '.5shitcoin', 'enforcement', 'crypto', 'ens', 'upfront', 'shitcoin\\\\', 'guarantee', 'wont', 'myshitcoin', 'via.eth', 'svr', 'healthy', '//preview.redd.it/81zmjgw64rk41.png', 's=5fdccbc8cf9da5dfc6fa38c7c610039baf9b8cc7', '//preview.redd.it/lxn4lgw64rk41.png', 's=60bbd26e6f30a8e3f7d37c11ba9c2192a398a6d8', 'impressed', 'q1', 'q2', 'purchasers', 'q3', 'q4', 'betting', 'sued', 'webpage', 'sphere', 'enjoyable', 'science/programming', 'statistics/modeling', 'inverse', 'passible', 'fortran', 'attractive', 'burnt', 'stumbles', 'indicate', '**backend', 'developer**', '**-**', 'essence', '**de/mle', 'staying', '**^', 'tm', 'guts', 'infrastructure/algorithm', 'crappy', 'deployable', 'optimizing', '**quant', 'post-graduate', 'buy/sell', 'managment', 'dashbords', 'analaysis', 'diversify', 'phoenix', 'lucked', 'teachers', 'chalkboard', 'continuing', 'transferred', 'halls', 'masses', 'conducive', 'pycharm/jupyter/', 'atom/', 'spyder/', 'bert/gpt2', 'sequence-to-sequence', 'rewrite', 'upcoming', 'likert', 'pursued', 'overwhelming', 'frames', 'tsting', 'rmit', 'prs', 'soon-to-be', 'freshly', 'minted', 'defend', 'dissertation', 'earnest', 'pings', '*en', 'masse*', '\\\\~2', 'hdf5', 'deprecated', '//preview.redd.it/qbegbfol5jk41.png', 'width=1630', 's=17cb22afc9f5e94614fdb537ed10cd78332ce145', 'statistics/analytics/data', '3.58', 'doesnot', 'ittle', 'uncertain', 'claims', 'thrown', '*what', 'limiting', 'basc', 'low-level', 'thorough', 'matpltlib', 'monthly-payment', 'big-data', 'psychographic', 'microtargeting', 'psychological', 'nudging', 'behavior', 'r/asksocialscience', 'no_', 'product\\\\_price', 'purchase=1', 'no\\\\_purchase=0', 'x1=age', 'x2=gender', 'x3=income', 'x4=product\\\\_price', 'y=either', '35', 'calibrate', 'calibrate_model', 'classifiers', 'calibrating', 'unsolved', 'plug', 'shoot', 'automatically', 'number/chart', 'indicates', 'strength', 'weakness', 'linearity', 'standards/narrative', 'anthos', 'volumes', 'ontap', '//imgur.com/v3uxlgk', 'atleast', 'mid', 'jose', 'portilla', 'incorrect', 'packets', 'questionable', 'aggregation', 'scenes', 'knn', 'about/using', 'promotions', 'sku', 'data/models', 'cronjobs', 'pass/fail', '**select', 'date\\\\_sub', 'handled', 'keen', 'hover', 'tooltip', 'embedded', 'jpg', 'tutorials/nlp', 'guides', 'streamlining', 'medium/large', 'docs', 'stranger', 'extraction/abstraction', 'similarity', 'downweights', '*more', 'inappropriate', 'delete', 'post*\\\\', 'weightage', 'programmers', 'cs/stats/math', 'biotechnology', 'programme', 'committee', 'cutting-edge', 'renowned', '**couple', '*company-aided*', 'us/canada', 'sop', 'fly', 'aleady', 're-writting', '\\\\~80', 'consequent', 'die', 'go/scrape', 'portals', 'mlops', '2012-2018', 'git-like', 'creat', 'displayed', 'intact', 'idiot', 'rounded', '/edit', 'inadequate', 'distorts', 'extensions', 'atom', 'interfaces', 'neither', 'lads', 'mixed-integer', 'water', 'wgi/dci', 'recap', 'empty', 'disable', 'mortality', 'surveys', '61a1', 'bolded', '**formulates', 'determines', 'selects', 'methodology', '**evaluates', 'synthesizes', 'communicates', 'risks', '2.2', 'tactical', 'caf', 'maf', 'manpower/personnel', '**provides', 'commanders', 'makers', 'seeks', 'interacts', 'operationally', '2.3', 'investigate', 'analyzes', 'theories', '**constructs', 'experimental/test', 'devises', 'correlates', 'interprets', 'briefs', 'interdisciplinary', '2.4', '**conducts', 'near-term', 'develops', 'mid-', 'timelines', 'sacrificing', 'theater-strategic', 'tactical-level', 'accomplishment', 'centers', 'aoc', 'decision-making', 'evidence-based', 'missions', 'cross-functional', 'staffs', 'supervision', 'executes', '**2.7', 'builds', 'adapts', 'tailors', 'sciences', 'qualitative', 'self-teach', 'typographical', 'typographic', 'transcribed', 'repeated', 'handwriting', '3720', '4-5', '3120', 'flagged', 'erroneous', 'assembly', '16,0000', 'raising', '*sorry', 'dude', 'screwed', 'way*', 'refrain', 'responding', '*if', 'negotiable', 'crisis', 'pardon', 'infra', 'diminishes', 'eng', 'drifting', 'drifts', 'dan', 'jack', 'trades', 'rephrasing', '2010', 'classroom', 'pressure', 'dreadfully', 'complaints', 'acknowledged', 'utd', 'up-to-date', 'bert-based', '2.x', 'huggingface', 'transformers', '//preview.redd.it/ivljgpg179k41.png', 'width=1280', 's=10009e2bd020325a812098c75db0c70b8149a612', 'heck', '60-minute', '30-minutes', 'friday', '150+', 'remembering', 'utilising', 'rl', 'quantiles', 'dgraph', 'arangodb', 'plague.com', '//plague.com', 'bosses', \"'apply\", 'sic.', '20th', 'birthday', 'jozef', 'rblog', 'weaknesses', 'grew', 'asymptotes', 'infinity', 'heterogenous', 'programatically', 'machine-friendly', 'conversions', 'heterogenity', 'customary', 'impacted', 'h2o', 'threat', 'robotic', 'robots', 'opens', 'prototypes', 'cs229', 'cs231n', 'cs224n', 'gates', 'kubeflow', 'listings', 'graduate/junior', 'effectiveness', 'obtaining', 'staar', 'statewide', 'learners', 'tiers', '*there', 'dog*', '*predict', 'depletion*', 'subject-specific', '*meiosis', 'photosynthesis', 'chromosome*', 'ells', '**for', '//tea.texas.gov/student-testing-and-accountability/testing/state-texas-assessments-academic-readiness-staar/staar-24', 'scroll', 'cnn', 'airline', 'ancillaries', 'elasticity', 'dnn-cl', '**x\\\\_i**', '**y\\\\_i**', 'p\\\\_rec', 'l', 'euro', 'framed', 'monetary', 'bounds', 'glm', 'disregarding', 'pre-cleaned', 'question/problem-statement', 'projects.all', 'iris', 'instructors', 'medians', 'indicating', 'tech/materials/etc..', 'smaller/bigger', 'overrepresented', 'skewing', '1/0', 'coefficient', 'p-value', 'tel', 'baikal', 'graph-based', 'respond', 'discrepancy', 'people**', '**what**', 'analysed', 'hard-won', 'implications', 'assistant', 'small-', '***get', 'widening', '1-width', '2.5-width', 'tanked', 'ml/ds', 'refreshment', 'road-like', 'ms/phd', 'styles', 'presumably', 'multivariable', 'calc', 'recruiters/hiring', 'scanning', 'thefore', 'colors', 'symbols', 'beware', 'harsh', 'impressive', 'institutions', 'operating', 'supplement', 'ignore', 'revolution', 'unintelligence', 'influenced', 'mid-life', 'calling', 'bioengineering', 'fear/anxiety', 'horrible', 'settling', 'dissatisfied', '39', 'numbing', 'fascinates', 'derivations', 'continual', 'pain', 'self-doubters', 'phases', '**long-term', 'disease', 'drugs', 'hopes', 'nobel', 'satisfied', '**short-term', 'crushing', 'engineering/bioengineering', 'historically', 'arithmetic', 'tia', '//www.nbcnews.com/feature/nbc-out/transgender-women-are-nearly-always-incarcerated-men-s-putting-many-n1142436', 'journalists', 'v', 'strict', 'guessing', 'html/css/js', 'd3', 'newsletter', 'competitors', 'authorization', 'settings', 'secret', 'capacities', 'illness', 'productivity', 'sickness', '//github.com/kotartemiy/newscatcher', 'stars', '**it', 'trending**', 'sign-ups', 'data-as-a-service', 'promote', 'steal', 'side-project', 'october-november', 'replica', 'newsapi.org', '//newsapi.org', '**news', '449', '/250k', '49', 'newscatcher', 'kotartemiy/building-a-data-as-a-service-product-from-0-to-1-intro-cce63cfad568', 'factum', 'product-market', 'infrastructure-as-a-service', 'sale', 'side-projects', 'triggered', 'batching', 'spins', '//cloudcraft.co/view/b7ee9bcd-007c-4fac-8c98-b31b447bceae', 'key=qy6yuiemwihdagns9bfl6q', '\\\\/\\\\/cloudcraft.co\\\\/', '//preview.redd.it/8jkp91q8snj41.png', 'width=1920', 's=97c7ee10ccc8f8453fd38cd56fcabe5f3ca8237e', 'cloudwatch', 'triggers', 'feeds', 'sends', '4.', 'picked-up', 'reads', 'normalizes', 'title+description', \"md5'ed\", 'attribute\\\\_not\\\\_exists', 'unseen', 'solves', 'deduping', 'newly', 'inserted', 'insert', 'indexing', 'kotartemiy', 'scraping/reselling', 'support/contribute/follow', '//twitter.com/bugaralife', 'ama', 'thx', 'outsourced', 'useable', 'reviewers', 'deepnote.com', 'interruptions', 'long-running', 'instagram', 'rate-limit', 'innodb', 'upgrade', 'patience', 'tr', '3960x', '6b', '600gb', 'footprint', 'python-driven', 'partitions', 'concurrent', '128gb', 'otoh', '48gb', 'inclination', '60gb', 'pool', 'usage/swapping', 'stumbling', 'thumb', 'dubious', '//github.com/stellargraph/stellargraph/releases/tag/v0.10.0', 'stellardigraph', 'directed', 'graphwave', 'wavelet', 'laplacian', 'temporal', '//github.com/stellargraph/stellargraph/pull/787', 'simulating', '//github.com/stellargraph/stellargraph/pull/750', '//github.com/stellargraph/stellargraph/issues/756', 'connector', '//github.com/tensorflow/tensorflow/releases/tag/v2.1.0', 'demos', 'attribute', 'saliency', 'maps/interpretability', 'refactored', 'extend', '//github.com/stellargraph/stellargraph/pull/855', 'demo', 'predominantly', 'ci', 'differential', 'diff', 'eqs', 'statistics/cs', 'uchicago', 'columbia', \"fall'20\", 'opt', 'hefty', 'safer', 'puzzles', 'careercup', 'stackexchange', '//www.crazyforcode.com/probability/', '//www.mytechinterviews.com/category/probability', 'minimizing', 'scoping', 'modest', 'geospatial', 'lesser-known/used', 'redis', 'modelname_lastupdated', 'gzipped', 'bytes-string', 'caching', 'time-frame', 'ucla', 'react-native', 'react', 'tensor', 'tensorflow.js', 'kit', 'locally', 'binding..', 'tf', 'exhausted', 'projects/tutorials/documentation', 'apporach', 'f\\\\*', 'x\\\\*', 'firstly', 'diffierent', 'skype-interview', 'deeply', 'groningen', 'netherlands', 'master-thesis', 'conducting', 'blended', 'time-', 'dutch', '//rug.eu.qualtrics.com/jfe/form/sv\\\\_ablfyqk8mgusozb', '//rug.eu.qualtrics.com/jfe/form/sv_ablfyqk8mgusozb', 'economics/public', 'sector/development/charities', 'london', 'text-to-speech', 'inflation', 'wages', 'justice', 'society', 'screenshot', 'univariate', 'pension', '80', 'sl', 'pl', 'multiplying', 'non-visitors', 'exit', 'collects', 'safely', 'surveymonkey', 'qualtrics', 'organized', '17th', 'draft', 'tpus', 'trivially', '1/3', 'recieves', 'unordered', 'smallest', 'largest', 'appears', 'fullproof', 'recognize', 'conclusion', 'promoting', 'recognizes', '2nd', 'intersection', 'intuitions', 'pgms', 'document/topic', 'jump', '//sirius.cs.put.poznan.pl/\\\\~inf89721/seminarium/web\\\\_data\\\\_mining\\\\_\\\\_2nd\\\\_edition\\\\_\\\\_exploring\\\\_hyperlinks\\\\_\\\\_contents\\\\_\\\\_and\\\\_usage\\\\_data.pdf', '//sirius.cs.put.poznan.pl/~inf89721/seminarium/web_data_mining__2nd_edition__exploring_hyperlinks__contents__and_usage_data.pdf', 'multidimensional', '//preview.redd.it/i1d4lbzpyhj41.png', 'width=221', 's=127825a70bb3c139be2222d66eee7adf625972c8', '1-dimensional\\\\', '1d\\\\', '//preview.redd.it/1juez6qsyhj41.png', 'width=334', 's=addb368c27980bba3cf74cad83548c47c31a04a1', 'appended', '2-d', '//preview.redd.it/5mp04wfvyhj41.png', 'width=357', 's=fc0422af7e2a7207cc631449a154516e79bdb2f0', 'scan', '//preview.redd.it/3832dwvyyhj41.png', 'width=68', 's=5cd1a082bad3f1ed789b00f18ba5173d7c323344', '//preview.redd.it/w5w1rih1zhj41.png', 'width=188', 's=a49f3d16a7e5f6ae72189ae114fa5bd96c7ad131', 'marked', '//preview.redd.it/3jqu69g3zhj41.png', 'width=370', 's=8c8efdc5359535281ee14ad593df1e04147faf1c', 'dark', '//preview.redd.it/eyiudg85zhj41.png', 'width=176', 's=0661df1dc8a93be9469ad8b077359e2a44c2cfce', 'two-dimensional', '//preview.redd.it/0qmbbwu6zhj41.png', 'width=784', 's=e9a4a07363403dbdaa3d4b25a9b1763d7713dce8', 'beside', '//preview.redd.it/a5z9zofazhj41.png', 'width=820', 's=918b49feaabd2e1873f4446194450339f4fdf971', '//preview.redd.it/i29p457czhj41.png', 'width=483', 's=bbd5e76efe5d5973b3486ea72372c8774e1eb18b', '~3', 'lucky', 'filling', 'nuts-and-bolts', 'outsider', 'temporarily', 'u/dfphd', '//www.reddit.com/user/dfphd/', 'chime', '4th', 'aspirations', 'data-rich', 'opencv/keras', 'ground-up', 'agriculture', 'unfamiliar', 'well-regarded', 'a**', '***cool', 'city***', 'flood', 'engineering-focused', 'standpoint', '**working', 'deciding', 'willingly', 'online/offline', 'attend', 'insider', 'binned', '//stackoverflow.com/questions/60442513/how-to-efficiently-label-each-value-to-a-bin-after-i-created-the-bins-by-pandas', 'noredirect=1', 'comment106926529_60442513', 'partitioning', 'overly', 'difference/use', 'johns', 'granular', 'tip-offs', 'hospital', 'ambulance', 'rides', 'prescriptions', 'arctic', 'tropics', 'temperate', 'premise', 'sems', 'prevalent', 'ecological', 'hunger', 'medium/low-tier', '**background**', 'fiance', 'declined', 'sails', '**so', 'noticing**', 'explicit', 'stringent', 'hypothesis**', '*know', 'possess', 'absorb', 'quickly*', 'conversely', '80k/yr', 'talent', 'word2vec', 'dominant', 'deserve', 'accolades', '**your', 'thoughts**', 'extending', 'anxiety', 'inexpensive', '/models', '900', '1br', 'ambitious', 'torn', 'rising', 'field/area', 'both..', '95k', 'deceiving', 'estimation', 'swarm', 'swell', 'optimized/estimated', 'algorihm', 'y-values', 'monte', 'carlo', 'engineer/project', 'transient', 'scientist-level', 'skills/experience', 'align', 'convinced', \"'ready\", \"'is\", 'filename', 'jeniffer.conll', 'heterogeneous', 'bonferroni', 'correction', 'addressed', 'pre-determined', 'post-hoc', 'churns', 'verse', 'encode', '12-20', 'toes', 'animations', 'tip', 'presenter/storyteller', 'combat', 'nervousness', 'presenting', '9,000', '15,000', 'onionornot.csv', 'pushshift', 'achieving', '87', 'outperform', 'messed', '3k', '//github.com/slundberg/shap/blob/master/readme.md', 'tree-based', 'treeshap/treeexplainer', 'approximating', 'lime', 'adapted', 'ml-algorithm', 'model-agnostic', 'kernelshap', 'treeshap', 'correctness', 'crucial', 'v1.1', 'yellowbrick', 'gallery', 'downloads', 'opened', 'aboout', 'cosmosdb', 'advantages/disadvantages', 'practice/build', '**fastai**', 'toucans', 'resnet34', '0.12', 'resnet50', '0.17', 'seemingly', 'noobie', 'touched', 'computer-illiterate', 'mouse-interactive', '*à', 'la', 'excel*', 'optionally', 'logically-related', 'home-cooked', 'keyturn', 'vb', 'semi-sentient', 'sql/datalog', 'freight', 'substations', 'trip', '20-30', 'locomotives', 'substation', 'beast', 'skip', 'threotical', 'visualizer', 'gas', 'undergoes', 'mutation', 'crossovered', 'multiplication', 'mutated', 'homeless', 'aus', 'playlist', 'podcast/epsiode/and', 'guest', '//github.com/man-group/dtale', \"'reticulate\", \"'dtale\", 'read.csv', \"'https\", '//vincentarelbundock.github.io/rdatasets/csv/boot/acme.csv', 'subprocess=false', 'subprocess', 'paste', 'printed', 'subprocesses', '//rstudio.github.io/reticulate/', '//rstudio.github.io/reticulate/articles/python_packages.html', 'grunt', 'over-', 'cost-sensitive', 'underliers', '1:100', '1:1000', 'machinelearningmastery', 'backgound', 'variant', 'widen', 'consensus', 'newcomers/beginners', 'resources/courses', 'princples', 'bucket', 'unqiue', 'coarse', 'itching', 'wavelength', 'round-off', 'child', 'coordinator', 'scrubbed', 'ethnicity', 'gpas', 'worsen', 'enrollment', 'transfer', 'disproportionate', 'failure', 'hall', 'act', 'unmet', 'novice', 'wsl', 'alienware', '17r4', 'nvidia', 'gtx', '1070', 'pysaprk', 'features..', 'operaiton', 'typeerror', 'invalid', \"'record\\\\_edu\\\\_desc'\\\\\", \"'list\", 'literals', \"'lit\", \"'array\", \"'struct\", \"'create\\\\_map\", \"'record_edu_desc\", \"'record_construction_desc\", \"'record_cost_grp\", \"'record_bsmnt_typ_grp_desc\", \"'record_shape_desc\", \"'record_sqft_dec_grp\", \"'record_renter_grp_c_flag\", \"'record_home_age\", \"'record_home_age_grp\", \"'record_home_age_missing\", 'df_group', 'df.groupby', \"'year\", \"'area\", \"'state\", \"'code\", '.sum', \"'net_contributions\", 'warehouse/data', 'warehousing/data', 'brown', 'datathon', 'supplied', 'barriers', 'governments', 'toughest', 'bombarded', 'independence', 'determinant', 'eigenvalues', 'eigenvectors', 'central', 'intuitively', 'kl', 'divergence', 'divergences', 'kolmogorov', 'jacobian', 'overfits', 'autoencoder', 'gbm', '30k', 'favorite', 'berlin-based', 'indefinite', 'rights', 'obligations', 'agreement', 'survive', 'hereof', 'misunderstanding', 'learning/data', 'contractual', 'verbiage', 'confidential', 'specifics', 'restrictive', 'proven', 'seq2seq', 'wearbles/wellness', '75k-85k', 'largeish', 'branch', 'island', '54k', '75-85k', '75k', 'screwing', '20k-30k', 'bump', 'peers', 'ranking', 'scored', 'attached', 'txt', 'offline', 'xl', 'undertaken', 'top-posts', 'weekday', 'upvote', 'condensed', '12:32', '12:39', 'time-range', 'top-post-amounts', '0,1', '+7', 'stats/biostats', 'fortunately', 'biostats', 'at/interested', 'opportunity-cost', '~1.5', 'predictive/', 'progress/move', 'bite', 'ass', 'engineering/causal', 'managerial/leading', 'healthcare/biotech', 'planned', 'techniques/skills', 'forty', 'demonstrate', 'worker', 'democraphic', 'tract/block', 'geoid', 'pin', '|geoid|census', 'name|population', 'tract|percent', 'old|', '|360610092001003|census', '92|3000|20', 'used/accepted', 'led', 'mlpd3', 'pygal', 'holoviews', 'used/relevant', 'pros/cons', 'biologists', 'culturing', 'physicists', 'accelerator', 'discoveries', 'scientifically', 'molecules', 'inhibit', 'proteins', 'wishes', 'bounded', 'outage', 'scaler', 'loads', 'understandable', 'avoided', '//preview.redd.it/9fns127abqi41.png', 's=b3cbf617a9c65da8d0f20d11beddea3cc8b4c757', 'backstory', 'non-it-related', 'it/software', 'consumers', 'rebates', 'foresee', 'room', 'specialty', 'contractors', 'tuition', 'reimbursed', 'contingent', 'funds', 'julia', 'mlpack', 'shogun', 'openmined', 'mile', 'interpreting', 'component', 'unhappy', 'intense', '*do*', 'up-skilling', 'day/5', 'day/', 'under-prepared', 'logic-based', 'packages/classes', 'challenged', 'pre-written', 'newey-west', 'complaining', 'fransisco', '//lifewithdata.org/deepnote-sets-course-to-become-the-jupyter-killer/', 'philosophy', 'forgive', 'payload', 'finishes', 'records/day', '8pm', '150', 'nudge', 'gantt', 'splitting', 'spanned', 'rmse', 'favourite', '//twitter.com/al\\\\_grigor/status/1230818076578459649', '//twitter.com/al_grigor/status/1230818076578459649', 'f1-score', 'trade-off', 'one-hot', 'randomization', 'randomly', 'spain', '9', 'permit', 'ut', 'austin', 'finalize', 'da/ds/ba', 'asian', 'scholarships', 'colorado', 'prodigy', 'backing', 'resident', 'workexperience', 'legends', 'stereotypes', 'discourage', 'prospective', 'science**', 'aptitude', 'artistic', 'conundrum', 'assigning', 'doctorate**', 'partial', 'tools**', 'misconception', 'computers', 'device', 'focal', 'work-oriented', 'must-know**', 'versatile', 'weapon', 'rack', 'brains', 'widespread', 'ready-made', 'codes', 'implying', 'useless', '//www.stratascratch.com/blog\\\\_feed/top-data-science-myths', '//www.stratascratch.com/blog_feed/top-data-science-myths', 'tcp/ip', 'foundations', 'critique', 'solver', 'charities', '2021', '*statistics', 'intentionally', 'avoiding', 'traditionally', '//www.coursera.org/specializations/excel-mysql', 'playbook', '//www.udemy.com/course/excel-data-analysis-playbook/', '//www.amazon.co.uk/data-smart-science-transform-information/dp/111866146x/ref=sr_1_1', 'keywords=data+smart', 'qid=1582369649', '//www.bridging-the-gap.com/start-a-business-analyst-career/', 'business™', '//www.udemy.com/course/data-science-deep-learning-for-business-20-case-studies/', '//www.udemy.com/course/automate/', 'aside', '//ocw.mit.edu/courses/mathematics/18-06-linear-algebra-spring-2010/', '//www.amazon.co.uk/mind-numbers-science-flunked-algebra/dp/039916524x/ref=sr_1_1', 'keywords=a+mind+for+numbers', 'qid=1582370050', 'tears', '//www.amazon.co.uk/statistics-without-tears-introduction-non-mathematicians/dp/0141987499/ref=sr_1_1', 'keywords=statistics+without+tears', 'qid=1582370072', '//www.amazon.co.uk/art-statistics-learning-pelican-books/dp/0241398630/ref=sr_1_1', 'keywords=the+art+of+statistics', '3a+how+to+learn+from+data', 'qid=1582370093', '//ocw.mit.edu/courses/electrical-engineering-and-computer-science/6-006-introduction-to-algorithms-fall-2011/', '//www.amazon.co.uk/bayesian-statistics-fun-will-kurt/dp/1593279566/ref=sr_1_fkmr0_1', 'keywords=bayesian+statistics+the+fun+way+2019', 'qid=1582370206', 'sr=8-1-fkmr0', 'witten', 'hastie', 'tibshirani', 'springer', '2013', '//www.edx.org/course/statistical-learning', 'critiques', 'analyst/business', '//drive.google.com/file/d/1fids3vqlnnkswyrqxqplea-cfkqrsjt3/view', 'advertisements', 'ml/science', 'prescriptive', 'weighing', 'sales/onboarding', 'polarizing', '//www.reddit.com/r/datascience/comments/f7cdwg/data_science_and_machine_learning_interview/', '//www.reddit.com/r/datascience/comments/f7hs58/actual_machine_learning_interview_questions/', 'memorizations', 'nuanced', 'answered', 'browsing', 'hackerrank', 'yesterday', '**why', 'biophysics', \"'formal\", 'hunting', 'interviewers', 'bullshit', 'ticking', 'viva', 'ai/ds', 'quant', '**how', '**course', 'noting', 'infuriating', 'badly', 'workarounds', 'watched', 'informative', 'typos', 'realise', 'finnicky', 'frustrating', 'instructions/guidance', '**would', 'holds', 'served', '**overall', 'adage', 'jumped', 'hoops', 'reservations', 'colleague', 'unqualified', 'silver', 'bullet', 'flipped', 'refine', 'science/software', 'substantial', 'challenge-like', 'neuroscience', 'inner', 'workings', 'summa', 'cum', 'laude', 'beyound', 'postgraduate', 'crm', 'intending', 'postgrad', 'demonstrative', 'pulp', 'mill', 'efficiencies', 'refactoring', 'ya', 'glorified', 'operationalizing', 'collaborate', 'collaboration', 'microservices', 'uneasy', 'fluent', 'dunning-kruger', '//learning.oreilly.com/library/view/functional-programming-in/9781617290657/', 'mastered', 'cdp', 'draw', 'is/was', 'methodologies', 'introduced', 'productive', 'rain', 'precipitation', 'single-payer', 'medicare4all', 'centralized', 'decrease', 'percipitation', 'explanations', 'lumped', 'valid', 'marry', 'coverage', 'disagree', 'lucrative', 'experimentation', 'owning', 'produces', 'blocked', 'priorities', 'complexities', 'actions', 'wasteful', 'divorced', 'realities', 'explorations', 'wasted', 'coordination', 'incorporating', 'smoother', 'publisher', 'accompany', 'stances', 'amis', 'spun', 'embarrassingly', 'fashion', '192gb', 'cost-effective', '64-core', '**a**', 'instantaneously', 'copies', 'ebs', 'parse', 'rapidminer', 'knime', \"wouldn't/could\", 'placeholders', 'phenomena', '*if*', '*features*', '*i', 'know*', '-i', 'commonalities', 'similarities', 'cats', 'dogs', 'cat', 'dog', 'predictor', 'payroll', 'investiment', 'tf-idf', 'vectorize', '500k', 'stratified', 'train\\\\_test\\\\_split', 'test\\\\_size=0.25', 'falling', 'minorty', 'variation', 'randomforestclassifer', 'xgbclassifier', 'yielded', 'f-scores', 'tuned', 'negatives', 'abundant', 'end-user', 'desirable', 'formally', 'input\\\\_dim=input\\\\_dim', 'output\\\\_dim', \"activation='sigmoid\", 'x\\\\_train', 'y\\\\_train', 'epochs=100', 'batch\\\\_size=32', 'shuffle', 'callbacks=\\\\', 'es', 'es2\\\\', 'validation\\\\_data=', 'x\\\\_test', 'y\\\\_test', 'earlystopping', 'patience=15', 'compute\\\\_class\\\\_weights', 'entirety', 'oversampling', 'relieve', 'oversample', 'downsample', '2x', '2:1', '0:1', '1:2', 'constructive', 'direction/suggestions', 'epochs', 'yields', 'size=32', 'batches', 'employ', 'resampling', 'resample', 'highschool', 'conflicted', 'post-phd', 'administration', 'awhile', 'spectrum', '-proficient', '-experience', 'tabluea', 'retailer', 'projection', 'hypothesises', '-2', 'ecom', 'seller', 'altruistic', 'advantage/disadvantage', 'watching', 're-train', 'housing', 'mechanism', 'proxy', 'buildings', 'deviate', 'ibms', 'legwork', 'mentions', 'furthermore', 'ratios', 'he/she', 'cross-skilling', 'time-wise', 'unsupervized/representation', 'restricted', 'boltzman', 'acts', 'extractor', 'learns', 'create/observe', 'psuedo', 'llhood', 'supervized', 'binary-value', 'probabliity', 'unsupervized', 'representational', 'observe', 'confusing', 'relying', 'enjoying', 'utmost', 'gratitude', 'restored', 'clean/remove', 'perfectly', 'removing', '//imgur.com/a/grjk29g', '//imgur.com/a/zeyjb9t', 'anonymize', 'suffices', '=pd.read_sql_table', \"'account\", \"'user\", 'pd.series', '.astype', 'str', '//imgur.com/a/jzygn0q', 'hashlib', 'generatemd5', 'hl', 'hashlib.md5', 'hl.update', 'data.encode', \"encoding='utf-8\", 'hl.hexdigest', '//imgur.com/a/nia8ksg', 'faker\\\\', 'defaultdict', 'factory.create', 'a.name.size', '//imgur.com/a/sjxqumt', 'lem', 'computer-related', 'begun', 'actively', 'incl', 'infographic', 'backpropagation', 'one-to-one', '1gb', 'etched', 'posits', '//citeseerx.ist.psu.edu/viewdoc/download', 'doi=10.1.1.367.2545', 'rep=rep1', 'type=pdf', 'phrasing', 'memorability', 'pre', 'analysis/bi', 'admittedly', 'trending', 'scam', 'founders', '//scouted.io/', 'legit', 'routed', 'messages', 'aggravating', 'coursework/project', 'ottawa', 'hinder', 'microbiology', 'git', 'auto-narrative', 'library/framework', 'meant', '*because', 'inquiries', 'forecasted', '1.000', 'reinvent', 'codebase', 'xx', 'failing', 'parties', 'misaligned', 'sponsorship', 'persevered', 'science/analysis', 'hardest/weed', 'bet', 'applier', 'greetings', 'nerd', 'formerly', 'sleazily', 'accumulate', 'summarize', 'silicon', 'valley/san', 'top-tier', 'became', 'first-time', 'carving', 'establishing', 'newfound', 'problems/opportunities', 'guiding', 'neglected', 'alone', 'mooching', 'liquidate', 'scoured', 'codeacademy', 'sheer', 'courses/career', 'dizzying', 'pharma', 'comcast', 'courses/paths', 'essentials', 'senior/director-level', 'adaptive', 'ocr', 'tesseract', 'kraken', 'craft', 'worst_case_scrnario', '//extendthemes.com/wp-content/uploads/2018/06/flying-fish-circular-logo-with-text-min-300x225.jpg', '1-28', 'vetting', '50+', 'karma', 'regulatory', 'compliance', 'extraction', 'shaky', 'profiling', 'identification', 'in-interview', 'weed', 'gimmicky', 'demonstrations', '97', 'upsample', 'gridsearch', 'upsampled', '0.61', '\\\\~0.85', 'universally', 'backlog', 'bucketize', 'novices', 'searching/asking', 'pertinent', 'skype/phone', 'pseudonym', 'updatable', 'r/amitheasshole', 'span', 'tangent', '~50-60', 'barren', 'populate', 'revisit', 'questioning', 'theory/engineering', 'experiments/tests', 'earning', 'nameless', 'boston', 'earned', 'extension', 'quitting', '50-60', 'holder', '//www.coursera.org/specializations/data-analysis', 'api/dataset', 'dataset/api', 'retrieve', 'struck', 'gold', 'ticketmaster', 'differs', '8:45am', '12:00pm', '1pm', '5pm', 'downstairs', 'convince', 'salesman', 'multi-agent', 'agent-based', 'shortly', 'explosion', 're-learn', 'keras/tensorflow', 'cuda', 'mp3', 'sage', 'maker', 'outrageous', 'repivot', 'country/region', 'letting', 'luckily', '98', 'planet', '*only*', 'postal', 'ominiscope', 'v.s', 'ironically', 'dloing', 'tool/platform', 'upset', 'spirit', 'funny', 'validated', 'a.i', 'theory/mechanics', 'memorized', 'leaves', 'pct', 'ins', 'outs', 'supervenn', 'visualizes', 'relations', 'venn', 'flexibility', 'self-education', 'trello', 'venture', '//i.imgur.com/kli9iy3.png', 'volunteer', 'ex-quantum', 'ex-startup', 'ramping', 'bouncing', 'valencia', 'protocols', 'trapped', 'ions', 'expansion', 'ping', 'datascience/analytics', 'economical', 'held', 'bigdata', 'specialize', 'consulting/cloud', 'computing/', 'html+css', 'webapps', 'flaw', 'organize', 'thinker', 'annoy', 'essential', 'day-day', 'pq', 'lived', 'struggled', 'mini', 'remuneration', 'above-mentioned', '**particular', 'study/prepare', 'concentrate', 'backspin', 'flick', 'underhand', 'roll', 'increased', '400,000', '3d', 'scatter', 'cube', 'subplots', 'marker', 'competitions', 'work/practical', '20-40', 'ecomm', 'n~2000', 'k=7', 'n=2', 'separating', 'dims', 'separates', '*rest*', 'projecting', 'sumarized', 'orthonormal', 'k-1', 'arbitraryily', 'orthnormal', 'v0', 'v0.t', 'dat_in.t', 'subtract', 'np.mean', 'axis=0', 'u1', 's1', 'np.linalg.svd', 'full_matrices=false', 'v1.t', 'dat_subset.t', 'garbage', 'mistake', 'convoluted', 'maximal', 'y-axis', 'flawed', 'walkthrough', 'recordings', 'walkthroughs', 'binomial', 'immigrating', 'listen', 'brush', 'gained', 'mckinsey', 'bcg', 'gamma', 'bain', 'pwc', 'ey', 'kpmg', 'fractal', 'deloitte', 'accenture', 'whereby', 'paragraph', \"'gold\", 'aloud', 'impediments', 'elephant', 'el-el-elehant', 'impediment', 'foreign', 'reading/speaking', 'hesitated', 'mis-spoke', 'voice-to-text', 'evening', 'scientists/engineers/analysts', 'country/place', 'obj', 'detections', 'aspiration', 'mine-', 'pop', 'tidytuesday', 'fragmented', 'courses-', 'self-directed', 'allocated', 'tends', 'transferable', 'contacting', 'modelling/research', 'job/industry', 'dad', 'invoicing', 'clerk', 'efficiently', 'monetize', 'lead/manager', '120k', 'stock/options', 'stock/option', 'of/have', 'ab', 'initio', 'contacted', '1995', 'cheetah', '//vimeo.com/288970512', 'watts', 'auto-fit', 'hull', 'culture', 'entails', 'commercialization', 'aficionados', 'tech/', 'navigating', 'brace', 'scary', 'crack', 'edited', 'yikes', 'lovely', 'mid-tier', 'research-oriented', 'listing', 'capped', 'unix', 'cli', 'cut/sort/head', 'hacker', 'highly-downloaded', 'cleverly', 'titled', 'stinks', '//www.manager-tools.com/2005/10/your-resume-stinks', 'nose', 'whitespace', 'fundamentally', 'lacks', 'submitting', 'credentials', 'rational', 'corollary', 'chronological', 'ado', 'corresponds', 'continuity', 'weave', '\\\\~10', 'experience/\\\\~5', 'worrying', 'encourage', 'romanticised', 'attraction', 'tiff', 'exclusively', 'bat', 'dashboards/reports', 'researches', 'storm', 'demotivating', 'sagemaker+lambda+api', 'gateway', 'kinesis', '0-1', 'reflected', '20000', 'complements', 'dropped', 'filtered', 'prefers', 'approches', 'hypothetical', 'transactions', 'infomation', 'appending', 'external', 'banks', 'consultancies', 'objectivity', 'projects—industries', 'residential', 'estate', 'pipe', 'meetup', 'ml-', 'comers', '**languages', 'know**', '**experiences**', 'assorted', 'projectes', 'defects', '**weakness', 'bench', 'constructing', 'skillsets', 'analyst/intern-', 'idk', 'dlr', 'munich', '*era', '//medium.com/syncedreview/whats-happening-down-there-new-aerial-video-event-recognition-dataset-and-dl-benchmark-5dc815ce5a28', 'dominating', 'thankfully', 'excelling', 'manger', 'morale', 'hardcore', 'generalist', '3.', 'cope', 'with/solve', 'rusty', 'repetition', 'self-created', 'realised', 'infinitude', 'recognised', 'recruit', 'jeremy', 'howard', 'fast.ai', '38:00', '//course18.fast.ai/lessonsml1/lesson1.html', 'dimentionality', 'lie', 'science/theory', 'disillusionment/disappointment', 'recommendations/tips', 'windows-stack', 'beset', 'heres', '//www.kaggle.com/timoboz/data-science-cheat-sheets', '//www.reddit.com/r/datascience/comments/ce8yit/came\\\\_across\\\\_this\\\\_absolutely\\\\_amazing\\\\_compilation/', '//www.reddit.com/r/datascience/comments/ce8yit/came_across_this_absolutely_amazing_compilation/', 'podcasts/youtube', '🙂', '//lineardigressions.com/', 'supposedly', 'metropolitan', 'non-analysis', 'miscellaneous', '//preview.redd.it/dph7rdvb2sg41.png', 'width=999', 's=c238e1849e78b011be0c50d88d5e043ea4f0a031', '//preview.redd.it/bdz4hz5h2sg41.png', 'width=799', 's=a7d688ba608e8ac77dbe83b7c199415a2fc93aa2', '//preview.redd.it/ck7eb5a43tg41.png', 'width=389', 's=87d8f24f253ec48f1d504efd821dc23d81084f8d', 'tracks', 'references', 'steadily', 'preprint', 'ray', 'scalability', 'watson', 'myriad', 'simultaneously', 'supplier', 'firestore', 'so..that', 'normalizing', 'feauters', \"'ptratio\", \"'rm'\\\\\", \"'medv'\\\\\", 'linear\\\\_model\\\\_2', 'linearregression', 'linear\\\\_model\\\\_2.fit', 'linear\\\\_model\\\\_2.score', \"'coefficient\", 'determination', 'ptratio', 'rm', 'controversy', 'disability', 'cuts', 'drawn', 'qualifications', 'severely', 'qualities', 'addiction', 'bed', 'games', '//preview.redd.it/xv12mraxvmg41.png', 's=f517d952c361af2f3fa83fabf3f7a7aa4410411e', 'computable', 'how/where', 'differentiates', 'harmless', 'blessing', 'wigits', 'lessen', 'fluffing', 'origin', 'lucidly', 'launches', 'lazy', 'eager', 'tokenization', 'unicode', 'n-grams', 'sliding', 'punctuation', 'electrical', 'ensembles', 'grid', 'chasing', 'electronics', 'gremlins', 'aircraft', 'circuit', 'glossed', 'disregard', 'inexperienced', 'transformation/fast', '//preview.redd.it/u4fcmyzcvlg41.png', 'width=617', 's=d97c37b6b10cb06d980fe558833eb03054b36f97', '1+np.log', '1+np.log\\\\', '//preview.redd.it/dazxriyvvlg41.png', 'width=594', 's=487b35d8e1e5f27a602192bbec866c1b4a0040d7', 'pow', 'pow\\\\', '0.6\\\\', '1\\\\', '//preview.redd.it/60qaq2udwlg41.png', 'width=583', 's=f444c19fc550d24884c228989027ba647cac946b', 'notoriously', 'f*', 'recalculate', 'thee', 'supervisor', 'visible', 'excuse', 'ruined', 'tarnished', 'down/plot', 'simulates', 'lifecycle', 'black-legged', 'ticks', 'pyplot', 'lat', 'habitat_sample', 'lifestages', 'nymphs', '//preview.redd.it/frr5f47mrlg41.jpg', 'width=870', 's=25987ac203ba47f0ed3f8ebe42b54d428c3684fe', 'value\\\\_counts', \"'lifestate\", 'adults/nymphs/larva', 'run/tick', 'counts', 'lifestage', 'shed', 'terrified', 'ic', 'contributor/practitioner', 'members', 'like/dislike', 'reminder', 'wether', '40s', 'conquering', 'transitions', 'atmosphere', 'stressful', 'trials', 'ranging', '1-7', 'trails', 'particularity', 'session\\\\_\\\\_\\\\_\\\\_trial\\\\_\\\\_\\\\_\\\\_\\\\_score', '1\\\\_\\\\_\\\\_\\\\_\\\\_\\\\_\\\\_\\\\_\\\\_\\\\_\\\\_\\\\_1\\\\_\\\\_\\\\_\\\\_\\\\_\\\\_\\\\_\\\\_\\\\_0', '1\\\\_\\\\_\\\\_\\\\_\\\\_\\\\_\\\\_\\\\_\\\\_\\\\_\\\\_\\\\_2\\\\_\\\\_\\\\_\\\\_\\\\_\\\\_\\\\_\\\\_\\\\_2', '1\\\\_\\\\_\\\\_\\\\_\\\\_\\\\_\\\\_\\\\_\\\\_\\\\_\\\\_\\\\_3\\\\_\\\\_\\\\_\\\\_\\\\_\\\\_\\\\_\\\\_\\\\_1', '2\\\\_\\\\_\\\\_\\\\_\\\\_\\\\_\\\\_\\\\_\\\\_\\\\_\\\\_\\\\_1\\\\_\\\\_\\\\_\\\\_\\\\_\\\\_\\\\_\\\\_\\\\_1', 'premier', 'league', 'opposition', 'shots', 'fouls', '-which', 'vastly', 'names-', 'folders', 'inconvenient', 'terminology', 'spiegelhalter', 'proposes', 'treatments', 'samsung', 'transactional', 'venue', 'visio', 'jet', 'documenting', 'erps', 'phenology', 'southeast', 'splunk', 'palantir', 'cloudera', 'informatica', 'hortonworks', 'atlassian', 'forum', 'media-based', 'sadly', 'lessons', 'merely', 'chunks', 'observed', 'time-span', 'observation', 'gigabyte', '1,2', '120.000', 'expectable', 'compression', 'curate', 'nationwide', '//www.researchgate.net/publication/339209666', 'arcgis', 'biology/biomedical', 'biomedical', 'finland', 'strongest', 'preface', 'guise', 'i.e.', 'goddamn', 'psych', 'buckshotting', 'screens', 'plan-b', 'boat', 'placement', 'non-traditional', 'eyeing', 'galvanize', 'k2', 'down/up', 'warping', 'why/how', 'practicalities', 'downvoting', 'googlecloud', 'playground', '//www.udemy.com/course/deployment-of-machine-learning-models/', '//www.udemy.com/course/deploy-serverless-machine-learning-models-to-aws-lambda/', '//www.ahmedbesbes.com/blog/end-to-end-machine-learning', 'comprehensive', '//medium.com/syncedreview/aaai-2020-whats-next-for-deep-learning-hinton-lecun-and-bengio-share-their-visions-e29385dcaed5', 'internships/experience', 'davis', 'debating', 'busier', 'combinations', 'multidisciplinary', 'pdes', 'dynamics', '.anything', 'fingers', 'crossed', 'furthest', 'projectory', 'suit', 'portability', '£900/', '1100', 'rodeo', 'inspiron', '7000', '//www.dell.com/en-uk/shop/laptops-notebooks-and-2-in-1-laptops/inspiron-14-7000/spd/inspiron-14-7490-laptop', 'eyes', 'graphics', 'i5', 'quickest', 'pissoff', '//preview.redd.it/r3pl1i3rf5g41.png', 'width=1265', 's=3b851382efab160b37372a0163498da5529603a9', 'moocs', 'leg', 'accessed', 'accessibility', 'esp', 'pointing', 'copying', 'savvy', 'tape', 'analyst/sql', 'dyslexic', 'learn/chat/do', 'geographic', 'segments', 'slider', '//images.app.goo.gl/wndvhoyduoowxpf16', 'roles/responsibilities', '//www.streamlit.io/', 'blown', 'collective', 'passions', 'caters', '45-minute', 'screening', '100\\\\~', 'improves', 'government/ngo', 'non-profit', 'cia', 'gov', 'aka', 'modes', 'numeric', 'hamming', 'euclidean', 'street', '\\\\*\\\\*', 'edit\\\\*\\\\*', 'yall', 'interaction', 'automating', 'drawing/finding', 'insightful', 'eye-opening', 'beijing-based', 'ghddi', 'jointly', 'coronaviruses', 'preclinical', '//medium.com/syncedreview/battling-the-coronavirus-alibaba-and-baidu-ai-accelerate-vaccine-and-drug-r-d-d54888176cda', '*previously', 'encountering', 'tail', '**e.g', 'np', 'distributuion', 'np.pi', '**0.5', 'np.exp', '-0.5', 'multipled', 'integral', 'infinite', 'behaves', 'unexpectedly', '-5', '-0.56', '-10', '-0.48', 'diagnose', 'rfm', 'scatter-treemap', 'outluers', 'routinely', 'subpopulation', 'discarding', 'engineer/modeler/bi', 'carrer', 'biologist', 'bacterial', 'genomics', 'ppc', 'hvac', 'excel/google', 'campaigns', 'ppc/digital', 'rookies', 'pearson', 'stationarity', 'cointegration', 'dataframe_of_security_prices', 'symbol', 'other_columns', 'scipy.pearsonr', 'statsmodels.tsa.stattools.coint', 'statsmodels.tsa.stattools.adfuller', 'crashing', 'instinct', '1d', 'n\\\\^1', 'n\\\\^2', 'data-comparison', 'epidemics', 'ebola', 'swine', 'activate', 'deactivate', 'hard-to-understand', '//preview.redd.it/1u609gp6o0g41.jpg', 'width=1182', 's=47e067a0f595aeca7514785859a66ba26cd9ff2b', 'week-to-week', 'influenza', 'hubei', 'asia', 'toggle', 'toggling', 'outbreaks', 'projections', 'seir', 'seis', 'plateau', '13', 'mastering', 'revision', 'blogs/websites', 'bookmark', 'biology/bioinformatics', 'refer', 'commands', 'packages/applications', 'frustratingly', '-can', 'md', 'back-up', '-d', 'enthusiasm', 'vital', 'signs', 'medication', 'wearables', 'sequencing', 'radiology', '50-85', 'crowd', 'verifies', 'stat', 'bothering', '**background', 'defense', 'for-hire-list', '25k', '**conflicted', 'compelling', 'regretting', 'wanted/still', 'throw', 'r2=0.9995', 'importing', 'btc/usd', 'cryptocurrencies', 'roasting', 'datetime', 'dt', 'matplotlib.pyplot', 'plt', 'pd', 'pandas_datareader.data', 'style.use', \"'ggplot\", '2018,1,1', 'yyyy', 'mm', '2020,12,31', 'web.datareader', \"'tsla\", \"'morningstar\", 'espresso', 'whose', 'frankly', 'remedial', 'mounds', 'gambling', 'onerous', 'arranged', 'prefere', 'paycheck', 'cup', '\\\\~100', 'lives', 'fulfillment', 'stats.nba.com', 'timing', '//stats.nba.com/stats/scoreboardv2', 'dayoffset=0', 'leagueid=00', 'gamedate=02', '2f07', '2f2020', 'deng', 'impress', 'secrets', 'sessions', 'jrs', 'backlogs', 'characterization', 'succeeded', 'birth', 'province', 'inria', 'subtly', 'marking', '//medium.com/syncedreview/radioactive-data-facebook-ai-knows-where-you-got-your-training-dataset-825d062a6f4c', 'fails', 'alpine', 'slim', 'compiled', 'repositiories', 'dockerfiles', 'cookie', 'cutter', 'dockerfile', 'peoples', 'integrative', 'revamp', 'specialist', 'grants', 'administrative', 'binary/categorical', 'customer-id', 'orders-placed', 'sells', 'age_in_months', 'cancelled', 'ordered', 'declines', 'orders_placed', '//i.stack.imgur.com/blc5j.png', 'on-demand', 'machines', 'awesome-production', '//github.com/ethicalml/awesome-production-machine-learning', 'model-and-data-versioning', 'performed', 'course/bootcamp', 'recs', 'bag', 'munging', 'productionized', 'machine-learning', 'spikes', 'leak', 'books/websites/etc', 'affected', '6mo', 'scratches', 'gon', 'fallowing', '*into', 'production*', 'wut', 'wrappers', 'scares', 'fat', 'restarted', 'deleted', 'touching', 'rouge', 'drives', 'drag', 'teammate', '.just', '.no', 'horror', 'blowing', 'waaaay', 'proportion', \"'analyzing\", 'march', '16th', 'explanatory', 'hrs/week', 'newborn', 'blow', 'assignments', 'dedicating', 'arena', 'xeon', 'i9', 'ryzen', 'mlb', 'ballpark', 'outlet', 'apologize', 'donors', 'revenue-generating', 'plasma-based', 'unemployment', 'illustrate', 'scrapped', 'amazon.com', '//amazon.com', 'amazon.com.br', '//amazon.com.br', 'stre', 'purposefully', 'misspelled', '|scrapped', 'names|name', 'associated|', 'store|banana', 'shop|baby', 'stre|baby', 'store|baby', 'shop|banana', '|amazon|', '|amazon.com|amazon|', '|amazon.com.br|amazon|', 'associating', 'ean', 'time-efficiency', 'ethical', 'ethically', 'hobbyist', 'purgatory', 'recipe', 'instant', 'translation', 'corpus', 'formulate', 'boiled', 'z\\\\', 'solvable', '**q\\\\*r**', 'linearizing', 'denoted', 'rid', '//preview.redd.it/ovjr92e3k3f41.jpg', 'width=4032', 's=168753d7d6977435b7d686ecaf46af8859c283b2', 'cox', 'y=', 'ax', '^3', 'x^3', 'wind/solar/coal', 'increments', 'producer', 'forcing', 'rendering', 'construction', 'plant', 'fresher', '~300', 'leveraged', 'speaks', '//www.datacamp.com/tracks/data-scientist-with-python', '//www.datacamp.com/tracks/data-scientist-with-r', 'bargains', 'price_old', 'price_new', 'surprisingly', 'weeds', 'mail', 'redacted', 'outlier', 'maintaining', 'pipelining', 'scientist*', 'stress', 'unsatisfaction', '/rant', 'bathroom', 'sarcastically', 'representation/feature', 'urgent', 'recipes', 'calories', 'c..', 'f.', 'minimize', 'flavor', 'creamy', 'transaction/', 'order_id', 'mlxtend', 'algo', 'frequent', 'itemsets', 'mining/', 'question-answer', 'organisation', 'off-the-shelf', 'question-answering', 'fee\\\\_payment', 'portal', \"'how\", \"'what\", '|intent|answer|question|', 'portal|how', 'portal|what', 'intent1\\\\_answer1\\\\_question10', 'intent1\\\\_answer2\\\\_question1', 'intent1\\\\_answer2\\\\_question10', 'intent1\\\\_answer50\\\\_question1', 'intent1\\\\_answer50\\\\_question10', '|||', 'intent100\\\\_answer1\\\\_question1', 'intent100\\\\_answer1\\\\_question10', 'intent100\\\\_answer50\\\\_question1', 'intent100\\\\_answer50\\\\_question10', 'rasa', 'nlu', 'accurately', 'arbitrarily', 'worded', 'similar/relevant', 'acheive', 'lookup/search', 'supervised/unsupervised', 'ml/dl', 'language-agnostic', 'arabic', 'widget', 'homescreen', 'button', 'gps', 'locate', 'seti', 'high-dimensional', '//medium.com/syncedreview/facebook-hiplot-makes-understanding-high-dimensional-data-easy-d4ce14ec2a56', 'm4', 'es-rnn', 'uncommon', '7+', 'belly', 'reputed', '12.5k', 'thoughts..', 'non-product', 'messenger', 'stats/ml/engineering', 'stats/probability', 'cracking', 'decode', 'conquer', '//www.reddit.com/r/datascience/comments/eytza6/experienced_data_scientists_what_are_the_most/', 'utm_source=share', 'utm_medium=ios_app', 'utm_name=iossmf', 'retaliatory', 'perspectives', '.csv', 'atspy', 'classmate', '31st', 'partner', 'adamant', 'resides', 'contradiction', 'tomorrow', 'depression', 'company/team', 'unlimited', 'irrelevant', 'depiction', '😂😂', 'detached', 'anaylitics', 'unanswered', 'inequality', 'irs', 'soi', '//i.redd.it/pilzxsm3zre41.gif', 'ga', '*n*', 'minimizes', '**x', '1,0\\\\', '0,1\\\\', '0,0\\\\', 'constant', '**w**', 'w1\\\\*x1+w2\\\\*x2+w3\\\\*', 'x1\\\\*x3', 'w', 'x.', 'decently', 'this..', '//www.reddit.com/r/datascience/comments/713hnw/how_i_went_from_no_coding_or_machine_learning/', 'solidified', '\\\\*a', 'lot\\\\*', 'drawback', 'classwork', 'on/2', 'professor', 'u/ballsfor11days', 'sinking', 'minded', 'conjure', 'locked', 'concrete', 'musk', 'tweeted', 'party/hackathon', 'invitations', 'hackathons', 'prague', 'tweet', 'register', 'non-queries', 'wallpaper', 'digitized', '20-60', '10-20', 'colour', '/not', 'variations', 'neutral', 'stands', 'lit', 'insights/suggested', 'supplementary', 'labs', 'labs/exercises', 'pumped', 'gestalt', 'non-paramteric', 'coherent', 'consistency', 'characteristics', 'gam', 'tune', 'shortcomings', 'exposing', 'flaws', 'mars', 'co-linearity', 'inflated', 'elliptically', 'symmetric', 'e', 'x1', 'a+b', '//preview.redd.it/i18x62j9tpe41.jpg', 'width=500', 's=2750128e9c81c8006febc03714623135d3d86434', 'firefighter', 'sjould', 'outloers', 'should*', 'outliers*', 'congrats', 'precedent', 'disputes', 'scandalous', 'v.', 'legalized', 'prohibited', '//parsers.me/us-court-fully-legalized-website-scraping-and-technically-prohibited-it/', 'concludes', 'publicly', 'monopolies', 'profession', 'infectious', 'diseases', 'pneumonia', 'classic', 'requisite', 'equally-rigorous', 'plug-and-play', 'run-through', '0.5.0', '//github.com/hudson-and-thames/mlfinlab', 'breaks', '//mlfinlab.readthedocs.io/en/latest/implementations/structural_breaks.html', 'microstructural', '//mlfinlab.readthedocs.io/en/latest/implementations/microstructural_features.html', 'onc', '//mlfinlab.readthedocs.io/en/latest/implementations/clustering.html', '//mlfinlab.readthedocs.io/en/latest/implementations/feature_importance.html', '//mlfinlab.readthedocs.io/en/latest/implementations/data_structures.html', 'module-mlfinlab.data_structures.time_data_structures', 'z-score', '//mlfinlab.readthedocs.io/en/latest/implementations/filters.html', 'z-score-filter', 'textbook', 'journal', '//jfds.pm-research.com/', 'codependence', '//mlfinlab.readthedocs.io/en/develop/implementations/codependence.html', 'fingerprint', '//mlfinlab.readthedocs.io/en/develop/implementations/feature_importance.html', 'model-fingerprints-algorithm', 'open-sourced', 'finml', 'patiently', 'businiess', 'batchelor', 'underpayed', 'collegues', '40k', '4152,95', '200', 'ok.', 'intressted', 'bored', 'revising', 'sweden', 'swap', 'steer', 'combining', 'loose', 'becomming', 'financiall', 'beginn', 'complained', 'complain', 'takeaways', 'comment', 'career/degree', 'existed', 'multitude', 'zoology', 'wished', 'restless', 'ipynb', 'fur', 'suits', 'corrected', '/rated', 'insights/tips', 'slippery', 'slope', 'surface', 'experiential', 'espn', 'science-driven', 'electronic', 'troubled', 'pits', 'exciting', 'enhances', 'judgment', 'pure', 'picks', '49ers', 'digits', 'creativity', 'mahomes', 'chiefs', 'dominated', '//www-marketwatch-com.cdn.ampproject.org/c/s/www.marketwatch.com/amp/story/guid/3ddb8142-420e-11ea-a2b5-7ca866cfd189', 'biased', 'pratical', 'software/tools/python', 'libraries/etc', 'profissional', '**disclaimer**', 'trick', 'fueling', 'circlejerk', '~', 'revolves', 'object', 'dabbing', 'specially', 'authors', '*this', 'python*', 'ugly', 'spoiled', 'confidently', 'r**', 'project**', 'unbiased', '750k', '850k', '/year', 'lmao', 'glasses', 'wipe', '👋', 'saas', 'cross-over', 'died', 'quiet', 'bedroom', 'spouse', 'clickety', 'clacking', 'sucks', 'mechanically', 'auto-corrects', 'mash', 'backspace', 'bracket', 'typing', 'loud', 'clicky', 'keyboards', 'wireless', 'hang', 'intention', 'british', 'happier', 'ye', 'olde', 'continent', 'iterating', 'dependencies', 'iterate', 'wreck', '3.5-7', 'behemoths', 'dangerously', 'vent', 'bi/it', 'maintains', 'behalf', 'mungers', 'wrangles', '**context**', 'teased', 'breakout', 'baked', '*desktop*', 'unclean', 'dozens', 'third-party', 'uncontested', 'imho', 'photoshop', 'overkill', 'structure/distribution', 'painless', 'semi-automated', 'dynamically', 'turnaround', \"f'ing\", '**the', 'buggy', 'but**', '***dangerously', 'unstable***', 'slick', '//help.tableau.com/current/prep/en-us/img/prep_union3.png', 'unions/joins', 'near-real', 'natively', '//help.tableau.com/current/prep/en-us/img/prep_connect.png', '.hyper', 'cleanly', 'bundled', 'overhead', '\\\\~5+', 'union', 'rename', 'nightmare', 'fuel', 'handles', 'low-resource', 'warnings', 'notification', '*maybe*', 'freeze', 'frozen', 'recover', '**half', 'force-killing', 'hung', 'executable', 'corrupt', 'unrecoverable', '*can*', 'regenerate', \"'new\", 'recovering', 'endless-loop', 'skilled', 'rereading', 'realizing', 'soul-crushingly', 'workshop', 'panelists', 'embraced', 'mentality', 'eat', 'breath', 'guideline', 'parents', '80k', 'sent', '5-15', 'trickiest', '35k', 'stackoverflow', 'logit', 'baseline', 'ppt', 'sat/gre', '3:15', 'clock', 'manholes', 'u.s', 'guaranteed', 'handed', 'viewing', 'finds', 'intake', 'submits', 'triaged', 'tons', 'smith', 'tackling', 'similarly', 'totals', 'unlock', 'technological', 'tendency', 'oftentimes', 'upsets', 'pigeonholed', 'pushes', 'strongly', 'urged', 'beauty', 'disagreements', 'problem-solving', 'reframe', 'narrow', 'cross-team', 'finnickiness', 'tens', 'zoom', 'pan', 'hierarchical', 'smoothing', 'cared', 'in-line', 'dial', 'refreshing', 'rerunning', 'weekly/biweekly', 'satisfy', 'clouds', 'demonstrated', 'oral', 'trap', 'announce', '//github.com/stellargraph/stellargraph/releases', 'optimised', 'simplified', 'inbuilt', 'downloading', 'cluster-gcn', 'relational-gcn', 'rgcn', 'full-batch', 'sampledheterogeneousbreadthfirstwalk', 'directedbreadthfirstneighbours', 'uniformrandomwalk', 'fullbatchnodegenerator.flow', 'hinsage', 'simplification', 'graphschema', 'look-ups', 'preview', 'networkx-based', 'adore', 'field.should', 'restructures', 'imputation', 'maintainer/author', 'miceranger', 'impute', 'preliminary', 'benchmarking', 'mcar', 'imputations', 're-running', '//github.com/farrellday/miceranger', 'benchmarks', '//github.com/farrellday/miceranger/tree/master/benchmarks', 'ranks', 'engines', 'straight-forward', 'cloud-based', 'provider', 'vlookup', 'index/match', 'visualise', 'confirmed', 'one-page', 'splash', '**github', 'pages**', 'projects*', '*resumé*', '//towardsdatascience.com/making-a-free-personal-one-page-splash-screen-60344f243dfd', 'n00b', 'voices', 'photos', 'decade-defining', 'revolutionize', 'consume', 'durations', 'longitude', 'audiences', 'hyper', 'behaviors', 'campaign', 'globally', 'siloed', 'logically', 'dir', 'enforcing', 'contain', '*could*', 'silo', 'directories', '.r', 'concerning', 'mixes', 'lowest', 'fellas', 'represent', '//preview.redd.it/y8x1ar6p3yd41.png', 'width=3360', 's=5334d7b9d1540b5d2039a41fecd8c4b74928b018', 'pclass=1', '0,100\\\\', 'pays', 'consequences', 'socio-economic', 'width', 'books/articles', 'commuting', 'trainee', '45-60', 'bus/metro', 'refering', 'entering/transitioning', 'stand-alone', 'r/python', 'low-hanging', 'fruit', 'tenure', 'mentors', 'non-senior', 'datascientist', 'acumen', 'organizational', 'buy-in', 'embark', 'intuition', 'can/could', 'bootleg', 'towarsdatascience', 'holy', 'cheated', 'hoc', 'damn', 'ashamed', 'uber', 'accountant', 'ios', 'professions', 'training/certificates', 'buffs', 'combines', 'historians', 'analytics/make', 'anticipated', '+10^6', 'obs', 'ish', 'detecting', 'eventual', 'fitted', 'retrained', 'mixture', 'altough', 'grateful', 'inspo', '2500', 'careful', 'capture', 'flag', 'speed/accuracy', 'euler', 'python/sql', 'ixperience', 'interpretations', '//ixperience.co/l19/sm/course/data-science/cape-town', 'fist', 'named', '//github.com/galligiuly/reddit\\\\_classifier', '//github.com/galligiuly/reddit_classifier', 'suggesting', 'wich', 'blog/post', 'bigquery', '//bigquery.cloud.google.com/dataset/fh-bigquery', 'reddit_comments', 'pli=1', 'differents', 'thematic', '//github.com/galligiuly/reddit_classifier/blob/master/project_testing_v2.ipynb', 'ticket', 'cruise', 'excursions', '//preview.redd.it/5yzh2tlxkod41.png', 'width=339', 's=5c9eae8c6f0b44336b904388b49f28566c52f0b7', 'kpi', 'nationality', 'theres', 'cruise\\\\_length', '3000', 'looker', 'qlik', 'brief', 'when/where', 'bootstrapping', 'sustain', 'profit', 'judge', 'datasciencebot', 'fritz', 'glance', 'iterates', 'removes', 'exception', 'airflow', 'lurker', 'octg', 'on-premise', 'migrated', 'microsoft-dependent', 'probable', 'customization', 'u/needdatainsights', 'pushift.io', 'raspberry', 'pi', 'weapping', 'xterm', 'typed', 'columes', 'displaced', 'wrapping', 'zterm', 'tge', 'tou', 'books/learning', '//www.amazon.com/dp/0132350882/ref=cm_sw_r_cp_awdb_t1_wyileb93ncpqf', 'data-intensive', '//shop.oreilly.com/product/0636920032175.do', 'geurilla', '//guerrilla-analytics.net/', 'recommendations/words', 'mondays', 'considerably', '70k', '183k', 'moderation', 'detract', 'practitioners', 'debate', 'gauge', 'mod', 'command-line', 'hellbent', 'design/logic', 'do/did', 'regard', 'massively', 'overqualified/over-experienced', 'cleansing/entry', 'oversaturated', 'peopleperhour', 'upwork', 'stats/business', 'therein', 'xml', 'usefulness', 'outline', 'saves', 'snowflakes', 'arises', 'niches', 'snowflake', 'administrated', 'personalize', 'enables', 'passes', 'specialicites', 'analytics/operations', 'legitimate', 'associations', 'collaborating', 'personnel', 'resolve', 'specifications', 'resolution', 'conflicting', 'ownership', 'provision', 'executing', 'initiatives', 'co.', 'policies', 'screw', 'burned', 'reforgotten', 'forgotten', 'utterly', 'sharp', 'varying', 'difficulties', 'relating', 'inspirational', 'datakind', 'crickets', 'acknowledgement', 'configured', 'scientist..', 'cloud/on', 'evenly', 'upgrade/change', 'r/cscareerquestions', 'cran', 'contribution', 'recognizing', 'shoehorning', 'booked', 'hour/day', 'contributed', 'pet', 'language-driven', 'pymc3', 'stan', '//www.datarobot.com/solutions/', 'organizations', 'equipment', 'facilities', 'ecosystem', 'adds', '*naive*', '**calculating', 'value/price', 'stocks**', 'archived', 'kicking', 'stage', 'spelling', 'novel', '2019-ncov', 'simulate', 'summers', 'winter..', 'dying', 'installation', 'unpopular', 'curiosity', 'web/software/api', 'owners', 'expressed', 'frustration', '1m/yr', 'plugin', 'lojipath', '//www.lojipath.com/', 'seconds', 'half-way', 'nginx/gunicorn/supervisor', 'stripe', 'coolest', 'incorporation', 'kivy', 'swear', 'adapting', 'documentary', 'lengthy', 'trailer', 'v=71-iqtqjkj0', 'imdb', 'analysis/engineering', 'acquire', 'lurking', 'suggests', 'sized', 'bba', 'qliksense', 'stipulation', '5-6', 'exp', 'warehouse-etl', 'geater', '70k/yr', 'gene', 'sample-gene', 'counting', 'subsequently', 'old-school', 'analog', 'quantifying', 'fluorescence', 'intensity', 'pytest', 'interferance', 'hunch', 'favorites', 'die*', '*naked', 'statistics*', 'unc', 'adept', 'expereince', 'h1b', 'accounting', '2:2', '54', 'visa', '2015', 'credits', 'stretch', 'résumés', 'substance', 'evolved', 'continuously-', 'retrospectively', 'acknowledging', 'segregate', 'books/papers', 'case-specific', 'footy', 'hundred', 'malignant', 'hints', 'noisy', 'iam', 'undegraduate', 'about-', 'devlop', 'yo', 'referral', 'devlopment', 'first-day', 'peer-to-peer', 'lending', 'jan-27', 'suggestions/advice', 'tho', 'here\\\\', 'cleaning/parse', 'collector', 'contemplating', 'science/analyst', '1,5', 'daunting', 'decreases', 'interviews/coding', '//preview.redd.it/7t5gjsfmhyc41.png', 'width=1700', 's=d065ca4554a6164e8e72806c066fcd7276c4729e', 'autogluon', 'lowering', 'actuary', 'diego', 'micromaster', 'foray', 'placing', 'posts/articles', 'declare', 'divide', '2mm', 'hacking', 'allocate', 'interchangeable', 'classifying', 'corruption', 'acquisition', 'merger', '2k-3k', 'webhose.io', 'pushshift.io', 'fetch', 'duplicates', 'tiring', '20k', '2k', 'cutoff', 'non-standard', 'interns', 'card', 'landscape', '5+', 'b2c', 'gamut', 'worn', 'intrigued', 'progressing', 'any/all', 'lined', 'yay', 'hopping', 'stellar', 'net', 'interconnected', 'macros', 'vlookups', 'replacement', 'acces', 'manualy', 'replacing', 'xlsx', 'front-end', 'n-dimensional', 'tricky', 'user-base', 'loves', 'charting', 'roll-up', 'drill', 'underneath', 'make/model', '1**', 'honda', 'crv', 'accord', '2**', 'totoya', '34', 'widgets', 'attach', 'obtain', 'majors', 'math/stats', '24f', 'mis', '1.5yrs', 'exceptionally', 'couch', 'newbies', 'specializing', 'analytics/statistics', 'breakdown', 'contributor/management', 'principal/lead', 'vp/head', 'branching', 'engineer/data', 'engineer/product', 'interpretative', '//towardsdatascience.com/predictive-vs-interpretative-analytics-9f2d85ac1106', 'discussing', 'roi', 'algos', 'mapreduce', 'beforehand', 'science/ai', 'thoughtworks', 'languages/tools', 'product/business', 'refers', 'member', 'anonymous', 'factually', 'informational', '**was', 'knowingly', 'claim', 'voice', 'vc', 'ouch', 'sixth', 'sting', 'mediocre', 'dismissed', 'layman', 'humble', 'pluralsight', '//www.humblebundle.com/software/data-science-and-machine-learning-software', 'utm_source=facebook', 'utm_medium=link', 'utm_campaign=ds_ml_software_announc', 'fbclid=iwar21cqhm7z0tsrlmxpudbkwncxj_rtbvxzs8ur1f8z6lcijswcc6rq2cmry', 'buying', 'scrap', '15gbs', 'cleaned', 'unmatching', 'concatenated', 'crossroads', 'psypark', 'rabbit', 'hole', 'customer-based', 'definite', 'sufficiently', 'believable', '1985–2016', 'entries', 'panda', 'expanded', 'horizontally', 'datafrme', '//a.name/', 'b.name', '//b.name/', 'a.merge', 'on=\\\\', \"'name'\\\\\", \"how='left\", 'indicator=true', '.reset\\\\_index', 'drop=true', 'refuses', 'nos', 'cubevalue', 'subgroups', 'efficacy', 'ill-advised', 'economics/global', 'inted', 'plagiarizing', 'siince', 'porfolio', 'participations', 'countless', 'rejects', 'altruists', 'perceived', 'women', 'workshops', 'contrary', 'pressue', 'torque', 'measured', 'periodically', 'satisfactory', 'stationary', 'cross-sectional', 'scipy.stats.gaussian\\\\_kde', 'uniform', 'epanechnikov', 'quartic', 'biweight', 'tricube', 'triweight', 'cosine', 'kernels', '82k', 'adhoc', 'margin', 'alma', 'mater', 'postdoc', 'suspect', '.what', 'partition', 'billed', 'dirt', '100s', 'the20tb', 'resultant', '7-8', 'flies', 'tsv', 'wa', 'nt', 'productionalize', 'teecore', 'incremental', '.the', 'resilient', 'patterns/', 'substring', 'planing', 'mongo', '😊', 'swindled', 'overhyped/over', 'grounded', 'apprised', 'fluffy/alarmist', 'nyt', 'bloomberg', 'pieces', '*tldr', 'workhorse', 'burgeoning', 'travels', 'semi', '80-90', 'flying', 'ot', 'idle', 'airport', 'outlay', 'secondary', 'filler', 'gratefully', 'forgot', 'bang', 'buck', 'trumps', 'two-month', 'unbanked', 'film', 'journals', 'attractiveness', 'non-quantitative', 'publish', 'pressing', 'matrices', 'actionable', 'vps', 'oversee', 'walmart', 'sams', 'minitab', 'experiencing', 'col-linearity', 'yahoo', 'apple', 'priced', 'headstart', 'collin', 'gearing', 'management/data', 'conventional', 'unwise', 'folk', 'buckle', 'degrade', 'subconsciously', 'disrespect', 'pioneering', 'adopters', 'statisticians', 'floored', 'profits', 'seasonal', 'tourism', 'plopped', 'fancier', 'mcmc', 'remembered', 'considerations', 'scipy.stats.rv_continuous.fit', 'mles', 'data.', 'mle', 'reactjs', '19', '//www.census.gov/library/stories/2019/09/us-median-household-income-up-in-2018-from-2017.html', 'household', 'included', 'ios/android', 'athena', 'elk', 'accessing', 'endpoints', 'encryption', 'hash', 'pursuit', 'blindside', 'publicity', 'decks', 'non-analytics', 'mentally', 'affords', 'incredible', 'perk', 'anchor', 'tolerate', 'detrimental', 'triumphs', 'academics', 'supportive', 'compromise', 'skus', 'fgs', 'store-front', 'use-case', 'upsides', 'downsides', 'patched', 'isins', 'index', 'afaik', 'dplyr', 'alltogether', 'fixed', 'interacted', 'skewness', '7,14,30', 'halves', '30days', 'ideas/thoughts', 'lessons-learned', 'data-science', 'data-scientist', 'participated', '100+', 'westen', 'eu', 'booming', 'specialists', 'dstists', 'overhyped', 'backfire', 'sleeping', 'wake', 'enthousiasts', 'fate', 'hype', 'winter', 'self-employed', 'alien', 'multicollinearity', 'uncorrelated', '*https', '//www.reddit.com/r/datascience/comments/eld2yp/what\\\\_do\\\\_you\\\\_call\\\\_a\\\\_group\\\\_of\\\\_data\\\\_scientists/*', '//www.reddit.com/r/datascience/comments/eld2yp/what_do_you_call_a_group_of_data_scientists/', 'gaggle', 'seth', 'stephens-davidowitz', 'pornhub', 'wisdom', 'etl/building', 'roasted', 'self-taught', 'binging', 'harry', 'potter', 'joins', 'subqueries', 'where/having/case', 'skipped', 'permission', 'cyberduck', 'finagle', 'existence', 'mentioning', 'nonconsequential', 'literate', 'omg-go-take-a-udemy', '**right', 'now**']\n",
      "['dobby', 'laundry', 'inadvertently', 'foto', 'basnie', '13th', 'nameday', 'kristian', 'nairn', 'dj', 'ed', 'uni', 'hyped', 'tune', 'laena', 'velaryon', 'wifes', 'artist-chillyravenart', \"'scorpion\", 'sights', 'surely', 'rear', 'atleast', 'mistake', 'engaged', 'pycelle', 'hobbled', 'frail', 'prostitute', 'agile', 'cowardly', 'generals', 'leonidas', 'supposidely', 'captain', 'ship', 'audible', 'umpteenth', 'apparent', 'subplot', 'trainwreck', 'countless', 'endgame', 'batshit', 'pawns', 'finesse', 'trystane', 'ariane', 'unanswered', 'replace', 'portion', 'ugly', 'average', 'intelligence', 'digress', 'mini', 'wow', 'complain', 'realistically', 'build-up', 'occasions', 'struggle', 'vanguard', 'spare', 'carrying', 'gut-punch', 'essential', 'arguably', 'one-on-one', 'mirror', 'lyanna', 'justify', 'criticizes', 'decent', 'surround', 'interfere', 'reigned', '17', 'relative', 'peace', 'rarity', 'changing', 'intelligent', 'heads', 'flaw', 'whoring', 'hurting', 'drove', 'heavy', 'erikarnaya', 'hogwarts', 'shower', '**gryffindor**', 'seaworth', 'naharis', 'renly', 'benjen', 'meera', 'giantsbane', '**slytherin**', 'ambitious', 'snow/bolton', 'malfoy', 'gryffindor', 'money/personal', 'shae', 'khal', 'balon', 'rayder', '**hufflepuff**', 'ravenclaw', 'hufflepuff', 'tossing', 'gilly', '**ravenclaw**', 'aemon', 'reunited', 'adventurers', 'wull', 'itll', 'ive', 'imperium', 'pendant', 'silver', '6th', 'honnestly', 'ep.2', '\\\\\\\\', 'kingdoms\\\\\\\\', '//preview.redd.it/o2fbauz56vk41.png', 'width=2048', 's=656c2e4c2f558a9b95eb17f3e305bea2853ec849', 'ambience', 'posible', 'among', 'realisator', 'folowing', 'jenny', 'oldstone', 'chills', 'everytime', 'depressed', '😥', \"'valar\", 'network', '//preview.redd.it/r2084mlp11l41.png', 'width=1130', 's=9762b583f813ddf4becbe2276a40d9cd0fe608da', 'interactions', 'code', 'generate', 'share/edit', '41:00', 'dress', 'french', 'sleeves', '😂😂', 'uninterested', 'casually', 'sunday', 'stalking', 'media', 'unmotivated', 'normally', 'occasionally', 'hurts', 'crew', 'connected', 'dany/emilia', 'jon/kit', 'sansa/sophie', 'arya/maisie', 'tough', 'connections', 'harder', 'broke', 'honesty', 'prequels', 're-watch', 'experiences', 'blackfyres', 'class-', 'cue', 'programming', 'arduino', 'leukemia', 'translate', 'hen', 'morghon', 'morgho', 'banquet', 'bravosi', 'problematic', 'misinterpreted', 'local', 'bengali', '2016', 'handed', 'candy', \"'childlings\", 'africa', 'toto', 'drums', 'loud', 'whispers', 'anticipation', 'bloodied', 'coat', 'reflects', 'guide', 'domination', 'crone', 'wisdom', 'hurry', 'drag', 'ten', 'reynes', 'howl', 'wishing', 'tarbeck', 'casterly', 'rises', 'traitors', 'drown', 'scum', 'seal', 'mines', 'flow', '73', '64', '32', 'imdb', 'rating', 'poll', 'disclosure', 'understanding', 'four', 'novellas', 'sketched', 'autodesk', 'sketchbook', 'wacom', 'accessible', 'raydar', 'answered', 'g57c', 'ig', 'opening', 'opens', 'corridor', 'knee', 'height', 'campfire', 'opposite', 'reveals', 'pans', 'properly', 'addressing', 'front-on', 'clarke', 'bandage', 'fade', 'flames', 'parallel', 'fan-made', 'mordhau', 'recovered', 'budget', 'breaking', 'wire', 'westros', 'print', 'whoever', 'pieces', 'fundraiser', \"y'all\", 'nappy', 'doodles', 'blacks', 'greens', 'exclusively', 'mossovy', 'silverwing', 'elenastripe', '2019', 'fu', 'poem', 'braved', 'seas', 'papi', 'meereen', 'feed', 'sheep', 'wagons', 'crisp', 'outcome', 'kwonbomi', 'shiera', 'desired', 'sister-wives', 'gross', 'visenya', 'rhaenys', 'wannabe', 'apreciate', 'art😂', 'bold', 'armour', 'pains', 'react', 'talented', 'animate', 'scenese', 'reshoot', 'redraw', 'implying', '50-100+', 'hundreds', 'joined', 'brynden', 'secretly', 'watercolour', 'pen', 'actress', 'dinklage', 'headey', 't-shirts', 'stickers', 'hrakkar', 'penultimate', 'sequences', 'portraits', 'celebrity', 'thornes', '13+', 'time-lapsed', 'cosplayers', 'displayed', 'deeply', 'reacted', 'avoiding', 'avoids', 'generally', 'believed', 'assumes', 'contrary', 'guilt', 'numbness', 'murder', 'at-least', 'smallfolk', 'kay', 'definitively', 'rumours', 'visiting', 'smoking', 'ruins', 'cackling', 'wildly', 'mill', 'traction', 'blown', 'darkened', 'taverns', 'sober', 'royalty', 'status', 'lower', 'revolving', 'monarchs', 'mattered', 'spouse', 'shajar', 'al-durr', 'complicated', 'matters', 'bank', 'incentive', 'drastically', 'complacent', 'squads', 'bands', 'patrolling', 'excess', 'mysterious', 'kidnappings', 'devil', 'comfortable', 'foreigner', 'editing', 'cookies', 'powerpoint', 'commissioned', 'djawadism', 'sweater', 'ep9', 'nonononono', 'venting', 'goddamn', 'false', 'security', 'eerie', 'mom', 'arye', 'tortured', 'freaked', 'arthur', 'dayne', 'that..', 'g.o.t', 'pottermore', 'assistance', 'j.k.r', 'castomere', 'favorites', 'rocks', 'tumbling', 'ohhhh', 'tears', 'joy', 'e2', 'classical', 'malay', '🔥', 'tragedy', 'annoyed', 'tragically', 'superhero', 'happily', 'protagonists', 'debating', 'unfolded', 'examples', 'places', 'foreign', 'halfway', 'kings*', '**choque', 'reyes**', '**juego', 'tronos**', '*westeros*', '*poniente*', '*winterfell*', '*invernalia*', 'derives', '*invierno*', '*la', 'avecina', 'ahora', 'empieza', 'terminará', 'hasta', 'día', 'muerte', 'tomaré', 'poseeré', 'tierras', 'engendraré', 'hijos', 'llevaré', 'alcanzaré', 'gloria', 'viviré', 'moriré', 'puesto', 'espada', 'oscuridad', 'vigilante', 'del', 'muro', 'fuego', 'arde', 'contra', 'frío', 'luz', 'trae', 'amanecer', 'cuerno', 'despierta', 'durmientes', 'escudo', 'defiende', 'reinos', 'hombres', 'entrego', 'vida', 'durante', 'esta', 'todas', 'las', 'estén', 'por', 'venir', 'substantial', 'notice', 'convey', 'whereas', 'compensate', '**tomaré**', 'wear', 'ir', '**no', 'voy', 'llevar**', 'contributions', 'cristina', 'macía', 'translated', 'difficulties', 'jeopardy', 'shade', 'picking', '***hodor', 'sultan', '+', 'shepard', 'feat', 'nadia', 'ali', 'iro', 'vengeance', 'hid', 'six', 'bypasses', 'winderfell', 'westeros-', 'survives', 'risk', 'demise', 'rejected', 'henchmen', 'snuff', 'interrupted', 'largest', 'tips', 'skipping', 'xd', 'flew', 'bag', 'recovers', 'icey', 'shatters', 'servant', 'charts', 'wrist', 'upper', 'helps', 'dissapointing', 'moments/scenes', 'favourites', 'verbal', 'jousting', 'containing', 'hvac', 'synth-orchestral', 'bb', 'arts', 'survey', 'questionnaire', 'accents', 'diploma', 'thesis', 'fbclid=iwar30qdnjo_d1t51h2zt-xkvcz36pecsfc2-gvyks0kzrqck7gas2oea8j9q', 'boxset', 'vid', 'publisher/developer', 'rush', 'patient', 'ranked', 'spoiling', 'identical', 'boring', 'fourth', '400', 'curled', 'waking', 'ugh', 'shocked', 'giggling', 'hundred', 'excitement', 'recommendation', 'adding', 'assumed', 'identity', 'ruse', 'lure', 'undamaged', 'space', 'extract', 'dispose', 'effectively', 'secluded', 'engagung', 'criminal', 'charcoal', \"h'gar..\", 'mocked', 'j1', 'statement', 'helping', 'j2', 'trys', 'hesitation', 'fails', 'j3', 'triology', 'rewritten', 'evens', 'slow', 'in-depth', 'merry', 'pippin', 'tom', 'bombadil', 'gandalf', 'rivendell', 'towers', 'crammed', 'formed', 'helm', 'osgiliath', 'concisely', 'packed', '3.5', 'role', 'théoden', 'aid', 'beacons', 'ghosts', 'rallied', 'mount', 'doom', 'willingly', 'sealing', 'arawen', 'overcome', 'guessed', 'butcher', 'battalion', 'charges', 'contact', 'cliffhanger', 'surrenders', 'gladly', 'continues', 'liberated.', 'eowyn', 'trust', 'misery', 'catelyns', 'redeeming', 'fearsome', 'charging', 'suicide', 'kiss', 'forehead', 'jealous', 'childish', 'dismantling', 'coffee', 'table', 'belonged', 'sellsword', '🙄', 'ranger', '//preview.redd.it/mdlefj8x3oi41.png', 's=e757d8e9e283c7b9e27c065cfb343e99560a8990', 'simplistic', 'pixel', 'lioness', 'serving', 'rbf', 'champagne', 'video🤘', 'bruce', 'dickinson', '\\\\*dont', '\\\\*', 'confirmed', 'cleganes', \"'what\", 'positing', 'descendants', '192-259', '220', '225', '228', '230', 'kingsguard', '233', 'lordling', '255', 'manderly', '260', 'chronological', 'asoiaf/got', 'patch', 'comments', 'protection', 'kovarro', 'riders', 'bark', 'command', 'needless', '-house', '-fire', '-dracarys', 'injustice', 'recognized', 'rhaegars', 'chapter', 'ah', 'contains', 'stereotypical', 'mindset', 'film/show', 'grew', 'belong', 'proudly', 'admired', 'cry', 'flirty', 'conversations', 'crushed', 'traumatizing', 'water', 'breathe', 'shaking', 'tomin', 'stares', 'flung', 'shortly', 'hobbit', 'lotr', 'clothing', 'weaponry', '70+', 'copy', '900', 'pull', 'blasphemy', 'skip', 'length', 'pacing', 'incredible', 'life-like', 'inna', 'vjuzhanina', 'rhe', 'hefty', 'foxy', 'enamel', 'pins', 'adventure', 'mechanical', 'bartlow', 'dread', 'machine', '//preview.redd.it/io7sohz3n8i41.png', 's=fa52dc1affc223b604989348ca022d127478f412', 'patrick', 'websites', 'controversies', 'box', 'selected', 'responds', 'crane', 'meets', 'shut', 'brown', 'blue', 'forgetting', 'covered', 'animal', 'retook', 'banner', 'colors', 'reversed', 'misread', 'hiya', 'laughed', 'smiled', 'threezero', 'sixth', 'scale', 'digest', 'amplify', 'satisfying', 'hears', 'ringing', 'sudden', 'recent', 'traumas', 'parentage', 'paranoid', 'traumatic', 'knee-jerk', 'pushed', 'deciding', 'genocidal', 'outright', 'such-and-such', 'emphasis', 'value', 'runners', 'massacres', 'blowing', 'bailor', 'outdo', 'hollow', 'psychotic', 'sadistic', 'understood', 'committed', 'engineered', 'satisfy', 'bloodlust', 'darn', 'efficient', 'lasting', '35', 'suffering', 'sequence', 'overbearing', 'walks', 'exhausted', 'chaos', 'gratuitous', '/jon', 'successful', 'utterly', 'article', 'commented', 'faithful', 'imagined', 'lands', 'unfair', 'treason', 'stated', 'shake', 'negatively', 'preferred', 'accord', 'folk/wilding', 'joining', 'escorting', '5.', 'beginner', 'yasar', 'vurdem', 're-edited', 'chronology', 'novella', 'feature', 'covering', 'path', 're-edit', '//drive.google.com/file/d/1urgfxltr3dglxyw7whnzfcv5kg0cvd1n/view', '//drive.google.com/file/d/1ttf6yf5l1lz4fes7cp93l2f8qh-5dgyx/view', 'jonas', '12yo', 'like.', 'lore', 'bitter', 'fixing', 'poorly', 'grim', 'lined', 'unbeatable', 'blessing', 'race', 'lights', 'snuffed', 'husk', 'corpses', 'johra', 'remove', 'altars', 'mana/stamina/limited', 'casting', 'risen', 'horses', 'humans', 'animals', 'snowbear', 'thoras', 'revive', 'durability', 'struggling', 'jons', 'sides', 'crashing', 'disorent', 'ripe', 'throats', 'limbs', 'nks', 'doors', 'disadvantage', 'targets', 'limit', 'underlings', 'gamble', 'trample', 'ice/glass/crystal', 'sharp', 'blinded', 'momentarily', 'protect', 'above/behind', 'mainline', 'forest', 'worrying', 'stopping', 'scratch', 'claw', 'bows', 'concentrate', 'claws', 'feathers', 'cannon', 'fodder', 'manipul', 'ation', 'suited', 'hounding', 'visibility', 'wreck', 'havoc', 'formation', 'easier', 'hide', 'speculation', 'frost', 'hail', 'stones', 'injure', 'unprotected', 'caster/mage', 'warrior/knight', 'tides', 'occurred', 'buried', 'swarmed', 'nowhere', 'rose', 'canon', 'screwed', 'heat', 'jorahs', 'cutting', 'godawful', 'grejoy', 'heel', 'redeemed', 'allows', 'hit', 'concussion', 'shrugged', 'hesitate', 'snapped', 'essence', 'staring', 'overrun', 'freaking', 'news', 'defender', 'observing', 'defense', 'gained', 'elsewhere', 'maps', 'settlements', 'replenish', 'knights', 'furs', 'metal', 'rivertowns', 'buys', 'slaughtering', 'proposed', 'items', 'crude', 'sieges', 'patience', 'unliving', 'distances', 'starve', 'juicy', 'starving', 'unlimited', 'range', 'dornish', 'bolster', 'overkill', 'traditional', 'wouldnt', '500,000', 'estimated', 'populate', 'underestimate', 'inferior', 'resort', 'savages', 'towns', 'plains', 'failing', 'qyburn', 'loot', 'hopelessness', 'cerseis', 'dannys', 'alliegance', 'westeroes', 'caws', 'sweeping', 'melissandre', 'labeled', 'insted', 'spot', 'teleporting', 'fucker', 'pack', 'merc', 'chickening', '5-8', 'layers', 'escapes', 'pyromancers', 'step', 'jungles', 'nang', 'downside', 'merchandise', 'opportunities', 'gregor/the', 'non-character', 'flat', 'spends', 'genetically-altered', 'cathartic', 'carries', 'carry', 'stranger', 'genetically', 'altered', 'regular', 'occasional', 'backstory', 'surface-level', 'enjoyment', 'copies', 'dvds', 'unfortunately', 'realize', 'opened', 'titles', '7/10', '13', 'fixed', '7.4', 'lion', 'protracted', '7.7', 'fields', 'dissent', 'executions', '7.9', 'political', 'consequences', '8.4', 'lapsing', 'coma', 'injuries', 'venerated', 'expense', 'retakes', '8.6', 'declaring', 'friendships', 'alliances', 'collapse', 'acrimoniously', 'exposed', '8.7', 'parley', 'violates', 'beheading', 'promising', '8.9', 'ashes', 'anguish', 'reawakening', 'installs', 'summons', 'kneel', 'declares', 'informs', 'fulfilment', 'compelled', 'collapses', 'sobbing', '8.10', 'molten', 'threatens', 'princ**ess**', 'attendance', 'pardoning', 'proposes', 'grants', 'condition', 'insurance', 'neighbour-border', 'invasions', 'infant', 'pardon', 'yohn', 'royce', 'jobs', 'masters', 'laws', 'whisperers', 'abolished', '3-eyed', 'appointment', 'settle', 'marrying', 'attend', 'coronation', 'post-credits', 'discovering', 'corpse', \"her-and-jon's-unborn-child\", 'scriptwriting', 'special', 'peculiar', 'curtains', 'searched', 'riddle', 'necessary', 'inspection', 'required', 'analyzing', 'evidences', 'clue', 'hints', 'seek', 'interviews', 'search', 'document', 'qualms', 'despise', '*what', 'was*', 'adwd', 'sketch', 'annoys', 'groups', 'thenns', 'blond/lighter', 'hair', 'mix', 'debts', 'unpaid', 'tribe', 'island…', 'viper', 'freely', 'muck', 'elia', 'spider', 'h', 'gar', 'believers', 'many-faced', 'teaches', 'tasks', 'blinds', 'learns', 'avenge', 'reaching', 'gary', 'laib', 'atmospheric', 'depicting', 'duo', 'disclaimer', 'flaws', '*talked*', 'obvious', 'convince', 'uprising', 'added', 'punish', 'rebelling', 'committing', 'lover', 'boom', 'solely', 'behaves', 'burns', 'beat', 'outcry', 'reflect', 'torturing', 'rereading', 'khalessi', 'dream', 'adopted', 'spiraling', 'obsession', 'fueled', 'heartbreak', '*if*', 'brutal', 'response', 'purging', 'whilst', 'ale', 'rams', 'horn', 'overestimated', 'closure', 'ps', 'reddit', 'pumped', 'critical', 'movies', 'winner', 'apply', 'controversial', 'applaud', 'director', 'miguel', 'sapochnik', 'direct', 'gripe', 'discussing', 'dickrider', 'theyre', 'representation', 'unity', 'have/had', 'par', 'importance/screentime', 'shared', 'alerted', 'wight', 'jeor', 'companion', 'terrifying', 'savage', 'gw', 'menacing', 'assassin', 'bc', 'alas', 'benched', 'creature', 'randomly', 'fangs', 'laced', 'valeryian', 'infamous', 'buddies', 'interaction', 'poured', 'salt', 'wound', 'stitching', 'robbs', 'aryas', 'shaggy', 'idgaf', 'device', 'implied', 'hindered', 'nanosecond', 'extension', 'hes', 'wasted', 'shell', 'wrap', 'theres', 'untamed', 'lethal', 'killers', 'define', 'extent', 'shouldnt', 'cave', 'g', 'enhanced', 'apple', 'edition', 'annotations', 'eras', 'g.r.r.m', 'asos', 'includes', 'recipe', 'fiery', 'peppers', 'blu-ray', 'picasso', 'legacy', 'january', 'amazes', 'base', 'aimed', 'launched', 'awoiaf', 'mod', 'snapseed', 'tutorial', 'jointherealm.com', 'symbol', 'options', 'sountracks', 'any/all', 'correspond', 'relive', 'pass', 'studying/working', 'donnna_art', 'historically', 'notable', 'chemistry', 'department', 'humor', '❤', 'fuccckk', 'entertaining', 'hehe', '16', 'bearer', 'descendent', 'fiancè', 'livable', 'quizup', 'unique', 'ads', 'dvd', 'phenomenon', 'delayed', 'bd', 'backlash', 'opted', 'shielded', 'strangely', 'disappointing', 'omfg', 'un-engaging', 'resurects', 'unreliable', 'match', 'pantheon', 'central', 'barely', 'shart', 'endings', 'gwendoline', 'christie', 'sophie', 'turner', 'alfie', 'allen', 'dialogues', 'laughable', 'stretched', 'tedious', 'slow-mo', 'jumping', 'shark', 'retreating', 'saving', 'stuck', 'bram', 'daylight', 'evenly', 'matched', 'victory', 'discussions', 'celebrating', 'v', 'boyfriend', 'agreed', 'choosing', 'illustrating', 'costumes', 'johnnie', 'madrid', 'ravenoth-the-brave', 'pure', 'devestation', 'surrounding', 'eye', 'ancestry', 'strife', 'discontent', 'danaerys', 'baseball', 'annual', 'yahoo', 'consisting', 'divided', 'divisions', 'playoffs', 'league**', 'soc\\\\_trk=lnk', 'soc_trk=lnk', 's8e2', 'zombies', 'playmat', 'resident', '🐺❤️', 'gist', 'scanning', 'various', 'contentious', 'doubtful', 'putting', 'mouth', 'spoke', 'scharfes.objektiv.fotografie', 'custom', 'watercooling', 'depth', 'australia', 'downloaded', 'america', 'leg', 'pursue', 'survivors', 'beach', 'annihilated', 'missandhei', 'swim', 'stunted', 'legs', 'winterfel', 'regrouping', 'hardwood', 'chardrev', 'breaks', 'snowflakes', 'hosts', '*jaime*', '*brienne*', 'awaits', '//preview.redd.it/7ul10mwgrqg41.png', 'width=214', 's=df1fb7e046a6fdfcfad5e6635091433c14a031fc', '*cersei*', 'swims', 'addition', 'crossbows', 'returns', 'sacrificing', 'blaze', 'sake', 'fame', 'precisely', 'freezing', 'motionless', 'fires', 'amplified', 'protects', 'liana', 'marmont', 'persuades', 'flares', 'directs', 'decapitates', 'dineris', 'desperately', 'tormand', 'immobilizes', 'mourn', 'lunge', 'guise', 'carelessly', 'treats', 'interrupts', 'stumbles', 'mortal', 'hugs', 'speaks', 'representing', 'netflix', 'offered', 'fireplace', 'concentration', 'camp', 'proposals', 'self-esteem', 'misfortune', 'replica', 'sale', 'introduction', 'newcomer', '2013', 'wwii', 'ep.3', 'interest', 'tomorrow', 'letdown', 'instead..', 'clues', 'meh', 'me..', 'cringe..', \"h'ghar\", 'spaced', 'daenerys..', 'vary', 'regressed', 'showing', 'loyalty', 'brienne/jamie', 'acting..', 'travels', 'description', \"'night\", 'gofundme', 'stuntman', 'brian', \"'sonny\", 'nickels', '54', 'easter', 'computing', 'textboox', 'crave', 'roommate', 'hooked', '4th', '//youtu.be/0cyem57ujks', '2nd', 'disregard', 'boxsets', 'on*', '^', 'ahead', '\\\\/\\\\/www.deviantart.com\\\\/caioesantos\\\\/art\\\\/ice-and-fire-699588779', '//preview.redd.it/bj4zo9j7i6g41.jpg', 'width=1024', 'format=pjpg', 's=8fc802c81dcba05a0b96b592a60379f8aa667de6', '**the', 'no**…', '**depending', 'circumstance', 'destroyed', '**full-grown', 'dragon\\\\***', 'assets', 'possesses', '*with', 'sharpness', 'twohanded', 'swords*', 'thick', 'scaley', 'impenetrable', 'hide*', '*bones', 'strong*', '*their', 'dragonflame', 'hot', 'melts', 'steel*', '***\\\\*the', 'growing', 'endlessly', 'dependent', 'adult', 'references', 'quora', 'bracketed', 'shoots', 'letting', 'abhorrent', 'postponing', 'reneging', '.right', 'gentle', 'showcased', 'begged', 'fortnight', 'wary/injured', 'voice', 'nail', 'coffin', 'wrapping', 'immersion', 'breakers', 'instance', '.not', 'jeep', 'account', 'reactions', 'drake', 'heavily', 'fireboi', 'targarian', 'aryes', 'strip', 'complexity', 'puts', 'cheated', 'areys', 'wealthiest', 'childbirth', 'raising', 'prideful', 'twyin', 'ideal', 'bigoted', 'abalist', 'westerose', 'analogous', 'medi', 'evil', 'sub', 'wheelchair', 'user', 'third', 'counties', 'atheists', 'religious', 'believes', 'broadly', 'agnostic', 'homophobic', 'extremists', 'gay', \"'insane\", 'insert', 'scene\\\\', '\\\\-the', 'beg', 'definetely', \"'issues\", '1-4', 'dreadfort', 'boltons', 'discover', 'boats', \"'how\", 'lols', 'checks', 'dictates', 'concludes', 'sufficiently', 'explained', 'hill', 'tribes', 'hammer', 'unharmed', 'climbs', 'poisons', 'tables', 'noone', 'conspires', 'lancel', 'poisons/drugs', 'drunk', 'injures', 'reveal', 'convenient', 'btw', 'watches', 'nitpick', 'liberties', 'brings', 'criticising', 'extraordinary', 'impossible-to-meet-expectations', 'scrutinised', 'elaborate', \"'ruined\", \"'stupid\", \"'writing\", 'amazingly', 'ratings', '0', 'friendly', 'passion', 'cheers', 'bacon', 'internet', 'television', 'lulled', 'comfort', 'soldier', 'barred', 'bedding', 'taught', 'lingering', 'seemingly', 'insignificant', 'eerily', 'silent', 'credits', 'remained', 'naming', 'dreaming', 'punch', 'pulling', 'ramifications', 'props', 'obnoxiously', 'outlet', 'gingerbread', 'dean-charles', 'chapman', 'isaac', 'hempstead', 'wright', 'real-life', 'besties', 'whiny', 'vindictive', 'cunt', 'brutally', 'attitude', 'bitchy', 'hypocrite', 'smaller', 'expecting', 'usually', 'outcomes', 'dawned', 'consistent', 'show…until', 'outline', 'roughly', 'envisioned', 'albeit', 'brainstorms', 'timelines', 'torn', 'allegiance', 'lies', 'three-eyed', 'decides', 'keeper', 'comet', 'promised', 'darkness', 'neat', 'aeksio', 'onos', 'aeksion', 'ondos', 'lightbringer…brienne', 'intuition', 'slip', 'unnoticed', 'weirwood', 'dangerous', 'overhears', 'wierwood', 'opposition', 'steadies', 'dodges', 'jumps', 'chair', 'foreground', 'truck', 'ignoble', 'kingslayer', 'fulfills', 'swearing', 'fealty', 'lovers', 'serve', 'bonkers', 'lays', 'intervenes', 'nose', 'books—they', 'wounded', 'furious', 'adventuring', 'lusted', 'undecided', 'pushes', 'convinces', 'separate', 'reluctantly', 'penalty', 'compromise', 'requests', 'recover', 'sends', 'escort', 'generation', 'viewpoints', 'jaime/brienne', 'ties', 'threads', 'bugging', 'chrono', 'jump', 'products', 'aspd', 'manifested', 'monster', 'affliction', 'monsters', 'bred', 'denial', 'creating', 'bigot', 'forsaken', 'mourning', 'period', 'introverted', 'expressing', 'confronted', 'emotion', 'manage', 'immense', 'stress', 'practice', 'organized', 'uno', 'trademark', 'viewer', 'storylines', 'intertwine', 'aka', 'jesus', 'christ', 'loaded', 'sold', 'merger', 'highlighted', 'venturing', 'expressed', 'triumphant', 'goofy', '//archiveofourown.org/works/21572080', 'passage', '*roose', 'judge', 'queer', 'crossed', 'commanded', 'garrisoned', 'soul', 'so.', 'hoped', 'weigh', 'crimes', 'rodrik', 'cassel', 'earned', 'tainted', 'treacherous', 'sly', 'greedy', 'rid', 'indicate', 'ink', 'remembering', 'al', 'victarion', 'litle', 'inparticular', 'creation/recreation', 'leaning', 'additional', 'historical', 'repeating', '3eyed', 'builder', 'brans', 'buried/hidden', 'whiterun', 'intentionally', 'blocked', 'inward', 'toward', 'collapsing', 'newer', 'taste', 'bummed', 'comparisons', 'approach', 'likened', 'independent', 'tendencies', 'richards', 'madden', '100', 'insta', 'the_aslan_art_', 'extinct', 'convenience', 'tin-foil', 'hat', '*roses', 'winter*', 'roses', 'perennial', '*die*', 'allegory', '*weakened*', 'fairly', 'fertile', 'extensive', 'supply', 'temperate', 'colder', 'logistically', 'capability', 'withstanding', 'threats', 'looming', 'allowing', 'levy', '*defensive*', 'facing', 'three-pronged', 'conflicts', '*possibly*', 'branch', 'intent', 'decisive', 'recuperation', 'regain', 'loyalists', '*very', 'end*', 'dynasty', 'planned', 'twice', '*passive*', 'policy', 'influence', 'consolidate', 'garth', 'greenhand', 'nancy', 'pelosi', 'dreamt', 'rhaegar', 'mounted', 'usurper', 'bathed', 'dragonfire', 'andy', 'backy', 'award', '14', 'unable', 'college', 'schedule', '🤔', 'dorm', 'board', 'abandoned', 'heroine', 'eight', 'epiphany', 'murdering', 'ultimate', 'death..', 'freyr', 'anglicised', 'virility', 'updated', 'wayyy', 'northmen', 'suits', 'lets', 'danys', 'followers', 'humble', 'outsider', 'thormund', 'importantly', 'merciful', 'understandable', 'proves', 'trusted', 'pleased', 'outrageous', 'zooming', 'kissing', 'caught', 'beheaded', 'endured', 'k', 'ur', 'throne🙌', 'bashing', 'it😁', 'p.s', 'pup', 'championing', 'chosen', 'pommel', 'glowing', 'warfare', 'fantasies', 'processes', 'scheme', 'got-fans', 'studying', '12-15', 'banners', 'wikis', 'topic..', 'greetings', 'okay', 'waaay', 'definetly', 'reversal', 'flushed', 'elect', 'rightful', 'fuckin', 'dust', 'relatable', 'sick', 'inherited', 'triggered', 'abuse', 'describe', 'hiatus', '10-year', 'imvestment', 'stellar', 'mediocre', 'slack', 'sometime', 'unhappy', 'redundant', 'partway', 'directed', 'display', 'nuts', 'tired', 'singers', 'imagining', 'morphed', 'vancouver', 'recommend', 'touring', 'bothered', '-maisie', '🐺', 'petyr..', 're-wathing', 's04e07', 'balish', 'pursued', 'lysa', 'husband', 'poisoned', 'recognize', '😊', 'skyline', 'designed', 'locations', 'beer', 'belly', 'boneless', '😇', '-quick', 'timeline/fan', 'fic-', 'captured/murdered', 'produces', 'holds', 'coastal', 'shores', 'lothbrok', 'kidnapped', 'proclaims', 'piggies', 'grunt', 'suffered', 'according', '3k', 'tactical', 'scout', 'harass', 'outsmart', 'trick', 'challenge', 'purist', 'figs', 'dexter', 'basicly', 'earshot', 'strange', 'pisses', 'passed', 'ravens..', 'members', 'litteraly', 'brianna', 'theon..', 'clever', 'annoying..', 'gloat', 'superior', 'show..', 'ta', 'far..', 'backstabbing', 'op', 'captured', '*and*', 'lannister/baratheon', 'sac', 'captives', 'design', 'portfolio', 'staniss', 'suspended', 'disbelief', 'trash', 'sander', 'clegen', 'mr', 'friendzone', 'freefolk', 'comedic', 'relief', 'semester', 'sand', 'snakes', 'erratically', 'feud', 'standpoint', 'defended', 'customary', 'mothers', 'newborn', 'princelings', 'cradles', 'tradition', 'rhaena', 'begun', 'blessed', 'bonded', 'hatchlings', 'dragonriders', 'arrowheads', 'effective', 'wights/white', 'nutshell', 'aiden', \"'impossible\", 'minority', 'tavern', 'cutthroats', 'span', 'rounded', 'refresh', '*was*going', 'crippling', 'arrow', 'scorched', 'rescue', 'pushing', 'incinerated', 'whores', 'cheesy', 'flesh', 'excellent', 'writers/directors', 'adapt', 'utter', 'crap', 'argue', 'failed', 'dried', 'honoring', 'grateful', 'anticipating', 'pilots', 'tamzin', 'merchant', 'embarrassing', 'id', 'leaked', 'torrent', 'dark/deep', 'web', 'risking', 'jail', 'powder', 'keg', 'friendmont', '7-8', 'handmade', 'contribution', 'kick', 'threw', 'distrust', 'suspicion', 'tyrions', 'caytlin', 'abducted', 'butchers', 'narcisstic', 'crime', 'mara', 'borrowed', 'armenian', 'mafia', 'lockbox', 'tendency', 'shameless', 'supernatural', 'street', 'anyways', 'overhyped', 'biased', 'satisfactory', 'individual', 'hungering', 'soap-style', 'incomplete', 'format', 'singular', 'bite', 'sized', 'seasin', 'entity', 'compelling', 'conjucture', 'canceled', 'ticked', 'cliffhangers', 'unresolved', 'standalone', 'mythology', 'similarities', 'dani', 'content', 'hunted', 'parkour', 'sewage', 'canal', 'moreover', 'approached', 'disguise', 'mask/face', 'stabbing', 'slitting', 'law', 'enforcement', 'trained', 'practise', 'blind', 'heightened', 'senses', 'transformed', 'emotionless', 'sadist', 'beef', 'arriving', 'dual', 'monitor', 'scythe', 'bisect', 'dozens', 'arsenal', 'immune', 'melee', 'soloed', 'inspire', 'scatter', 'decisively', 'existence', 'fare', 'escalated', 'athough', 'dragon-piercing', 'javelin', 'effect', 'figures', 'rewrite', 'breakdown', 'don´t', 'wicked', 'praying', 'denied', 'elevate', 'deposing', 'disdains', 'inclined', 'empire', 'lightly', 'striped', 'trading', 'dreams', 'teach', 'elevated', 'relishing', 'jumped', 'blows', 'expect', 'in-fighting', 'swayed', 'supporting', 'sworn', 'supposedly', 'skirmishes', 'supremacy', 'belonging', 'kinslayer', 'diminished', 'mereen', 'agains', 'ocean', 'consort', \"'three-eyed\", \"'sight\", 'evidences..', 'iain', 'everyday', 'sculpt', 'zbrush', 'axel', 'voltarian', 'day/night', 'copics', 'conan', 'cheaper', 'legal', 'ofc', 'wikipedia', 'combat-', 'neither', 'books..how', 'so..', 'squirrels', 'chambers', 'glorified', 'dislike', 'cripple', 'animosity', 'twenty', \"'jock\", 'westoras', 'physical', 'military', 'ty', 'info', 'res', 'check', 'artauro02', 'realizing', '*this*', 'pontoon', 'proxy', 'pontoons', 'technology', 'bypass', 'twins', 'alliance', 'choose', 'rescuing', 'preventing', 'linking', 'allying', 'prostrating', '//youtu.be/3zrw98erp98', '//youtu.be/hopnrbkoel8', 'melancholic', 'desire', 'liberator', 'lock', 'warped', 'sounding', 'sinister', 'deny', 'favor', 'tptb', '3-3.5', 'boys', 'aidan', '~25', 'bluray', 'bonus', '*sad', 'craster', 'noises*', 'marvel', 'eternals', 'quotes', 'psychological', 'examination', 'practicing', '//soundcloud.com/brock-fransen/the-long-night', 'dawn', '//soundcloud.com/brock-fransen/the-dawn-age', '//soundcloud.com/brock-fransen/the-coming-of-the-first-men', '//soundcloud.com/brock-fransen/the-age-of-heroes', '//soundcloud.com/brock-fransen/aegons-conquest-of-the-seven-kingdoms', 'captivating', 'nikolaj', 'coster-waldau', 'pc', 'casemod', 'dreamhack', 'adam', 'driver', 'wields', 'oathkeeper', 'snl', 'brotherhood', 'lem', 'calls', 'bunch', 'nances', '1h', 'study', 'uproar', 'controversy', 'aspect', 'imperative', 'pressing', 'bringing', 'signed', 'contrarily', 'hung', 'office', 'dept', 'creative', 'writer-producers', 'creators', 'produce', 'acclaimed', 'maintains', 'decline', 'dept.', 'failsafe', 'included', 'contracts', 'prevent', 'happening', 'hq', '100+', 'hotd', '-king', 'north-', 'tankard', 'discussion', 'finn', 'jones', 'sexually', 'abused', 'imprisonment', 'torture😢😢', '//ew.com/recap/game-thrones-book-stranger/2/', '//www.google.com/amp/s/winteriscoming.net/2016/06/27/finn-jones-on-loras-tyrell-season-6-fate/amp/', '😭😭😭', 'lgbt', 'protocol', 'recruiters', 'yoren', 'recruiter', 'transporting', 'prisoners', 'criminals', 'crow', 'freedom', 'kingsroad', 'locked', 'cage', 'deemed', \"'dangerous\", 'risky', 'cages', 'tied', 'coincidence', 'fighters', 'alright', 'oberyn-', 'lannister-', 'stark-', 'bobby', 'b-', 'tarth-', 'tyrell-', 'lancers', 'mathematically', 'argument', 'resources', 'masters-at-arms', 'coaches', 'training-', 'nfl/nba', 'privileged', 'private', 'genetics', '38.5', '26.5', 'frame', 'salvage', 're-watchable', 'hardcore', 'finishes', 'july', 'animated', 'cartoon', 'grand', 'spectacle', 'shorts', '\\\\*\\\\*martin', 'quote\\\\*\\\\*', 'book…', 'distract', 'nonce', '—', 'arrive', 'formal', 'permission', 'imprison', 'cabin', 'overlooking', 'sulfuric', 'acid', 'acrid', 'fumes', 'dos', 'processor', 'fine.', 'wheelchair-using', '*got*', 'warming', 'sword-wielding', 'chopped', 'punishment', 'moral', 'failings', 'hopes', 'able-bodied', 'hinder', 'thrive', 'with—and', '*because*—of', 'phrase', 'folks', 'uncomfortable', 'negative', 'typically', '=', 'invisible', '*then*', 'typical', 'ago—just', 'please—it', 'developed', 'catalyst', 'visibly', 'suffice', 'vikings', 'scenarios', ':3', 'horik', 'discovers', 'westerors', 'invades', 'plans', 'paris', '😁', 'legendary', 'rep', 'mercenaries', 'slain', 'nerd', 'member', 'receive', 'payment', 'traveled', 'virtually', 'dude', 'passing', 'management', 'roll', 'seizing', 'opportunity', 'struggles', 'snaps', 'preceeds', 'drop', 'stab', 'maneuver', 'demonstrated', 'established', 'centered', 'crowned', 'welcome', 'babies', 'assume', 'approaching', 'logs', 'home', 'arrowhead', 'speculate', 'clearly', 'warning', 'argued', 'arent', 'willpower', 'belief', 'thoros', 'flaming', 'trench', 'pristiest', 'attributed', 'versus', 'concrete', 'proof', 'compares', 'counter', 'enter', 'timeline', 'inaccuracies', 'v=8nqvismuv9a', 'rogue', 'delight', 's5e4', 'beauty', 'pretend', 'roberts', 'jokes', 'painful', 'boss', 'humour', 'pretending', 'amusing', '🤦🏻\\u200d♀️', 'mobile', 'mechanics', 'beta', 'testing', 'aus/nz', 'region', 'deployment', 'soon-ish', '//www.reddit.com/r/got\\\\_beyond\\\\_the\\\\_wall/', '//www.reddit.com/r/got_beyond_the_wall/', 'lyonel', 'disappointments', 'tools', \"'knapping\", 'method', 'primarily', 'flints', 'cherts', 'copper', 'bronze', 'alloys', 'wildings', 'useful', 'knap', 'cultures', 'dothhraki', 'bugged', 'amongst', 'unknown', 'cadet', 'alleyn', 'london', 'barking', 'cadets', 'weapon', 'v=qvvh\\\\_uyyi4y', 'v=qvvh_uyyi4y', 'genuinely', 'supports', 'sparrow', 'imprisoned', 'mutilated', 'group', 'steel**', '210', 'conqueror', 'turmoil', 'degrades', 'kingdom.winter', 'sickness', 'rips', 'laying', 'countryside', 'halls', 'greeting', 'warmer', 'drought', 'nation', 'rivers', 'crops', 'ironmen', 'axes', 'raid', 'sunset', 'coast', 'raymund', 'redbeard', 'gathers', 'narrow', 'bittersteel', 'poised', 'enmities', '15', '25', 'resent', 'watchful', 'ironfisted', 'bookish', '**what', 'offer**', '**free-form', 'roleplay', 'dice', 'skills', '**freedom', 'destiny', 'westeros**', '**play', 'allies', 'rivals', 'treasonous', '**based', '**focused', 'lesser', 'frenchy10296', 'royale', 'much-needed', 'clarity', 'megathread', 'scenes/materials', 'epidode', 'semi-spoilers', 'fiancé', 'heartedly', 'cutesy', 'posts', 'couples', 'posing', 'photos', '😅', 'sag', 'awards', '2004', '*got', 'enters', 'in*', 'career', 'suggest', 'incredibly', 'seldom', 'sharing', 'meal', 'childhood', 'challenges', 'aheadreading', 'dusty', 'leatherbound', 'tomes', 'library', 'jigzaw', 'official', 'eeuu', 'deepfake', 'bbc', 'hood', 'ireland', 'visited', 'plan', 'morning', 'activities', 'dublin', 'rorge', 'biter', 'broth', 'tribute', 'dear', 'unburnt', 'copic', 'markers', '+/-', '1400', 'nightking', 'printer', 'blender', 'polytopia', 'data', 'predictive', 'model', 'predictions', 'date', 'styles', 'impact', 'underlying', 'themes', 'tier', 'forel', 'squemish', 'numerous', 'bullshitting', 'dismayed', 'attempting', 'robb/catelyn', 'orchestrate', 'castrated', 'beautifully', 'inflicted', 'pain', 'amazed', 'erything', 'basterds', 'shoddily', 'temple', 'swan', 'fever-dream-epilogue', 'scramble', 'whites/ghosts', 'transforms', 'phenomenal', 'at-least-they-tried', 'doin', 'der']\n"
     ]
    }
   ],
   "source": [
    "print(wordfreqs_cat1.hapaxes())\n",
    "print(wordfreqs_cat2.hapaxes())"
   ]
  },
  {
   "cell_type": "markdown",
   "metadata": {},
   "source": [
    "## Most frequent terms"
   ]
  },
  {
   "cell_type": "code",
   "execution_count": 62,
   "metadata": {},
   "outputs": [
    {
     "name": "stdout",
     "output_type": "stream",
     "text": [
      "[('.', 3624), (',', 3387), ('data', 1689), ('?', 1514), (')', 1015), ('(', 974), (':', 793), ('science', 627), ('would', 448), (\"'m\", 432), ('like', 397), (\"'s\", 347), ('&', 339), (\"n't\", 321), ('’', 318), ('https', 317), ('[', 302), (']', 302), ('!', 286), ('work', 276)]\n",
      "[('.', 1501), (',', 1196), ('[', 553), (']', 553), ('spoilers', 531), ('?', 393), (')', 233), ('’', 229), (\"'s\", 217), ('(', 215), ('would', 192), (\"n't\", 166), (':', 161), ('like', 145), ('show', 143), ('season', 126), ('!', 119), ('got', 118), ('one', 116), ('jon', 113)]\n"
     ]
    }
   ],
   "source": [
    "print(wordfreqs_cat1.most_common(20))\n",
    "print(wordfreqs_cat2.most_common(20))"
   ]
  },
  {
   "cell_type": "markdown",
   "metadata": {},
   "source": [
    "## Step 3 revisited: Data preparation adapted"
   ]
  },
  {
   "cell_type": "code",
   "execution_count": 80,
   "metadata": {},
   "outputs": [],
   "source": [
    "stemmer = nltk.SnowballStemmer(\"english\")\n",
    "\n",
    "def wordStemmer(wordrow):\n",
    "    stemmed = [stemmer.stem(word) for word in wordrow]\n",
    "    return stemmed\n",
    "\n",
    "manual_stopwords = [',', '://', '´', '’', '.', ')', '(', 'm', \"'m\", \"n't\", 'e.g', \"'ve'\", 's', '#', '/'\n",
    "                   , '``', \"'s\", \"''\", '!', 'r', ']', '=', '[', 's', '&', '%', '*', '...', '1', '2', '3',\n",
    "                   '4', '5', '6', '7', '8', '9', '10', '--', ';', '-', ':', '\"', \"'\", '?']\n",
    "\n",
    "def data_processing(sql, manual_stopwords):\n",
    "    c.execute(sql)\n",
    "    data = {'wordMatrix':[], 'all_words':[]}\n",
    "    interWordMatrix = []\n",
    "    interWordList = []\n",
    "    \n",
    "    row = c.fetchone()\n",
    "    while row is not None:\n",
    "        tokenizer = nltk.tokenize.RegexpTokenizer(r'\\w+|[^\\w\\s]+')\n",
    "        \n",
    "        wordrow = tokenizer.tokenize(row[0]+\" \"+row[1])\n",
    "        wordrow_lowercased = lowerCaseArray(wordrow)\n",
    "        wordrow_nostopwords = wordFilter(stopwords, wordrow_lowercased)\n",
    "        \n",
    "        wordrow_nostopwords = wordFilter(manual_stopwords, wordrow_nostopwords)\n",
    "        wordrow_stemmed = wordStemmer(wordrow_nostopwords)\n",
    "        \n",
    "        interWordList.extend(wordrow_stemmed)\n",
    "        interWordMatrix.append(wordrow_stemmed)\n",
    "        \n",
    "        row = c.fetchone()\n",
    "        \n",
    "    wordfreqs = nltk.FreqDist(interWordList)\n",
    "    hapaxes = wordfreqs.hapaxes()\n",
    "    for wordvector in interWordMatrix:\n",
    "        wordvector_nohapaxes = wordFilter(hapaxes, wordvector)\n",
    "        data['wordMatrix'].append(wordvector_nohapaxes)\n",
    "        data['all_words'].extend(wordvector_nohapaxes)\n",
    "\n",
    "    return data\n",
    "\n",
    "for subject in subreddits:\n",
    "    data[subject] = data_processing(sql='''SELECT \n",
    "    topicTitle, topicText, topicCategory FROM topics \n",
    "    WHERE topicCategory = ''' + \"'\" + subject + \"'\", manual_stopwords=manual_stopwords)"
   ]
  },
  {
   "cell_type": "code",
   "execution_count": 81,
   "metadata": {},
   "outputs": [
    {
     "name": "stdout",
     "output_type": "stream",
     "text": [
      "[]\n",
      "[]\n"
     ]
    }
   ],
   "source": [
    "wordfreqs_cat1 = nltk.FreqDist(data['datascience']['all_words'])\n",
    "wordfreqs_cat2 = nltk.FreqDist(data['gameofthrones']['all_words'])\n",
    "\n",
    "print(wordfreqs_cat1.hapaxes())\n",
    "print(wordfreqs_cat2.hapaxes())"
   ]
  },
  {
   "cell_type": "markdown",
   "metadata": {},
   "source": [
    "### Top 20 words of each category"
   ]
  },
  {
   "cell_type": "code",
   "execution_count": 82,
   "metadata": {},
   "outputs": [
    {
     "name": "stdout",
     "output_type": "stream",
     "text": [
      "[('data', 1769), ('scienc', 670), ('use', 533), ('work', 468), ('would', 436), ('like', 429), ('learn', 388), ('get', 327), ('job', 325), ('model', 324), ('https', 319), ('know', 277), ('want', 273), ('scientist', 269), ('time', 251), ('look', 248), ('project', 234), ('python', 229), ('question', 225), ('com', 222)]\n"
     ]
    }
   ],
   "source": [
    "wordfreqs_cat1 = nltk.FreqDist(data['datascience']['all_words'])\n",
    "print(wordfreqs_cat1.most_common(20))"
   ]
  },
  {
   "cell_type": "code",
   "execution_count": 83,
   "metadata": {},
   "outputs": [
    {
     "name": "stdout",
     "output_type": "stream",
     "text": [
      "[('spoiler', 537), ('would', 178), ('like', 172), ('show', 163), ('season', 160), ('end', 137), ('one', 128), ('king', 127), ('book', 122), ('got', 122), ('jon', 117), ('throne', 117), ('know', 113), ('watch', 108), ('charact', 108), ('game', 98), ('think', 97), ('kill', 86), ('time', 83), ('night', 82)]\n"
     ]
    }
   ],
   "source": [
    "wordfreqs_cat1 = nltk.FreqDist(data['gameofthrones']['all_words'])\n",
    "print(wordfreqs_cat2.most_common(20))"
   ]
  },
  {
   "cell_type": "code",
   "execution_count": 86,
   "metadata": {},
   "outputs": [],
   "source": [
    "holdoutLenght = 100\n",
    "\n",
    "labeled_data1 = [(word, 'datascience') for word in \n",
    "                 data['datascience']['wordMatrix'][holdoutLenght:]]\n",
    "labeled_data2 = [(word, 'gameofthrones') for word in\n",
    "                data['gameofthrones']['wordMatrix'][holdoutLenght:]]\n",
    "\n",
    "labeled_data = []\n",
    "labeled_data.extend(labeled_data1)\n",
    "labeled_data.extend(labeled_data2)\n",
    "\n",
    "holdout_data = data['datascience']['wordMatrix'][:holdoutLenght]\n",
    "holdout_data.extend(data['gameofthrones']['wordMatrix'][:holdoutLenght])\n",
    "holdout_data_labels = ([('datascience') for _ in range(holdoutLenght)] + [('gameofthrones') for _ in range(holdoutLenght)])\n",
    "\n",
    "data['datascience']['all_words_dedup'] = list(OrderedDict.fromkeys(data['datascience']['all_words']))\n",
    "data['gameofthrones']['all_words_dedup'] = list(OrderedDict.fromkeys(data['gameofthrones']['all_words']))\n",
    "\n",
    "all_words = []\n",
    "all_words.extend(data['datascience']['all_words_dedup'])\n",
    "all_words.extend(data['gameofthrones']['all_words_dedup'])\n",
    "all_words_dedup = list(OrderedDict.fromkeys(all_words))\n",
    "\n",
    "prepared_data = [({word: (word in x[0]) for word in all_words_dedup}, x[1]) for x in labeled_data]\n",
    "prepared_holdout_data = [({word: (word in x[0]) for word in all_words_dedup}) for x in holdout_data]\n",
    "\n",
    "random.shuffle(prepared_data)\n",
    "train_size = int(len(prepared_data) * 0.75)\n",
    "train = prepared_data[:train_size]\n",
    "test = prepared_data[train_size:]"
   ]
  },
  {
   "cell_type": "code",
   "execution_count": 98,
   "metadata": {
    "scrolled": true
   },
   "outputs": [
    {
     "name": "stdout",
     "output_type": "stream",
     "text": [
      "{'week': False, 'enter': False, 'transit': False, 'thread': False, '|': False, '01': False, 'mar': False, '2020': False, '_bleep': False, 'bloop_': False, 'welcom': False, 'question': False, 'get': False, 'start': False, 'studi': False, 'data': False, 'scienc': False, 'field': False, 'topic': False, 'includ': False, 'learn': False, 'resourc': False, 'e': False, 'g': False, 'book': False, 'tutori': False, 'video': False, 'tradit': False, 'educ': False, 'school': False, 'degre': False, 'elect': False, 'altern': False, 'onlin': False, 'cours': False, 'bootcamp': False, 'job': False, 'search': False, 'resum': False, 'appli': False, 'career': False, 'prospect': False, 'elementari': False, 'next': False, 'wait': False, 'answer': False, 'communiti': False, 'check': False, 'faq': False, '](': False, 'https': False, 'www': False, 'reddit': False, 'com': False, 'datasci': False, 'wiki': False, 'frequent': False, 'ask': False, 'page': False, 'also': False, 'past': False, 'q': False, '20thread': False, 'restrict_sr': False, 'sort': False, 'new': False, ').': False, '---': False, 'bot': False, 'creat': False, 'moder': False, 'open': False, 'sourc': False, 'review': False, 'code': False, 'github': False, 'vogt4nick': False, 'underestim': False, 'amount': False, 'sql': False, 'need': False, 'write': False, 'look': False, 'intermedi': False, 'advanc': False, 'pretti': True, 'much': False, 'titl': False, 'know': False, 'solid': False, 'wrote': False, 'first': False, 'self': False, 'join': False, 'case': False, 'condit': False, 'today': False, 'felt': False, 'teammat': False, 'obvious': False, 'skill': False, 'could': True, 'use': False, 'improv': False, 'love': False, 'panda': False, 'fair': False, 'prep': False, 'front': False, 'prefer': False, 'keep': False, 'employ': False, 'one': False, 'took': False, 'queri': False, 'anoth': False, 'depart': False, 'order': False, 'magnitud': False, '45': False, 'minut': False, 'pull': False, 'four': False, 'differ': False, 'tabl': False, 'insight': False, 'build': False, 'recommend': False, 'gear': False, 'toward': False, 'teach': False, 'want': False, 'certain': False, 'techniqu': False, 'went': False, 'select': False, 'star': False, '/)': False, 'found': False, 'great': False, 'introduct': False, 'realli': False, 'like': True, 'make': False, 'higher': False, 'connect': False, 'honest': False, 'real': False, 'ml': False, 'econometr': False, 'coupl': False, 'lectur': False, 'undergrad': False, 'seem': False, 'regard': False, 'prove': False, 'wherea': False, 'ds': False, 'describ': False, 'format': False, 'base': False, 'right': False, 'approach': False, 'experi': False, 'person': False, 'fan': False, 'blog': False, 'method': False, 'interview': False, 'exampl': False, 'instead': False, 'say': True, 'someth': False, '>': False, 'built': False, 'anomali': False, 'detect': False, 'model': False, 'isol': False, 'forest': False, 'identifi': False, 'click': False, 'fraud': False, 'thus': False, 'save': False, '$': False, '100m': False, 'year': False, 'would': True, 'frame': False, 'ad': False, 'platform': False, 'earn': False, 'revenu': False, 'user': False, 'place': False, 'websit': False, 'share': False, 'part': False, 'owner': False, 'fraudul': False, 'tri': False, 'autom': False, 'program': False, 'genuin': False, 'work': False, 'major': False, 'australian': False, 'develop': True, 'leverag': False, 'featur': False, 'time': False, 'day': False, 'ip': False, 'etc': True, 'caus': False, 'achiev': False, 'posit': False, 'predict': False, 'valu': False, '70': False, '%,': False, 'result': False, 'verbos': False, 'reason': False, 'easi': False, 'wrong': False, 'assum': False, 'peopl': False, 'familiar': False, 'problem': False, 'even': False, 'industri': False, 'toy': False, 'chosen': False, 'eas': False, 'understand': False, 'financ': False, 'healthcar': False, 'dens': False, 'jargon': False, 'never': False, 'sens': False, 'someon': False, 'project': False, 'involv': False, 'lot': False, 'step': False, 'let': False, 'high': False, 'level': False, 'summari': False, 'happen': False, 'instanc': False, 'read': False, 'written': False, 'due': False, 'manag': False, 'content': False, 'larg': False, 'number': False, 'extrem': False, 'wordi': False, 'littl': False, 'hope': False, 'recruit': False, 'take': False, 'necessari': False, 'densiti': False, 'low': False, 'fear': False, 'eye': False, 'ball': False, 'see': False, 'keyword': False, 'random': False, 'lstm': False, 'reject': False, 'face': False, 'weird': False, 'choic': False, 'go': False, 'ahead': False, 'least': False, 'done': False, '),': True, 'word': False, 'count': False, 'good': False, 'chanc': False, 'skim': False, 'decid': False, 'forward': False, 'definit': False, 'increas': False, 'mean': False, 'catch': False, 'specif': False, 'howev': False, 'unlik': False, 'solut': False, 'hear': False, 'dilemma': False, 'tool': False, 'spatial': False, 'analysi': False, 'colleg': False, 'student': False, 'internship': False, 'compani': False, 'transport': False, 'might': False, 'imagin': False, 'well': False, 'guy': False, 'best': False, 'advic': False, 'perform': False, 'addit': False, 'anyth': False, 'els': False, 'made': False, 'live': False, 'interact': False, 'dashboard': False, 'track': False, 'covid19': False, 'suggest': False, 'help': False, 'post': False, 'analys': False, 'think': False, 'way': False, 'come': False, 'idea': False, 'prevent': False, 'spread': False, 'panic': False, 'seri': False, 'forecast': False, 'assist': False, 'distribut': False, 'effect': False, 'mayb': False, 'stream': False, 'algorithm': False, 'twitter': False, 'geocod': False, 'tweet': False, 'alert': False, 'local': False, 'hot': False, 'spot': False, 'crazi': False, 'web': False, 'scrape': False, 'googl': False, 'iphon': False, 'hey': False, 'current': False, 'requir': False, 'phone': False, 'matter': False, 'point': False, 'view': False, 'python': False, 'travel': False, 'destin': False, 'dataset': False, 'pointer': False, 'structur': False, 'weather': False, 'thing': False, 'known': False, \"',\": False, 'popular': False, 'season': False, '..': False, 'grant': False, 'inform': False, 'albeit': False, 'rather': False, 'unstructur': False, 'paragraph': False, 'head': False, 'may': False, 'exist': False, 'give': True, 'particular': False, 'collect': False, 'hire': False, 'team': False, 'rout': False, 'appreci': False, 'thank': False, 'classifi': False, 'item': False, 'categori': False, 'multilabel': False, 'classif': False, 'straightforward': False, 'notic': False, 'non': False, 'label': False, 'relev': False, \"'.\": False, 'straight': False, 'wonder': False, 'noth': False, 'dump': False, 'ground': False, 'sinc': False, 'hold': False, 'record': False, 'togeth': False, 'exclud': False, 'class': False, 'train': False, 'dont': False, 'enough': False, 'probabl': False, 'what': False, 'proceed': False, 'engin': False, 'hyper': False, 'paramet': False, 'tune': False, 'sure': False, 'set': False, 'max': False, 'depth': False, 'allow': False, 'analyz': False, 'better': False, 'analyst': False, 'scientist': False, 'duti': False, '50': False, 'manipul': False, 'calcul': False, 'sas': False, 'ms': False, 'server': False, 'sometim': False, 'etl': False, '25': False, 'communic': False, 'edit': False, 'tableau': False, 'plan': False, 'hr': False, 'path': False, 'role': False, 'associ': False, '—>': False, 'senior': False, 'talk': False, '“': False, '”': False, 'spss': False, 'vba': False, 'bi': False, 'side': False, 'separ': False, 'pa': False, 'eventu': False, 'guess': False, 'boil': False, 'besid': False, 'purpos': False, 'knowledg': False, 'progress': False, 'scienci': False, 'actual': False, 'stuff': True, 'interest': False, 'everyon': False, 'third': False, 'ny': False, 'potenti': False, 'consult': False, 'ie': False, 'put': False, 'wide': False, 'varieti': False, 'viabl': False, 'master': False, 'math': False, 'financi': False, 'aid': False, 'packag': False, 'extra': False, 'excel': False, 'matlab': False, 'jmp': False, 'summer': False, 'bad': False, 'scratch': False, 'second': False, 'semest': False, 'decent': False, 'modifi': False, 'other': False, 'import': False, 'last': False, 'general': False, 'benefici': False, 'airlin': False, 'common': False, 'sorri': False, 'wall': False, 'text': False, 'confus': False, 'kid': False, 'figur': False, 'rooki': False, 'pleas': False, 'bore': False, 'critic': False, 'life': False, 'feel': False, 'finish': False, 'univers': False, 'month': False, 'uk': False, 'bsc': False, 'quantit': False, 'consist': False, '85': False, 'across': False, 'unit': False, 'highest': False, 'statist': False, 'confid': False, 'graduat': False, 'compet': False, 'powerbi': False, 'stata': False, 'programm': False, 'area': False, 'advis': False, 'channel': False, 'energi': False, '???': False, 'world': False, 'avoid': False, 'visual': False, 'evolut': False, 'coronavirus': False, 'anim': False, 'pick': False, 'anywher': False, 'find': False, 'popul': False, 'outsid': False, 'usual': False, 'nice': False, 'transfer': False, 'list': False, 'anyon': False, 'refresh': False, 'irl': False, 'grad': False, 'six': False, 'stat': False, 'suffici': False, 'back': False, 'gotten': False, 'technic': True, 'profici': False, 'far': False, 'remov': False, 'huge': False, 'hindranc': False, 'skillset': False, 'optim': False, 'thought': False, 'follow': False, '\\\\-': False, 'hadoop': False, '+': False, 'spark': False, 'azur': False, 'factori': False, 'flow': False, 'background': False, 'comput': False, 'basic': True, 'im': False, 'abil': False, 'quick': False, 'two': False, 'hi': False, 'correl': False, 'drop': False, 'rate': False, 'minor': False, 'age': False, '18': False, 'run': False, 'regress': False, 'vs': False, 'scala': False, 'emr': False, 'product': False, 'deal': False, 'direct': False, 'infrastructur': False, 'said': False, 'oper': False, 'setup': False, 'perspect': False, 'whole': False, 'advantag': False, 'pay': False, 'long': False, 'laptop': False, 'vendor': False, '500': False, 'depend': False, 'variabl': False, 'plot': False, 'activ': False, 'function': False, 'deep': False, 'simplest': False, 'term': True, 'add': False, '&#': False, 'x200b': False, '✔': False, 'without': False, 'simpl': False, 'linear': False, 'complex': False, 'equat': False, 'relationship': False, 'map': False, 'input': False, 'output': False, 'mathemat': False, 'sigmoid': False, 'tanh': False, 'easili': False, 'differenti': False, 'strategi': True, 'network': False, 'gradient': False, 'error': False, 'loss': False, 'respect': False, 'weight': False, 'accord': False, 'rememb': False, '☛': False, 'relu': False, 'hidden': False, 'layer': False, 'nn': False, 'contin': False, 'wise': False, 'dead': False, 'neuron': False, 'happi': False, 'weekend': False, 'ai': False, 'sever': False, '100': False, 'gb': False, 'stori': False, 'short': False, 'unreason': False, 'request': False, 'boss': False, 'entir': False, 'pipelin': False, 'small': False, 'sampl': False, 'chunk': False, 'still': False, 'slow': False, 'hour': False, 'unfortun': False, 'apach': False, 'plus': False, 'clean': False, 'file': False, 'csv': False, 'type': False, 'reach': False, 'limit': False, '8gb': False, 'ram': False, 'monday': False, 'uiuc': False, 'mcs': False, 'prepar': False, 'big': False, 'top': False, 'cs': False, 'tech': False, 'revolv': False, 'around': False, 'edu': False, 'academ': False, 'profession': False, 'anecdot': False, 'facebook': False, 'amazon': False, 'chat': False, 'drift': False, 'chatbot': False, 'nlp': False, 'charg': False, '100k': False, 'expens': False, 'us': False, 'especi': False, 'alreadi': False, 'abl': False, 'deploy': False, 'servic': False, 'schedul': False, 'sale': False, 'send': False, 'confirm': False, 'email': False, 'along': False, 'calendar': False, 'invit': False, 'qualifi': False, 'lead': False, 'chatwoot': False, 'promis': False, 'integr': False, 'interfac': False, 'api': False, 'bring': False, 'million': False, 'busi': False, 'compens': False, 'context': False, 'thousand': False, 'opportun': False, 'co': False, 'fund': False, 'govern': False, 'capit': False, '£': False, 'receiv': False, 'possibl': False, 'script': False, 'screen': False, 'elig': False, 'target': False, 'system': False, 'oh': False, 'heard': False, '...\"': False, 'somebodi': False, 'told': False, 'bank': False, 'unless': False, 'flat': False, 'bonus': False, 'per': False, 'success': False, 'averag': False, '200': False, '000': False, '0': False, '%)': False, 'overlook': False, 'habit': False, 'sexi': False, ',\"': False, 'refer': False, 'workflow': False, 'qualiti': False, 'document': False, 'left': False, 'reread': False, 'everyth': False, 'name': False, 'show': False, 'skip': False, 'mistak': False, 'clear': False, '90': False, 'cowork': False, 'teacher': False, '.\"': False, 'gloss': False, 'leav': False, 'tag': False, '^[': False, 'wikipedia': False, 'hard': False, '!\"': False, 'provid': False, 'foundat': False, 'stand': False, 'constant': False, 'move': False, 'wrangl': False, 'spend': False, 'fact': False, 'meet': False, 'portion': False, 'encount': False, 'end': False, 'studio': False, 'manual': False, 'librari': False, 'privat': False, 'repetit': False, 'awesom': False, 'trifacta': False, 'plenti': False, 'consid': False, 'commerci': False, 'older': False, 'offer': False, 'cloud': False, 'somehow': False, 'tell': False, 'framework': False, 'tackl': False, 'aw': False, 'complet': False, 'process': False, 'natur': False, 'invest': False, 'productionis': False, 'though': False, 'whether': False, 'dream': False, 'solv': False, 'similar': False, 'ever': False, 'softwar': False, 'relat': False, 'alteryx': False, 'languag': False, 'power': False, 'free': False, 'friend': False, 'ui': False, 'environ': False, 'less': False, 'curv': False, 'benefit': False, 'group': False, 'meetup': False, 'near': False, 'philadelphia': False, 'orient': False, 'final': False, 'datacamp': False, 'datascientist': False, 'updat': False, 'repo': False, 'produc': False, 'exact': False, 'detail': False, 'yet': False, 'cool': False, 'origin': False, 'present': False, 'slide': False, 'focus': False, 'late': False, 'alway': False, 'convey': False, 'isnt': False, 'materi': False, 'bay': False, 'theorem': False, 'conclus': False, 'webinar': False, 'kmean': False, 'pca': False, 'taken': False, 'genom': False, 'variant': False, 'filter': False, 'varianc': False, 'cluster': False, 'saw': False, 'k': False, 'compon': False, 'ran': False, 'verifi': False, 'trait': False, 'dimension': False, 'reduct': False, 'unsupervis': False, 'preview': False, 'redd': False, 'png': False, 'width': False, 'auto': False, 'webp': False, 'categor': False, 'affect': False, 'explor': False, 'factor': False, 'hit': False, 'explod': False, 'sudden': False, 'neural': False, 'overnight': False, 'realiz': False, 'overfit': False, 'dropout': False, 'convolut': False, 'cost': False, 'jump': False, 'halfway': False, 'imgur': False, 'zoom': False, 'version': False, 'behav': False, 'default': False, 'adam': False, 'experienc': False, 'hesit': False, 'articl': False, 'link': False, 'mask': False, 'rcnn': False, 'angl': False, 'multipl': False, 'seedl': False, 'hello': False, 'segment': False, 'stem': False, 'imag': False, 'kwazb': False, 'everi': False, 'biolog': False, 'u': False, 'net': False, 'semant': False, '?.': False, 'root': False, 'beginn': False, 'everybodi': False, 'feedback': False, 'onto': False, 'youtu': False, 'cert': False, 'decad': False, 'ago': False, 'concentr': False, 'health': False, 'care': False, 'analyt': False, 'most': False, 'certif': False, 'theori': False, 'behind': False, 'accept': False, 'op': False, 'futur': False, 'reput': False, 'msc': False, 'onsit': False, 'locat': False, 'citi': False, 'middl': False, 'somewher': False, 'bit': False, 'closer': False, 'europ': False, 'canada': False, 'generic': False, 'bar': False, 'doubl': False, 'perhap': False, 'heavili': False, 'romanian': False, 'citizen': False, 'resid': False, 'home': False, 'capabl': False, 'english': False, 'suppos': False, 'research': False, 'came': False, 'given': False, 'undergradu': False, 'bike': False, 'machin': False, 'repositori': False, 'temperatur': False, 'regist': False, 'situat': False, 'decis': False, 'attempt': False, 'psycholog': False, 'easier': False, 'motiv': False, 'test': False, 'command': False, 'line': False, 'jupyt': False, 'notebook': False, 'txt': False, 'docker': False, 'reproduc': False, 'repo2dock': False, '))': False, 'papermil': False, 'serv': False, 'url': False, 'continu': False, 'scenario': False, 'consum': False, 'nowaday': False, 'kubernet': False, 'insid': False, 'extern': False, 'host': False, 'thesi': False, 'specialis': False, 'submit': False, 'gain': False, 'junior': False, 'salari': False, 'site': False, 'news': False, 'curious': False, 'date': False, 'fast': False, 'pace': False, 'histor': False, 'outbreak': False, 'report': False, 'incid': False, 'countri': False, 'avail': False, 'partial': False, 'folk': False, 'footbal': False, 'moment': False, 'match': False, 'player': False, 'becom': False, 'recent': False, 'fantasi': False, 'began': False, '2011': False, 'unsur': False, 'handl': False, 'appropri': False, 'prototyp': False, 'zero': False, 'worri': False, 'insignific': False, 'strong': False, 'win': False, 'control': False, 'measur': False, 'impact': False, 'chang': True, 'rep': False, 'territori': False, 'statement': False, 'terminolog': False, 'counti': False, 'region': False, 'assign': False, 'overlap': False, 'custom': False, 'repres': False, 'visit': False, 'convert': False, 'call': False, 'goal': False, 'attain': False, 'total': False, '120': False, 'hypothesi': False, 'attribut': False, 'viz': False, '`': False, '`,': False, 'brand': False, ')`': False, 'roll': False, 'jan': False, '2018': False, '***': False, '30': False, 'later': False, '2019': False, 'pair': False, 'remain': False, 'form': False, 'score': False, 'normal': False, 'distanc': False, 'conduct': False, 'null': False, '**': False, 'tail': False, 'n': False, '95': False, 'signific': False, 'robust': False, 'mention': False, 'pivot': False, 'trend': False, 'prior': False, 'serious': False, 'pros': False, 'con': False, 'opinion': False, 'evalu': False, 'black': False, 'box': False, '\",': False, 'visualis': False, 'under': False, 'practic': False, 'initi': False, 'vast': False, 'price': False, 'gatech': False, '10k': False, 'jwu': False, 'admiss': False, 'competit': False, 'disadvantag': False, 'vscode': False, 'ide': False, 'pycharm': False, 'style': False, 'oc': False, 'sleep': False, 'deficit': False, 'sleepsavi': False, '1000': False, 'particip': False, 'children': False, 'younger': False, 'compar': False, 'chart': False, 'grownup': False, '2000': False, '1998': False, 'public': False, 'profil': False, 'shah': False, 'pankaj': False, '#!/': False, 'vizhom': False, 'mom': False, '\\\\': False, '_wk': False, '_9': False, 'mom_wk_9': False, 'sociolog': False, 'spring': False, 'enjoy': False, 'macro': False, 'pattern': False, 'intro': False, 'rant': False, 'market': False, 'phase': False, 'true': False, 'coursera': False, 'brain': False, 'teaser': False, 'ridicul': False, 'fuzzi': False, '?”': False, 'mani': False, 'wear': False, 'red': False, 'york': False, 'typic': False, 'estim': False, 'size': False, 'walk': False, 'cane': False, 'intimid': False, 'overal': False, 'memor': False, 'rough': False, '~': False, 'investig': False, 'rest': False, 'ingest': False, 'http': False, 'kind': False, 'graph': False, 'episod': False, 'p': False, 'period': False, 'vote': False, 'via': False, 'eth': False, 'poll': False, 'signal': False, 'shitcoin': False, 'comment': False, 'global': False, 'state': False, 'presidenti': False, 'btc': False, 'dai': False, 'shit': False, 'coin': False, 'address': False, 'support': False, 'candid': False, 'tuesday': False, 'novemb': False, 'various': False, 'stage': False, 'winner': False, 'etherscan': False, 'io': False, 'intern': False, 'voter': False, 'noconfidence2020': False, 'trump2020': False, 'biden2020': False, 'sanders2020': False, 'warren2020': False, 'bloomberg2020': False, 'race': False, 'treat': False, '===': False, 'forfeit': False, 'whatev': False, 'choos': False, 'comfort': False, 'donat': False, 'lose': False, 'outcom': False, 'belief': False, 'full': False, 'rich': False, 'skew': False, 'will': False, 'x': False, 'lie': False, 'truth': False, 'speech': False, 'anonym': False, 'blockchain': False, '{': False, 'internet': False, '}': False, 'en': False, 'org': False, 'multi': False, 'domain': False, 'myetherwallet': False, 'smaller': False, 'money': False, 'terribl': False, 'agre': False, 'token': False, 'twice': False, 'enforc': False, 'modern': False, 'mechan': False, 'rank': False, 'reliabl': False, 'mobil': False, 'wallet': False, '\\\\[': False, '\\\\]': False, 'upon': False, 'guarante': False, '\\\\~$': False, 'trust': False, 'key': False, 'vector': False, 'durat': False, 'overview': False, 'impress': False, 'audienc': False, 'purchas': False, 'metric': False, 'introduc': False, 'journal': False, 'sport': False, 'bet': False, 'close': False, 'correct': False, 'paid': False, 'phd': False, 'physic': False, 'academia': False, 'away': False, 'c': False, '++': False, 'demand': False, 'expos': False, 'quit': False, 'attract': False, 'worthwhil': False, 'although': False, 'stumbl': False, 'applic': False, 'indic': False, 'backend': False, 'entail': False, 'break': False, 'databas': False, 'mle': False, '-**': False, 'stay': False, 'turn': False, 'quant': False, 'hardest': False, 'reserv': False, 'sector': False, 'buy': False, 'sell': False, 'contribut': False, 'access': False, 'offic': False, 'harvard': False, 'status': False, 'subreddit': False, 'econom': False, 'luck': False, 'suck': False, 'chose': False, 'adapt': False, 'taught': False, 'islr': False, 'understood': False, 'basi': False, 'pursu': False, 'forev': False, 'larger': False, 'hall': False, 'board': False, 'mass': False, 'atom': False, 'spyder': False, 'bert': False, 'sequenc': False, ')?': False, 'hackathon': False, '([': False, 'fbai1': False, 'devpost': False, '/](': False, 'medic': False, 'retriev': False, 'pytorch': False, 'json': False, 'rewrit': False, 'deadlin': False, '14': False, 'hand': False, 'dm': False, 'cheer': False, 'entrepreneurship': False, 'independ': False, 'contractor': False, 'freelanc': False, 'journey': False, 'overwhelm': False, 'logist': False, 'tree': False, 'bayesian': False, 'svms': False, 'boost': False, 'nns': False, 'b': False, 'implement': False, 'anybodi': False, 'stick': False, 'datawav': False, 'technolog': False, 'special': False, 'australia': False, 'alexeygrigorev': False, 'blob': False, 'md': False, '6th': False, 'india': False, 'ibm': False, 'andrew': False, 'ng': False, 'guid': False, 'soon': False, 'fresh': False, 'mint': False, 'januari': False, 'ping': False, 'gone': False, 'spars': False, 'datafram': False, 'nan': False, 'reduc': False, '\\\\~': False, 'mb': False, 'memori': False, 'almost': False, 'jr': False, 'gpa': False, 'except': False, 'al': False, 'anyway': False, 'static': False, 'ideal': False, 'cut': False, 'claim': False, 'mba': False, 'super': False, 'daili': False, 'youtub': False, 'watch': False, 'v': False, 'n7p6xneckj0': False, 'encourag': False, 'inde': False, 'reimburs': False, 'intend': False, 'numpi': False, 'tensorflow': False, 'payment': False, 'nudg': False, 'influenc': False, 'behavior': False, 'combin': False, 'gender': False, 'incom': False, '_price': False, 'rang': False, 'x1': False, 'x2': False, 'x3': False, 'either': False, 'store': False, '35': False, '==': False, 'calibr': False, 'sklearn': False, 'binari': False, 'belong': False, 'diagnost': False, 'awar': False, 'plug': False, 'automat': False, 'strength': False, 'weak': False, 'standard': False, 'human': False, 'behaviour': False, 'car': False, 'narrat': False, 'respons': False, 'hybrid': False, 'volum': False, 'bs': False, '.](': False, 'scope': False, 'hottest': False, 'aim': False, 'readi': False, 'mid': False, 'worth': False, 'udemi': False, 'reconcil': False, 'unreli': False, 'lost': False, 'aggreg': False, 'logic': False, 'assumpt': False, 'got': False, 'fit': False, 'pure': False, 'tedious': False, 'task': False, 'expect': False, 'promot': False, 'fine': False, 'fun': False, 'tend': False, 'hat': False, 'mysql': False, 'bunch': False, 'pass': False, 'fail': False, 'id': False, '(),': False, 'interv': False, '24': False, ')**': False, 'enterpris': False, 'buzzword': False, 'ceo': False, 'churn': False, 'risk': False, 'bokeh': False, 'altair': False, 'fanci': False, 'express': False, 'beauti': False, 'instal': False, 'export': False, 'embed': False, 'html': False, 'jpg': False, 'summar': False, 'medium': False, 'doc': False, 'previous': False, 'numer': False, 'nltk': False, 'extract': False, 'challeng': False, 'matrix': False, 'disappoint': False, 'cannot': False, 'mod': False, 'sub': False, 'delet': False, 'explicit': False, 'bachelor': False, 'consider': False, 'passion': False, 'afraid': False, ':**': False, 'inclin': False, 'wet': False, 'lab': False, 'fall': False, 'note': False, 'subject': False, 'enrol': False, 'account': False, 'exposur': False, 'institut': False, 'edg': False, 'professor': False, 'lack': False, 'german': False, 'imposs': False, 'afford': False, 'fli': False, 'germani': False, 'buddi': False, '(\\\\~': False, '80': False, 'consequ': False, 'die': False, '?\"': False, '.)': False, 'portal': False, 'fill': False, 'bright': False, 'enabl': False, 'mlop': False, 'hudi': False, 'git': False, 'logicalclock': False, 'credit': False, 'showcas': False, 'matplotlib': False, 'seaborn': False, 'display': False, 'linkedin': False, 'download': False, 'kaggl': False, 'worthi': False, 'editor': False, 'round': False, 'bother': False, 'load': False, 'generat': False, 'proprietari': False, 'piec': False, 'ton': False, '!?': False, 'column': False, 'plain': False, 'extens': False, 'mac': False, 'app': False, 'jakob': False, 'tabletool': False, 'tablecrunch': False, 'spreadsheet': False, 'option': False, 'string': False, 'mix': False, 'integ': False, 'singapor': False, 'water': False, 'dsaid': False, 'govtech': False, 'a0b899afe601': False, 'climb': False, 'latter': False, 'entri': False, 'dci': False, 'sheet': False, 'gather': False, 'recap': False, 'championship': False, 'disabl': False, 'java': False, 'dev': False, 'grab': False, 'covid': False, '19': False, 'infect': False, 'scrap': False, 'otherwis': False, 'absolut': False, 'explan': False, 'survey': False, 'reflect': False, 'orang': False, 'juic': False, 'breakfast': False, 'texa': False, '%),': False, 'north': False, 'carolina': False, '20': False, 'florida': False, 'netflix': False, 'movi': False, '15': False, 'individu': False, 'air': False, 'forc': False, 'descript': False, 'formul': False, 'determin': False, 'unknown': False, 'methodolog': False, '.**': False, 'trade': False, 'off': False, 'driven': False, 'assess': False, 'strateg': False, 'tactic': False, 'space': False, 'intel': False, 'cyber': False, 'personnel': False, '.).': False, 'maker': False, 'incorpor': False, 'expert': False, 'stakehold': False, 'ensur': False, 'broad': False, 'construct': False, 'experiment': False, 'interpret': False, 'brief': False, 'cogniz': False, 'scientif': False, 'draw': False, 'expertis': False, 'rigor': False, 'timelin': False, 'enhanc': False, 'object': False, 'desir': False, 'primarili': False, 'accomplish': False, 'center': False, 'militari': False, 'evid': False, 'alloc': False, 'mission': False, 'cross': False, 'staff': False, 'supervis': False, 'execut': False, 'design': False, 'artifici': False, 'intellig': False, 'stochast': False, 'polit': False, 'ba': False, 'social': False, 'grade': False, 'american': False, 'typograph': False, 'digit': False, 'miss': False, 'repeat': False, 'difficult': False, 'believ': False, 'element': False, 'geograph': False, 'closest': False, 'flag': False, 'ultim': False, 'sr': False, 'spoke': False, 'five': False, '16': False, 'rais': False, 'loan': False, 'debt': False, 'land': False, '?**': False, 'repli': False, 'broken': False, 'screw': False, 'respond': False, '...?': False, 'ident': False, '):': False, 'latest': False, 'deeper': False, 'grow': False, 'extent': False, 'wast': False, 'sentenc': False, 'clearer': False, 'appar': False, '32': False, 'stuck': False, 'unemploy': False, 'difficulti': False, '2010': False, 'agent': False, 'mental': False, 'youth': False, 'mentorship': False, 'insur': False, 'hate': False, 'lambda': False, 'fascin': False, 'spent': False, 'main': False, 'massiv': False, 'acknowledg': False, 'commit': False, 'introductori': False, 'discuss': False, 'kera': False, 'transform': False, 'brunnei': False, 'erni': False, '60': False, 'warn': False, '\"?': False, 'often': False, 'forget': False, 'eda': False, '150': False, 'messi': False, 'slowli': False, 'fix': False, 'probabilist': False, 'ensembl': False, 'quantil': False, 'feed': False, 'neo4j': False, 'templat': False, 'plagu': False, 'aiml': False, 'specifi': False, 'upper': False, 'tip': False, 'bigger': False, 'stronger': False, 'faster': False, 'dataiku': False, 'bias': False, 'dumb': False, ':)': False, 'heterogen': False, 'crosstab': False, 'convers': False, 'must': False, 'accommod': False, 'automl': False, 'kill': False, 'datarobot': False, 'redund': False, 'firm': False, 'creativ': False, 'laid': False, 'legal': False, 'bought': False, 'replac': False, 'hous': False, 'contract': False, '!!': False, 'udac': False, 'nanodegre': False, 'translat': False, 'robot': False, 'fleet': False, 'earlier': False, 'log': False, 'theoret': False, 'stanford': False, 'usag': False, 'sagemak': False, 'contain': False, 'algebra': False, 'calculus': False, 'uni': False, 'demonstr': False, 'obtain': False, 'frequenc': False, 'pdfs': False, 'liter': False, 'releas': False, 'exam': False, 'annual': False, 'staar': False, 'coach': False, 'masteri': False, 'vocabulari': False, 'three': False, 'tier': False, 'everyday': False, 'dog': False, 'ii': False, 'iii': False, 'throughout': False, 'gap': False, 'pictur': False, 'sketch': False, 'pdf': False, '?)': False, 'gov': False, 'paper': False, 'unclear': False, 'dynam': False, 'arxiv': False, '1902': False, '02236': False, 'lower': False, 'bound': False, 'defin': False, '_i': False, 'troubl': False, 'l': False, 'dollar': False, 'discret': False, 'hessian': False, 'decemb': False, 'begin': False, 'disregard': False, 'pre': False, 'titan': False, 'sentiment': False, 'boot': False, 'camp': False, 'instructor': False, 'median': False, 'fundament': False, 'propos': False, 'succes': False, 'unsucces': False, 'beyond': False, 'eg': False, 'employe': False, 'simpli': False, 'play': False, 'comparison': False, 'succ': False, 'w': False, 'coeffici': False, 'scikit': False, 'percept': False, 'realiti': False, '–': False, 'contact': False, 'earli': False, 'widen': False, 'bin': False, 'inaccur': False, 'vgxy2dh': False, 'ktwiopu': False, 'l7pkvjt': False, 'okay': False, 'stock': False, 'curriculum': False, 'road': False, 'presum': False, 'multivari': False, 'cover': False, 'letter': False, 'yes': False, 'axi': False, 'timeseri': False, 'guidelin': False, 'everywher': False, 'scan': False, 'stupid': False, 'minimum': False, 'symbol': False, 'unabl': False, 'cautious': False, 'pc': False, 'compat': False, 'mainstream': False, 'innov': False, 'bioengin': False, 'anxieti': False, 'smart': False, 'sat': False, 'grind': False, '39': False, 'concept': False, 'deriv': False, 'descent': False, 'formula': False, 'bare': False, '15min': False, 'fought': False, 'truli': False, 'push': False, 'diseas': False, 'pharmaceut': False, 'drug': False, 'aspect': False, 'fals': False, 'prize': False, 'satisfi': False, 'killer': False, 'crush': False, 'none': False, 'balanc': False, '\".': False, 'pm': False, '->': False, 'within': False, 'desper': False, '!!!': False, 'women': False, 'strict': False, 'css': False, 'js': False, 'javascript': False, 'subscrib': False, 'author': False, 'proper': False, 'secret': False, 'planner': False, 'raw': False, '12': False, 'capac': False, 'vacat': False, 'ill': False, 'upvot': False, 'kotartemiy': False, 'newscatch': False, 'sign': False, 'up': False, 'beta': False, '1k': False, 'newscatcherapi': False, '99': False, 'newsapi': False, 'moreov': False, 'cheaper': False, '/@': False, 'explain': False, 'failur': False, 'amp': False, ';#': False, 'z': False, 'architectur': False, 'mainten': False, 'dirti': False, 'gcp': False, 'discoveri': False, 'rapidapi': False, '/).': False, 'issu': False, 'rapid': False, 'marketplac': False, 'fee': False, 'opposit': False, 'bill': False, 'hobbi': False, 'event': False, 'serverless': False, 'trigger': False, 'batch': False, 'perman': False, 'spin': False, 'cloudcraft': False, 'orchestr': False, 'rss': False, 'dynamodb': False, 'sqs': False, 'md5': False, 'ddb': False, 'insert': False, 'elasticsearch': False, 'hundr': False, 'parallel': False, 'dynamo': False, 'db': False, 'maintain': False, 'heart': False, 'index': False, 'therefor': False, 'crash': False, 'backup': False, 'till': False, 'copi': False, 'court': False, 'hiq': False, 'feasibl': False, 'divis': False, 'seen': False, 'succeed': False, 'deepnot': False, 'colab': False, '3rd': False, 'parti': False, 'overcom': False, 'buffer': False, 'trivial': False, 'upgrad': False, 'patienc': False, 'workstat': False, 'amd': False, 'exploratori': False, 'row': False, 'partit': False, 'core': False, 'devot': False, 'swap': False, 'trial': False, 'systemat': False, 'rule': False, 'announc': False, 'stellargraph': False, 'art': False, 'deliv': False, 'csiro': False, 'data61': False, 'dramat': False, 'v0': False, 'graphsag': False, 'node': False, 'occur': False, 'simul': False, 'neighbourhood': False, 'bug': False, 'demo': False, 'infer': False, 'refactor': False, 'cleaner': False, 'extend': False, 'datastructur': False, 'usa': False, 'northwestern': False, 'util': False, 'glassdoor': False, 'stackexchang': False, 'commut': False, 'guidanc': False, 'minim': False, 'drive': False, 'los': False, 'angel': False, 'violat': False, 'trick': False, 'washington': False, 'action': False, 'react': False, 'nativ': False, 'tf': False, 'android': False, 'scarc': False, 'codelab': False, 'throw': False, 'gaussian': False, 'guassian': False, '!)': False, 'kernel': False, 'f': False, '\\\\*': False, 'omdena': False, 'skype': False, 'incred': False, 'nervous': False, 'dear': False, 'corner': False, 'rug': False, 'eu': False, 'qualtric': False, 'jfe': False, 'chariti': False, 'inflat': False, 'worker': False, 'economi': False, 'equal': False, 'confer': False, 'aiforgood': False, 'itu': False, 'int': False, 'sake': False, 'pl': False, 'tutor': False, 'demograph': False, 'organ': False, 'april': False, '3x': False, 'gpu': False, 'workplac': False, 'safeti': False, 'forefront': False, 'distinct': False, 'array': False, 'appear': False, 'startup': False, 'struggl': False, 'meaning': False, 'biggest': False, 'recogn': False, 'exercis': False, 'align': False, 'underpaid': False, 'establish': False, 'mine': False, 'intuit': False, 'crawl': False, 'breadth': False, 'svd': False, 'discov': False, 'lstms': False, 'attent': False, 'launch': False, 'microsoft': False, 'sirius': False, 'poznan': False, '/\\\\~': False, 'inf89721': False, 'seminarium': False, '_data': False, '_': False, 'dimens': False, 'jame': False, '\\\\(': False, '1d': False, '\\\\)': False, 'kate': False, 'append': False, 'handwritten': False, 'simplic': False, 'cell': False, '64': False, 'mark': False, '”.': False, '?](': False, 'shade': False, 'white': False, 'represent': False, '2d': False, 'worst': False, 'hunt': False, 'postgresql': False, 'sqlite': False, 'aerospac': False, 'manufactur': False, 'merit': False, 'dfphd': False, 'spoken': False, 'civil': False, 'aspir': False, 'ce': False, 'hydrolog': False, 'town': False, 'tinker': False, 'vision': False, 'cv': False, 'coursework': False, '.,': False, 'excit': False, 'hometown': False, 'somewhat': False, 'prestigi': False, 'credibl': False, 'switch': False, 'mind': False, 'valuabl': False, 'offlin': False, 'attend': False, 'suitabl': False, 'old': False, 'stackoverflow': False, 'effici': False, 'eli5': False, 'singl': False, 'john': False, 'hopkin': False, 'prescript': False, 'meta': False, 'latent': False, 'lake': False, 'latitud': False, 'disciplin': False, 'premis': False, 'literatur': False, 'sap': False, 'palo': False, 'alto': False, 'chicago': False, 'declin': False, 'nonetheless': False, 'wind': False, 'appeal': False, 'san': False, 'francisco': False, 'accru': False, 'faang': False, '.*': False, 'mindset': False, '*.': False, '80k': False, 'yr': False, 'domin': False, 'light': True, 'fulli': False, 'laugh': False, 'discourag': False, 'lock': False, 'panel': False, 'farther': False, 'shut': False, 'food': False, 'beverag': False, 'suppli': False, 'chain': False, 'rent': False, '900': False, 'rise': False, 'formal': False, 'accur': False, 'rstudio': False, 'apolog': False, 'accuraci': False, 'particl': False, 'perfect': True, 'chemic': False, 'slight': False, 'sophist': False, 'mentor': False, 'bottom': False, 'convinc': False, 'portfolio': False, 'treatment': False, 'cart': False, 'subgroup': False, 'hoc': False, 'jmlr': False, 'volume10': False, 'su09a': False, 'dummi': False, 'male': False, 'femal': False, 'encod': False, '2g': False, 'fs9q6z4m': False, 'onion': False, 'headlin': False, 'nottheonion': False, 'tough': False, 'pushshift': False, '87': False, 'valid': False, 'lukefeilberg': False, '3k': False, 'shap': False, 'tabular': False, 'precis': False, 'treeshap': False, 'approxim': False, 'agnost': False, 'sensit': False, 'evolv': False, 'v1': False, 'galleri': False, 'anaconda': False, 'upload': False, 'essenti': False, 'bash': False, 'miniconda': False, 'conda': False, 'zsh': False, 'shell': False, 'poster': False, 'wish': False, '300': False, 'touch': False, 'immedi': False, 'easiest': False, 'semi': False, 'frontend': False, 'loco': False, 'maximum': False, 'mile': False, 'locomot': False, 'substat': False, 'section': False, 'tale': False, 'genet': False, 'mutat': False, 'crossov': False, 'nois': False, 'podcast': False, 'addict': False, 'speaker': False, 'reticul': False, 'man': False, 'dtale': False, '```': False, \"('\": False, \"')\": False, '<-': False, 'df': False, 'subprocess': False, 'open_brows': False, 'block': False, 'consol': False, 'browser': False, 'print': False, 'dig': False, 'imbalanc': False, 'undersampl': False, 'ratio': False, 'suit': False, 'constraint': False, 'regular': False, 'ph': False, 'histori': False, 'newcom': False, '‘': False, 'leetcod': False, 'shop': False, 'bucket': False, 'necessarili': False, 'auxiliari': False, 'primari': False, 'atm': False, 'newbi': False, 'coordin': False, 'brainstorm': False, '·': False, 'vari': False, 'length': False, 'act': False, 'advisor': False, 'benchmark': False, 'novic': False, 'avenu': False, 'effort': False, 'groupbi': False, 'pyspark': False, 'argument': False, '<': False, 'lit': False, 'record_field': False, '],': False, \"['\": False, '],[': False, ',': False, 'sum': False, 'warehous': False, 'wareh': False, 'battl': True, 'pitch': False, 'browndata': False, 'feder': False, 'norm': False, 'central': False, 'entropi': False, 'diverg': False, 'sgd': False, 'param': False, 'svm': False, 'quadrat': False, 'rnn': False, '30k': False, 'favorit': False, 'indefinit': False, 'nda': False, 'shall': False, 'surviv': False, 'termin': False, 'concern': False, 'brought': False, 'info': False, 'restrict': False, '75k': False, '85k': False, 'branch': False, '65': False, 'adjust': False, '75': False, '20k': False, 'peer': False, 'attrit': False, 'dual': False, 'attach': False, 'parser': False, 'window': False, 'return': False, 'charact': False, '„': False, 'biostat': False, 'foot': False, 'door': False, 'fortun': False, 'manageri': False, 'nobodi': False, 'census': False, 'tract': False, 'geoid': False, '3000': False, 'led': False, 'subset': False, 'whenev': False, 'biologist': False, 'cultur': False, 'physicist': False, 'acceler': False, 'recal': False, 'molecular': False, 'entrepreneur': False, 'scale': False, 'standardscal': False, '()': False, 'gave': False, 'flask': False, 'towardsdatasci': False, '9cc3a690b9fd': False, '_link': False, 'sk': False, '16b528a96e0881beabcbc6649b8aa5fd': False, 'friends_link': False, 'desktop': False, 'mongodb': False, '/?': False, 'referralcod': False, '348a25e57f2654d3f0da': False, '2559': False, '23': False, 'feb': False, 'uniqu': False, 'lean': False, 'growth': False, 'director': False, 'half': False, 'tl': False, 'dr': False, 'clue': False, 'presenc': False, 'deliver': False, 'stone': False, 'afterward': False, 'lol': False, 'versus': False, 'ps': False, 'intens': False, 'unrel': False, 'phds': False, 'cheapli': False, 'corpor': False, 'sound': False, 'naiv': False, 'ol': False, 'complain': False, 'statsmodel': False, 'conveni': False, 'reinvent': False, 'wheel': False, 'throughput': False, 'noon': False, '6pm': False, 'yield': False, 'slice': False, 'heatmap': False, 'split': False, 'span': False, 'traffic': False, '👶': False, '👩\\u200d🎓': False, '🛠️': False, 'mse': False, 'fold': False, '1230818076578459649': False, 'f1': False, 'roc': False, 'auc': False, 'au': False, 'pr': False, 'l2': False, 'l1': False, 'da': False, 'houston': False, 'wife': False, 'south': False, 'henc': False, 'remot': False, 'myth': False, 'speak': False, 'principl': False, 'grasp': False, 'client': False, 'heavi': False, 'goe': False, 'stratascratch': False, 'colleagu': False, 'ten': False, 'production': False, '—': False, 'stack': False, 'peel': False, '78935a9258ca': False, 'critiqu': False, '40': False, '31': False, 'septemb': False, 'intent': False, 'textbook': False, 'apart': False, 'playbook': False, 'dp': False, 'ref': False, 'sr_1_1': False, 'qid': False, 'joh': False, 'jhu': False, 'mitopencoursewar': False, 'ocw': False, 'mit': False, '06': False, 'tear': False, 'electr': False, 'edx': False, 'prerequisit': False, 'usp': False, 'media': False, 'advertis': False, 'freedom': False, 'michigan': False, 'subscript': False, '....': False, 'tick': False, 'modul': False, 'capston': False, 'quizz': False, 'submiss': False, 'poor': False, 'laughabl': False, 'realis': False, 'finnicki': False, 'frustrat': False, 'strike': False, 'instruct': False, 'quiz': False, 'elsewher': False, 'glad': False, 'game': False, 'annoy': False, 'silli': False, 'expand': False, 'messag': False, 'offici': False, 'vice': False, 'versa': False, 'gigantum': False, 'dataquest': False, 'leader': False, 'py': False, 'collabor': False, 'learnt': False, 'alongsid': False, 'anymor': False, '!).': False, 'oreilli': False, 'ongo': False, 'equival': False, 'river': False, 'discharg': False, 'station': False, 'decreas': False, 'vein': False, 'reli': False, 'iter': False, 'realm': False, 'own': False, 'prioriti': False, 'threshold': False, 'latenc': False, 'odd': False, 'paradigm': False, 'gig': False, 'publish': False, '($': False, 'perk': False, 'asap': False, '200gb': False, 'ami': False, 'embarrass': False, '3gb': False, 'disk': False, 'ec2': False, 'ssd': False, 'slower': False, '**.': False, 'surpris': False, 'delay': False, 'correspond': False, 'pars': False, 'sensor': False, '.),': False, 'organoid': False, 'complic': False, 'among': False, 'apriori': False, 'cat': False, 'predictor': False, 'ex': False, 'tax': False, 'llc': False, 'preprocess': False, '_test': False, '_size': False, 'observ': False, 'variat': False, 'simpler': False, 'negat': False, '_dim': False, '_initi': False, \"='\": False, 'uniform': False, 'spec': False, '_train': False, '\\\\\\\\': False, 'epoch': False, '_weight': False, '=\\\\[': False, 'es': False, '\\\\],': False, '=(': False, 'imbal': False, 'dictionari': False, 'oversampl': False, 'longer': False, 'problemat': False, '0s': False, 'resampl': False, 'conflict': False, 'administr': False, 'dive': False, 'tidyvers': False, 'oracl': False, '1st': False, 'retail': False, 'monitor': False, 'profit': False, 'altruist': False, 'disclaim': False, 'oppos': False, 'sold': False, 'annot': False, 'consumpt': False, 'deviat': False, 'drastic': False, 'anova': False, 'clarifi': False, 'affluent': False, 'wealth': False, 'gis': False, 'revers': False, 'unsuperv': False, 'rbm': False, 'bernoullirbm': False, 'mnist': False, 'quantifi': False, 'stop': False, 'postgr': False, 'pii': False, 'hydrat': False, 'dealt': False, 'pd': False, 'hashlib': False, 'def': False, 'hl': False, 'faker': False, 'armi': False, 'commiss': False, 'readili': False, 'goarmi': False, '??': False, 'quot': False, 'danescu': False, 'niculescu': False, 'mizil': False, 'et': False, 'intrins': False, 'mdazmainamin': False, 'sauc': False, 'catchi': False, 'ff992c9cd2e3': False, 'flatiron': False, 'admit': False, 'scout': False, 'spam': False, 'coop': False, 'plural': False, 'sight': False, 'creation': False, 'met': False, 'optimis': False, 'tldr': False, 'econ': False, 'emphasi': False, 'weed': False, 'anxious': False, 'nerd': False, 'former': False, 'ladder': False, 'leadership': False, 'contributor': False, 'joke': False, 'alon': False, 'cri': False, 'occasion': False, 'golden': False, 'scatter': False, 'aforement': False, 'xgboost': False, 'nonlinear': False, 'min': False, '28': False, 'percentag': False, '21': False, '22': False, 'xxx': False, 'outlier': False, 'syntax': False, 'upsampl': False, 'wors': False, '1s': False, 'backlog': False, 'moral': False, 'stress': False, 'justifi': False, 'fintech': False, 'downtown': False, 'boston': False, 'cfa': False, 'charter': False, 'wesleyan': False, '2014': False, 'gold': False, '45am': False, 'coffe': False, 'admin': False, '3pm': False, 'lunch': False, 'slack': False, 'tire': False, 'wav': False, 'storag': False, 's3': False, 'metadata': False, 'heroku': False, 'ocean': False, 'narrow': False, 'strang': False, 'agenc': False, 'listen': False, 'powerpoint': False, 'mvp': False, 'upset': False, 'ive': False, 'manner': False, 'diagram': False, 'willing': False, 'feet': False, 'volunt': False, 'quantum': False, 'toronto': False, 'hub': False, 'trap': False, 'flaw': False, 'kinda': False, 'dax': False, 'engag': False, 'mnc': False, 'mini': False, 'soft': False, 'maxim': False, 'basketbal': False, 'trajectori': False, 'speed': False, '400': False, 'compromis': False, 'disprov': False, 'earth': False, 'c01': False, 'rotat': False, 'descend': False, '`.': False, 'dat_rot0': False, '@': False, 'dat_out': False, '[:,': False, 'dat_subset': False, ':]': False, 'np': False, 'yeah': False, 'walkthrough': False, 'screencast': False, 'david': False, 'robinson': False, 'audio': False, 'mu': False, 'sigma': False, 'preset': False, 'impedi': False, 'el': False, 'fluenci': False, 'mis': False, 'voic': False, 'africa': False, 'recognit': False, 'caution': False, 'budget': False, '5k': False, 'commerc': False, 'realist': False, 'ab': False, 'envelop': False, 'scipi': False, 'matur': False, 'qa': False, 'leap': False, 'crack': False, 'clever': False, 'stink': False, 'reader': False, '1bo': False, 'f3m7deu6srshsuax7geuvwsqr65ghz2fe4atcfio': False, 'unrealist': False, 'divers': False, 'patent': False, 'america': False, 'redshift': False, 'transact': False, 'ect': False, 'cheap': False, '**:': False, 'propens': False, 'procedur': False, 'aerial': False, 'dl': False, 'footag': False, 'syncedreview': False, 'nosql': False, 'mode': False, 'reveal': False, 'caught': False, '\"...': False, 'vagu': False, 'hide': False, 'curs': False, '00': False, 'wrap': False, 'cheat': False, 'ce8yit': False, 'noob': False, 'digress': False, 'california': False, 'doabl': False, 'nbsp': False, 'archiv': False, 'schema': False, 'ptratio': False, 'rm': False, 'y2': False, '\\\\].': False, '_model': False, '_2': False, '_sq': False, '_hous': False, 'knew': False, 'night': False, 'e47b55c95c19e0e1b0b4': False, 'cityofnewyork': False, 'dohmh': False, 'restaur': False, 'inspect': False, '43nn': False, 'pn8j': False, 'venturebeat': False, 'ee': False, 'alot': False, 'electron': False, 'kurtosi': False, '`(': False, 'bimod': False, '[\\\\(': False, '\\\\)](': False, 'pow': False, 'triplebyt': False, 'layout': False, 'supervisor': False, 'btw': False, 'leg': False, 'pyplot': False, '\",\"': False, 'lifest': False, 'adult': False, 'larva': False, 'nymph': False, 'lifestag': False, 'crap': False, 'pjpg': False, 'practition': False, 'member': False, 'loop': False, 'conquer': False, 'stabl': False, 'session': False, 'cant': False, '_1': False, '”?': False, 'ipython': False, 'folder': False, 'seven': False, 'timestamp': False, 'nation': False, 'forum': False, 'lesson': False, 'june': False, '2017': False, 'biomed': False, 'markov': False, 'meti': False, 'textual': False, 'primer': False, '.?': False, 'aaai': False, 'hinton': False, 'lecun': False, 'bengio': False, 'uc': False, 'debat': False, 'prereq': False, 'informat': False, 'lightweight': False, 'inspiron': False, '7000': False, 'chemistri': False, 'berkley': False, 'mooc': False, 'streamlit': False, 'na': False, 'cancer': False, 'patient': False, '\\\\*\\\\*': False, 'grown': False, 'alibaba': False, 'baidu': False, 'vaccin': False, 'sar': False, 'mer': False, 'clinic': False, 'virus': False, 'learnpython': False, 'dist': False, '((': False, 'pi': False, 'exp': False, 'xdist': False, 'mean_below': False, 'quad': False, 'inf': False, 'arg': False, '))[': False, 'combo': False, 'spreader': False, 'birst': False, 'ppc': False, 'campaign': False, 'secur': False, 'backtest': False, 'other_column': False, 'tsa': False, 'stattool': False, 'fellow': False, '\\\\^': False, 'ncov': False, 'ncovinfo': False, 'loom': False, 'e5636538a59f44acbe8d5b54ee9d6653': False, 'china': False, 'toggl': False, 'young': False, 'revis': False, 'bioinformat': False, 'ubuntu': False, 'linux': False, 'os': False, '09': False, 'medicin': False, 'regret': False, 'physician': False, '07': False, 'famous': False, 'clearanc': False, 'despit': False, 'fellowship': False, 'f500': False, 'roast': False, 'datetim': False, 'dt': False, 'hustl': False, 'sit': False, 'devop': False, 'nba': False, '02': False, 'radioact': False, '9481': False, 'dockerfil': False, 'specialist': False, 'year_month': False, 'units_ord': False, 'client_custom': False, 'dedic': False, 'enorm': False, 'cpu': False, 'ok': False, 'hell': False, 'gotta': False, 'accident': False, 'drag': False, 'blow': False, 'plasma': False, 'labor': False, 'donor': False, 'tie': False, 'banana': False, 'babi': False, '\"[': False, ')\",': False, 'br': False, 'stre': False, 'ethic': False, 'recip': False, 'reaction': False, 'lp': False, 'dot': False, 'harder': False, '254153': False, 'concret': False, 'cox': False, 'polynomi': False, '^': False, 'powerpl': False, 'increment': False, 'disney': False, 'discount': False, 'quantiti': False, 'merg': False, 'arima': False, 'ingredi': False, 'cuisin': False, 'basket': False, 'algo': False, '_payment': False, '?|': False, '|...|': False, '|<': False, 'intent1': False, '_answer1': False, '_question10': False, '>|': False, '_answer2': False, '_question1': False, '_answer50': False, '>|<': False, '>|...|': False, 'intent100': False, 'widget': False, 'button': False, 'press': False, 'hiplot': False, 'kuala': False, 'lumpur': False, 'fb': False, 'inspir': False, 'utm_sourc': False, 'utm_medium': False, 'leakag': False, 'lag': False, 'insan': False, '29': False, 'inequ': False, 'ir': False, 'soi': False, 'dolthub': False, '03': False, 'mr': False, 'elon': False, 'deadstock': False, 'chapter': False, 'meme': False, '3agsystem': False, 'chopper': False, 'edw': False, 'prohibit': False, 'profess': False, 'wuhan': False, 'immens': False, 'mlfinlab': False, 'readthedoc': False, 'feature_import': False, 'data_structur': False, 'codepend': False, 'fingerprint': False, 'sek': False, 'regardless': False, 'ae19c062e377': False, 'b2631256bcee7d33ab0155cc6ce77906': False, 'bellevu': False, 'ipynb': False, 'marketwatch': False, 'bowl': False, 'liv': False, 'roger': False, 'craig': False, 'chief': False, 'pragmat': False, 'fuel': False, 'xyz': False, '20or': False, '20graduat': False, '20junior': False, '20entri': False, '20intern': False, ')%': False, '20titl': False, '3adata': False, '20state': False, 'radius': False, 'fromag': False, 'vjk': False, '4f5305e65fe071cb': False, 'keyboard': False, 'hang': False, 'european': False, 'danger': False, 'dozen': False, 'shape': False, 'spit': False, 'img': False, 'union': False, 'bundl': False, 'recov': False, 'corrupt': False, 'tmp': False, 'workshop': False, 'kept': False, 'sf': False, 'triangl': False, 'poc': False, 'nbconvert': False, 'usabl': False, 'gcn': False, 'broader': False, 'imput': False, 'micerang': False, 'mice': False, 'farrellday': False, 'vlookup': False, 'splash': False, 'synthet': False, 'deepfak': False, 'virtual': False, 'avatar': False, 'paperspac': False, 'gym': False, 'criteria': False, 'silo': False, 'fare': False, 'pclass': False, 'amaz': False, 'uber': False, '7ba9ca95f4e3': False, 'reconstruct': False, 'doesnt': False, 'grate': False, 'databrick': False, 'academi': False, 'db105': False, 'ctf': False, 'ixperi': False, 'abroad': False, 'galligiuli': False, 'reddit_classifi': False, 'bigqueri': False, 'cruis': False, 'tour': False, 'newest': False, 'privileg': False, 'migrat': False, 'django': False, '70k': False, 'facilit': False, 'dwh': False, 'snowflak': False, 'nich': False, 'relearn': False, 'regex': False, 'nyc': False, 'configur': False, 'winter': False, 'lojipath': False, 'grave': False, 'pioneer': False, 'imdb': False, 'tt11023888': False, 'gene': False, '26': False, 'readabl': False, 'indian': False, 'résumé': False, 'loyalti': False, 'campus': False, 'devlop': False, 'lift': False, '3mm': False, 'cybercrim': False, '2k': False, 'b2b': False, 'transmiss': False, 'mpg': False, 'toyota': False, 'prius': False, 'corolla': False, '•': False, 'aurora': False, 'cabana': False, 'defraud': False, 'investor': False, 'freak': False, 'histogram': False, 'leaderboard': False, 'crime': False, 'geopanda': False, 'col': False, '4955bsd': False, 'dba': False, 'buis': False, 'hackerearth': False, 'wid': False, 'kde': False, 'atlanta': False, 'pathway': False, 'tb': False, 'bq': False, '10s': False, 'parquet': False, 'overhyp': False, 'stochasticprocess': False, 'nielsen': False, 'shipment': False, 'aapl': False, 'jm': False, 'uxzwmgz': False, 'camera': False, 'household': False, 'theguardian': False, 'xi': False, 'jinp': False, 'shithol': False, 'rater': False, 'cohort': False, 'eld2yp': False, 'greatexpect': False, 'counter': False, 'spoiler': True, 'becam': False, 'olenna': False, 'tyrel': False, 'daeneri': False, 'cosplay': False, 'belovedcosplay': False, 'pic': False, 'dani': False, 'birth': False, 'agot': False, 'hodor': False, 'tonight': False, 'pls': False, 'excus': False, 'sing': False, 'hype': False, 'theme': False, 'rhaenyra': False, 'targaryen': False, 'daemon': False, 'sister': False, 'artist': False, 'chillyravenart': False, 'scorpion': False, 'enemi': False, 'shoot': False, 'dragon': False, 'lannist': False, 'iron': False, 'sky': False, 'circl': False, 'attack': False, 'maester': False, 'fake': False, 'room': False, 'flexibl': False, 'rewatch': False, 'grey': False, 'worm': False, 'men': False, 'unsulli': False, 'protect': False, 'retreat': False, 'ship': False, 'dorn': False, 'horribl': False, 'ruin': False, 'greatest': False, 'doran': False, 'grrm': False, 'heir': False, 'quentyn': False, 'storylin': False, 'fuck': False, 'sent': False, 'ass': False, 'son': False, 'marriag': False, 'pact': False, 'danni': False, 'devast': False, 'winterfel': True, 'pod': False, 'tormund': False, 'davo': False, 'jaim': False, 'brienn': False, 'sam': False, 'fight': False, 'injur': False, 'carri': False, 'gut': False, 'punch': False, 'unexpect': False, 'death': False, 'stark': False, 'arya': False, 'belov': False, 'vulner': False, 'sansa': False, 'crypt': False, 'bran': False, 'godswood': False, 'jon': False, 'ride': False, 'rhaegal': False, 'confront': False, 'king': False, 'mormont': False, 'giant': False, 'defeat': False, 'robert': False, 'baratheon': False, 'successor': False, 'surround': False, 'kingdom': False, 'reign': False, 'westero': False, 'council': False, 'tommen': False, 'arryn': False, 'drama': False, 'drink': False, 'whore': False, 'hurt': False, 'war': False, 'ruler': False, 'joffrey': False, 'cersei': False, 'crown': False, 'throne': False, 'disagre': False, 'gryffindor': False, 'eddard': False, 'ned': False, 'catelyn': False, 'rob': False, 'snow': False, 'theon': False, 'greyjoy': False, 'jorah': False, 'hound': False, 'ygritt': False, 'gendri': False, 'tarth': False, 'daario': False, 'yara': False, 'reed': False, 'viseri': False, 'ramsay': False, 'bolton': False, 'osha': False, 'petyr': False, 'baelish': False, 'remind': False, 'melisandr': False, 'bronn': False, 'margaeri': False, 'tywin': False, 'drogo': False, 'gregor': False, 'clegan': False, 'euron': False, 'manc': False, 'hufflepuff': False, 'ravenclaw': False, 'rickon': False, 'toss': False, 'myrcella': False, 'robin': False, 'podrick': False, 'payn': False, 'raven': False, 'tyrion': False, 'samwel': False, 'tar': False, 'missandei': False, 'shireen': False, 'jojen': False, 'oberyn': False, 'martel': False, 'ser': False, 'reunit': False, '.....': False, 'adventur': False, 'epic': False, 'viserion': False, 'ice': False, 'wed': False, 'ep': False, 'knight': False, 'favourit': False, 'actor': False, 'fire': False, 'farewel': False, 'song': False, 'damn': False, 'scene': False, 'depress': False, 'tv': False, 'valar': False, 'morghuli': False, 'moradnejad': False, 'saga': False, 'funni': False, 'lora': False, 'sleev': False, 'calm': False, 'girlfriend': False, 'heartbroken': False, 'obsess': False, 'sad': False, 'nostalg': False, 'cast': False, 'emilia': False, 'sophi': False, 'maisi': False, 'famili': False, 'emot': False, 'goodby': False, 'documentari': False, 'ascent': False, 'grief': False, 'e9e691150a3': False, 'thrivework': False, 'showhol': False, 'blackfyr': False, 'valyrian': False, 'tattoo': False, 'god': False, 'skoro': False, 'gaomagon': False, 'ilon': False, 'ivestragon': False, 'se': False, 'jae': False, 'dothraki': False, 'halloween': False, '2016': False, 'thebrag': False, 'rain': False, 'castamer': False, 'lyric': False, 'parodi': False, 'whisper': False, 'quiet': False, 'anticip': False, 'bloodi': False, 'ancient': False, 'forgotten': False, 'propheci': False, 'boy': False, 'gonna': False, 'bless': False, 'neck': False, 'teeth': False, 'caster': False, 'rock': False, 'west': False, 'sea': False, 'traitor': False, 'rebel': False, 'seal': False, 'scream': False, 'march': False, 'mad': False, 'tournament': False, 'georg': False, 'martin': False, 'asoiaf': False, 'novella': False, 'blood': False, 'bridg': False, 'skull': False, 'wildl': False, 'dark': False, 'shot': False, 'priest': False, 'woman': False, 'knee': False, 'ladi': False, 'safe': False, 'stare': False, 'chest': False, 'dragonston': False, 'flame': False, 'castl': False, 'asshai': False, 'walker': False, 'jami': False, 'arc': False, 'guitar': False, 'doodl': False, 'spanish': False, 'green': False, 'aegon': False, 'conquest': False, 'lord': False, 'jaehaeri': False, 'epilogu': False, 'danc': False, 'resurrect': False, 'nope': False, 'brave': False, 'proud': False, 'arriv': False, 'burnt': False, 'bloodraven': False, 'naomimakesart': False, 'fanart': False, 'barristan': False, 'mountain': False, 'selmi': False, 'pathfind': False, 'sandor': False, 'foto_basni': False, 'empti': False, 'pain': False, 'aliv': False, 'deserv': False, 'mess': False, 'impli': False, 'honor': False, 'tulli': False, 'garisson': False, 'peter': False, 'lena': False, 'piss': False, 'spoil': False, 'doubt': False, 'embroideri': False, 'portrait': False, 'celebr': False, 'bodi': False, 'thorn': False, '13': False, 'laps': False, 'italian': False, 'betray': False, 'sweet': False, 'child': False, 'sept': False, 'overtak': False, 'bear': False, 'murder': False, 'baelor': False, 'rumour': False, 'wild': False, 'parad': False, 'tavern': False, 'street': False, 'marri': False, 'queen': False, 'shame': False, 'highgarden': False, 'royal': False, 'guard': False, 'greater': False, 'kidnap': False, 'loath': False, 'foreign': False, 'clip': False, 'artwork': False, 'religion': False, 'christma': False, 'paint': False, 'wanna': False, 'scare': False, 'music': True, 'ary': False, 'spell': False, 'tortur': False, 'legit': False, 'jori': False, 'foreshadow': False, 's1': False, 's8': False, 'hero': False, 'protagonist': False, 'storytel': False, 'unfold': False, 'cousin': False, 'wolf': False, 'ghost': False, 'clash': False, 'de': False, 'juego': False, 'trono': False, '*,': False, 'oath': False, 'la': False, 'noch': False, 'mi': False, 'guardia': False, 'tomaré': False, 'esposa': False, 'llevaré': False, 'corona': False, 'soy': False, 'que': False, 'archaic': False, 'tens': False, 'cristina': False, 'xataka': False, 'entrevista': False, 'macia': False, 'traductora': False, 'llevaba': False, 'planificado': False, '1995': False, 'hubiera': False, 'dado': False, 'mano': False, 'saberlo': False, 'ant': False, 'writer': False, 'sculpt': False, 'weapon': False, 'sack': False, 'born': False, 'bypass': False, 'blackwat': False, 'bell': False, 'interrupt': False, 'drogon': False, 'hardhom': False, 'servant': False, 'glass': False, 'sword': False, 'swing': False, 'spear': False, 'longclaw': False, 'valerian': False, 'steal': False, 'steel': False, 'magic': False, 'underr': False, 'arm': False, 'bastard': False, 'witcher': False, 'badass': False, 'gle': False, 'gfxq1zxyfyae74oe7': False, 'boxset': False, 'retrospect': False, 'beg': False, 'rush': False, 'storm': False, 'holi': False, 'haha': False, 'wake': False, 'shock': False, 'feast': False, 'crow': False, 'pate': False, 'stolen': False, 'jaqen': False, 'h': False, 'gar': False, 'alchemist': False, 'crimin': False, 'drew': False, 'girl': False, 'waif': False, 'faceless': False, 'ring': False, 'resembl': False, '__the': False, '→': False, 'renam': False, 'hobbit': False, 'shire': False, '__': False, 'frodo': False, 'aragorn': False, 'tower': False, 'mina': False, 'tirith': False, 'assault': False, 'mordor': False, 'sauron': False, 'pack': False, 'rohan': False, 'sieg': False, 'refus': False, 'gondor': False, 'brute': False, 'mount': False, 'destroy': False, 'butcher': False, 'innoc': False, 'civilian': False, 'ceremoni': False, 'soldier': False, 'villag': False, 'cliffhang': False, 'quest': False, 'liber': False, '.”': False, 'stab': False, 'hatr': False, 'redeem': False, 'ramsey': False, 'kiss': False, 'resent': False, 'sibl': False, '3d': False, 'puzzl': False, '1920': False, 'sigil': False, 'wallpap': False, 'watercolor': False, 'wine': False, 'qwu7rnc3gt8': False, 'loyalist': False, 'poison': False, 'dunk': False, 'duncan': False, 'tall': False, 'upcom': False, 'trip': False, 'egg': False, 'nymeria': False, 'wyman': False, 'aenor': False, '250': False, 'cerwyn': False, 'selwyn': False, 'daughter': False, 'wyli': False, 'father': False, 'dad': False, 'chronolog': False, 'rr': False, 'fiction': False, 'blade': False, 'bark': False, 'dracari': False, 'justic': False, 'pet': False, '].': False, 'meant': False, 'rhaegar': False, 'azor': False, 'ahai': False, 'sooo': False, 'wight': False, 'tho': False, 'film': False, 'fell': False, 'robb': False, 'pregnant': False, 'traumat': False, 'shake': False, 'wander': False, 'altogeth': False, 'diana': False, 'rigg': False, 'orchestra': False, 'novel': False, 'entertain': False, 'controversi': False, 'huh': False, 'dialogu': False, 'forgot': False, 'wood': False, 'beast': False, 'banner': False, 'color': False, 'mother': False, 'darker': False, 'burn': False, 'amplifi': False, 'twist': False, 'genocid': False, 'trauma': False, 'rampag': False, 'slaughter': False, 'escap': False, 'irrat': False, 'massacr': False, 'sadist': False, 'atroc': False, 'stanni': False, 'destruct': False, 'suffer': False, 'shown': False, 'utter': False, 'faith': False, 'punish': False, 'treason': False, 'tyrant': False, 'prison': False, 'escort': False, 'dire': False, 'loyal': False, 'cinemat': False, 'recut': False, 'august': False, '1996': False, 'westerosi': False, 'sequel': False, 'disc': False, 'brother': False, 'piano': False, 'longest': False, 'resolut': False, 'sir': False, 'corps': False, 'defend': False, 'armor': False, 'undead': False, 'that': False, 'nk': False, 'hors': False, 'necrom': False, 'dragonglass': False, 'wolv': False, 'mammoth': False, 'bird': False, 'pincer': False, 'throat': False, 'arrow': False, 'damag': False, 'spray': False, 'sharp': False, 'blind': False, 'swarm': False, 'solo': False, 'claw': False, 'peck': False, 'ironborn': False, 'wws': False, 'knock': False, 'visibl': False, 'specul': False, 'warrior': False, 'flight': False, 'inner': False, 'fallen': False, 'buri': False, 'flee': False, 'wound': False, 'dagger': False, 'rose': False, 'sneak': False, 'edd': False, 'urin': False, 'beric': False, 'shes': False, 'ww': False, 'didnt': False, 'snap': False, 'defens': False, 'northern': False, 'vale': False, 'trident': False, 'riverland': False, 'riverrun': False, 'harrenh': False, 'cersai': False, 'westerland': False, 'mediev': False, 'starv': False, 'stormland': False, 'prepair': False, 'savag': False, 'carnag': False, 'cold': False, 'lone': False, 'debri': False, 'alter': False, 'zombi': False, 'helmet': False, 'dialog': False, 'cleganebowl': False, 'stranger': False, 'worn': False, 'held': False, 'friday': False, 'griev': False, 'heritag': False, 'island': False, 'declar': False, 'allianc': False, 'collaps': False, 'behead': False, 'lieg': False, 'invad': False, 'metaphor': False, 'fulfil': False, ');': False, 'compel': False, 'faction': False, 'edmur': False, 'princ': False, 'pardon': False, 'ariann': False, 'talla': False, 'fate': False, 'exil': False, 'law': False, 'grubbi': False, '1rws0danmbhvilxadcoj5phsbdcwnd': False, 'ru': False, 'twow': False, 'coolest': False, 'be': False, 'watcher': False, 'tini': False, 'tribe': False, '…': False, 'purpl': False, 'walder': False, 'frey': False, 'cercei': False, 'blew': False, 'trail': False, 'lover': False, 'brutal': False, 'direwolv': False, 'sidelin': False, 'direwolf': False, 'fist': False, 'greywind': False, 'warg': False, 'wont': False, 'shaggydog': False, 'reveng': False, 'hinder': False, 'sacrific': False, 'useless': False, 'idk': False, 'ik': False, 'poetic': False, 'bing': False, 'dislik': False, 'kl': False, 'icon': False, 'hypocrisi': False, 'volanti': False, 'creator': False, 'soundtrack': False, 'ramin': False, 'djawadi': False, 'instagram': False, 'leather': False, 'faux': False, 'pocket': False, 'paperback': False, 'valentin': False, 'alysann': False, 'flower': False, 'surnam': False, 'parent': False, 'stepston': False, 'climat': False, '66': False, 'shield': False, 'mystic': False, 'coalit': False, 'illustr': False, 'basebal': False, 'leagu': False, 'yahoo': False, 'fantasysport': False, 'b1': False, '8624': False, '9cb76dd111e68654': False, 'lnk': False, 'ikey': False, '886d9fb9a075459c': False, 'hbo': False, 'captur': False, 'swim': False, 'festiv': False, 'wildfir': False, 'melisandra': False, 'garbag': False, 'gray': False, 'mourn': False, 'harbor': False, 'aria': False, 'ha': False, 'imo': False, 'syrio': False, 'concert': False, '\\\\/': False, 'immeasur': False, 'melt': False, 'quora': False, 'ryan': False, 'william': False, '112': False, 'ch': False, '4807ba28': False, 'srid': False, 'f9p3': False, 'bitch': False, 'breaker': False, 'repost': False, 'til': False, 'tryion': False, 'ration': False, 'rape': False, 'dwarf': False, 'joanna': False, 'bigot': False, 'societi': False, 'wheelchair': False, 'milit': False, 'definet': False, 'spectacular': False, 'littlefing': False, 'blah': False, 'boar': False, 'angri': False, 'toilet': False, 'brilliant': False, 'tone': False, 'twd': False, 'talisa': False, 'jaw': False, 'floor': False, 'loos': False, 'payoff': False, 'dawn': False, 'lightbring': False, 'veng': False, 'wink': False, 'stomach': False, 'shoulder': False, 'aeri': False, 'nissa': False, 'lay': False, 'incest': False, 'monster': False, 'pencil': False, 'myr': False, 'kraken': False, 'grace': False, ',”': False, 'cruel': False, 'fantheori': False, 'portray': False, 'isolationist': False, 'tendenc': False, 'whatsoev': False, 'award': False, ';)': False, 'nors': False, 'ppl': False, 'warden': False, 'rage': False, '😁': False, 'greet': False, 'cake': False, 'sick': False, 'abus': False, 'superb': False, 'playlist': False, 'lego': False, 'ivar': False, '6k': False, 'raid': False, 'ragnar': False, 'flay': False, 'heathen': False, 'combat': False, 'captiv': False, 'infograph': False, 's7': False, 's7e4': False, 'arrowhead': False, 'fandom': False, 'gillen': False, 'crippl': False, 'rescu': False, 'asid': False, 'argu': False, 'pilot': False, 'remak': False, '>!': False, '?!<': False, 'shane': False, 'braavo': False, 'subtl': False, 'equip': False, 'wun': False, 'plate': False, 'trebuchet': False, 'breakdown': True, 'gruesom': False, 'deni': False, 'elev': False, 'regim': False, 'promin': False, 'rebellion': False, 'unifi': False, 'copic': False, 'reunion': False, 'squir': False, 'unjustifi': False, 'swordsman': False, 'pontoon': False, 'alli': False, 'imax': False, 'soundcloud': False, 'brock': False, 'fransen': False, 'wield': False, 'dept': False, 'finn': False, 'jone': False, 'imprison': False, '/.': False, 'gang': False, 'cage': False, 'swordman': False, 'pinterest': False, 'worldcon': False, 'zealand': False, 'kmfo5s6uuqu': False, 'accid': False, 'gc': False, 'east': False, 'pov': False, 'pretend': False, 'gotbeyondwal': False, 'obsidian': False, 'knap': False, 'lothar': False, 'cadet': False, 'discord': False, 'rp': False, 'gg': False, 't7hjh57': False, 'anderfj': False, 'monologu': False}\n"
     ]
    }
   ],
   "source": [
    "print(prepared_data[100])"
   ]
  },
  {
   "cell_type": "markdown",
   "metadata": {},
   "source": [
    "# Step 5: Data analysis"
   ]
  },
  {
   "cell_type": "code",
   "execution_count": 99,
   "metadata": {},
   "outputs": [],
   "source": [
    "classifier = nltk.NaiveBayesClassifier.train(train)"
   ]
  },
  {
   "cell_type": "code",
   "execution_count": 100,
   "metadata": {},
   "outputs": [
    {
     "data": {
      "text/plain": [
       "0.9627118644067797"
      ]
     },
     "execution_count": 100,
     "metadata": {},
     "output_type": "execute_result"
    }
   ],
   "source": [
    "nltk.classify.accuracy(classifier, test)"
   ]
  },
  {
   "cell_type": "code",
   "execution_count": 101,
   "metadata": {
    "scrolled": true
   },
   "outputs": [
    {
     "name": "stdout",
     "output_type": "stream",
     "text": [
      "              |       g |\n",
      "              |       a |\n",
      "              |   d   m |\n",
      "              |   a   e |\n",
      "              |   t   o |\n",
      "              |   a   f |\n",
      "              |   s   t |\n",
      "              |   c   h |\n",
      "              |   i   r |\n",
      "              |   e   o |\n",
      "              |   n   n |\n",
      "              |   c   e |\n",
      "              |   e   s |\n",
      "--------------+---------+\n",
      "  datascience |  <4> 96 |\n",
      "gameofthrones |   .<100>|\n",
      "--------------+---------+\n",
      "(row = reference; col = test)\n",
      "\n"
     ]
    }
   ],
   "source": [
    "classified_data = classifier.classify_many(prepared_holdout_data)\n",
    "cm = nltk.ConfusionMatrix(holdout_data_labels, classified_data)\n",
    "print(cm)"
   ]
  },
  {
   "cell_type": "code",
   "execution_count": 116,
   "metadata": {},
   "outputs": [
    {
     "name": "stdout",
     "output_type": "stream",
     "text": [
      "Most Informative Features\n",
      "                 charact = True           gameof : datasc =     49.2 : 1.0\n",
      "                 project = True           datasc : gameof =     31.7 : 1.0\n",
      "                  episod = True           gameof : datasc =     30.2 : 1.0\n",
      "                    game = True           gameof : datasc =     24.6 : 1.0\n",
      "                   battl = True           gameof : datasc =     23.1 : 1.0\n",
      "                    kill = True           gameof : datasc =     21.0 : 1.0\n",
      "                  experi = True           datasc : gameof =     20.6 : 1.0\n",
      "                  season = True           gameof : datasc =     19.9 : 1.0\n",
      "                    wall = True           gameof : datasc =     19.6 : 1.0\n",
      "                     job = True           datasc : gameof =     18.4 : 1.0\n",
      "                     fan = True           gameof : datasc =     18.4 : 1.0\n",
      "                   north = True           gameof : datasc =     18.4 : 1.0\n",
      "                 dataset = True           datasc : gameof =     17.4 : 1.0\n",
      "               recommend = True           datasc : gameof =     17.4 : 1.0\n",
      "                    busi = True           datasc : gameof =     15.9 : 1.0\n",
      "                   learn = True           datasc : gameof =     15.2 : 1.0\n",
      "                   month = True           datasc : gameof =     14.8 : 1.0\n",
      "                 predict = True           datasc : gameof =     14.8 : 1.0\n",
      "                    team = True           datasc : gameof =     14.8 : 1.0\n",
      "                    dead = True           gameof : datasc =     14.8 : 1.0\n",
      "None\n"
     ]
    }
   ],
   "source": [
    "print(classifier.show_most_informative_features(20))"
   ]
  },
  {
   "cell_type": "markdown",
   "metadata": {},
   "source": [
    "### Decision Tree"
   ]
  },
  {
   "cell_type": "code",
   "execution_count": 112,
   "metadata": {},
   "outputs": [
    {
     "data": {
      "text/plain": [
       "1.0"
      ]
     },
     "execution_count": 112,
     "metadata": {},
     "output_type": "execute_result"
    }
   ],
   "source": [
    "classifier2 = nltk.DecisionTreeClassifier.train(train)\n",
    "nltk.classify.accuracy(classifier2, test)"
   ]
  },
  {
   "cell_type": "code",
   "execution_count": 113,
   "metadata": {},
   "outputs": [
    {
     "name": "stdout",
     "output_type": "stream",
     "text": [
      "              |       g |\n",
      "              |       a |\n",
      "              |   d   m |\n",
      "              |   a   e |\n",
      "              |   t   o |\n",
      "              |   a   f |\n",
      "              |   s   t |\n",
      "              |   c   h |\n",
      "              |   i   r |\n",
      "              |   e   o |\n",
      "              |   n   n |\n",
      "              |   c   e |\n",
      "              |   e   s |\n",
      "--------------+---------+\n",
      "  datascience |<100>  . |\n",
      "gameofthrones |   .<100>|\n",
      "--------------+---------+\n",
      "(row = reference; col = test)\n",
      "\n"
     ]
    }
   ],
   "source": [
    "classified_data2 = classifier2.classify_many(prepared_holdout_data)\n",
    "cm = nltk.ConfusionMatrix(holdout_data_labels, classified_data2)\n",
    "print(cm)"
   ]
  },
  {
   "cell_type": "code",
   "execution_count": 115,
   "metadata": {},
   "outputs": [
    {
     "name": "stdout",
     "output_type": "stream",
     "text": [
      "if spoiler == False: return 'datascience'\n",
      "if spoiler == True: return 'gameofthrones'\n",
      "\n"
     ]
    }
   ],
   "source": [
    "print(classifier2.pseudocode(depth=6))"
   ]
  }
 ],
 "metadata": {
  "kernelspec": {
   "display_name": "Python 3",
   "language": "python",
   "name": "python3"
  },
  "language_info": {
   "codemirror_mode": {
    "name": "ipython",
    "version": 3
   },
   "file_extension": ".py",
   "mimetype": "text/x-python",
   "name": "python",
   "nbconvert_exporter": "python",
   "pygments_lexer": "ipython3",
   "version": "3.7.5"
  }
 },
 "nbformat": 4,
 "nbformat_minor": 4
}
